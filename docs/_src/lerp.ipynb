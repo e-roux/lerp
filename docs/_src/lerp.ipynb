{
 "cells": [
  {
   "cell_type": "code",
   "execution_count": 42,
   "metadata": {},
   "outputs": [
    {
     "name": "stdout",
     "output_type": "stream",
     "text": [
      "2017-04-23 11:59:32 \n",
      "\n",
      "CPython 3.6.1\n",
      "IPython 6.0.0\n",
      "\n",
      "numpy 1.12.1\n",
      "matplotlib 2.0.0\n",
      "pandas 0.19.2\n"
     ]
    }
   ],
   "source": [
    "%matplotlib inline\n",
    "%watermark -dtv -p numpy,matplotlib,pandas\n",
    "\n",
    "plt.style.use('ggplot')"
   ]
  },
  {
   "cell_type": "markdown",
   "metadata": {},
   "source": [
    "# Usage"
   ]
  },
  {
   "cell_type": "markdown",
   "metadata": {},
   "source": [
    "## mesh1d"
   ]
  },
  {
   "cell_type": "code",
   "execution_count": 47,
   "metadata": {
    "collapsed": true
   },
   "outputs": [],
   "source": [
    "A = mesh1d(data=[1.040, 1.051, 1.057, 1.063, 1.064, 1.067, 1.068, 1.068, 1.068, 1.066, 1.064,\n",
    "               1.060, 1.056, 1.050, 1.042, 1.032], label=\"Ballistic coefficient\", unit=\"G1\")"
   ]
  },
  {
   "cell_type": "code",
   "execution_count": 48,
   "metadata": {},
   "outputs": [
    {
     "data": {
      "text/html": [
       "<div><p><code>mesh1d</code><span>: </span><b>Ballistic coefficient</b><span> [G1]</span><br /><p><table style=\"border: 0px none;\"><tbody><tr style=\"border: 0px solid\"><th style=\"color: LightGrey;border:0px none;text-align:center;background:none;\">0</th><th style=\"color: LightGrey;border:0px none;text-align:center;background:none;\">1</th><th style=\"color: LightGrey;border:0px none;text-align:center;background:none;\">2</th><th style=\"color: LightGrey;border:0px none;text-align:center;background:none;\">3</th><th style=\"color: LightGrey;border:0px none;text-align:center;background:none;\">4</th><th style=\"color: LightGrey;border:0px none;text-align:center;background:none;\">5</th><th style=\"color: LightGrey;border:0px none;text-align:center;background:none;\">6</th><th style=\"color: LightGrey;border:0px none;text-align:center;background:none;\">7</th><th style=\"color: LightGrey;border:0px none;text-align:center;background:none;\">8</th><th style=\"color: LightGrey;border:0px none;text-align:center;background:none;\">9</th><th style=\"color: LightGrey;border:0px none;text-align:center;background:none;\">10</th><th style=\"color: LightGrey;border:0px none;text-align:center;background:none;\">11</th><th style=\"color: LightGrey;border:0px none;text-align:center;background:none;\">12</th><th style=\"color: LightGrey;border:0px none;text-align:center;background:none;\">13</th><th style=\"color: LightGrey;border:0px none;text-align:center;background:none;\">14</th><th style=\"color: LightGrey;border:0px none;text-align:center;background:none;\">15</th></tr><tr style=\"border: 0px solid\"><td>1.04</td><td>1.051</td><td>1.057</td><td>1.063</td><td>1.064</td><td>1.067</td><td>1.068</td><td>1.068</td><td>1.068</td><td>1.066</td><td>1.064</td><td>1.06</td><td>1.056</td><td>1.05</td><td>1.042</td><td>1.032</td></tr></tbody></table></p></p></div>"
      ],
      "text/plain": [
       "mesh1d(data=[ 1.04,  1.05,  1.06,  1.06,  1.06,  1.07,  1.07,  1.07,  1.07,\n",
       "        1.07,  1.06,  1.06,  1.06,  1.05,  1.04,  1.03], label=\"Ballistic coefficient\", unit=\"G1\")"
      ]
     },
     "execution_count": 48,
     "metadata": {},
     "output_type": "execute_result"
    }
   ],
   "source": [
    "A"
   ]
  },
  {
   "cell_type": "code",
   "execution_count": 49,
   "metadata": {},
   "outputs": [
    {
     "data": {
      "text/plain": [
       "[<matplotlib.lines.Line2D at 0x11821bcf8>]"
      ]
     },
     "execution_count": 49,
     "metadata": {},
     "output_type": "execute_result"
    },
    {
     "data": {
      "image/png": "[encoded data removed]",
      "text/plain": [
       "<matplotlib.figure.Figure at 0x114168320>"
      ]
     },
     "metadata": {},
     "output_type": "display_data"
    }
   ],
   "source": [
    "A.plot()"
   ]
  },
  {
   "cell_type": "markdown",
   "metadata": {},
   "source": [
    "## mesh2d"
   ]
  },
  {
   "cell_type": "markdown",
   "metadata": {},
   "source": [
    "From <a href=\"https://en.wikipedia.org/wiki/Ballistic_coefficient#The_transient_nature_of_bullet_ballistic_coefficients\">Ballistic coefficient</a> article in Wikipedia.\n",
    "\n",
    "Doppler radar measurement results for a lathe turned monolithic solid .50 BMG very-low-drag bullet (Lost River J40 13.0 millimetres (0.510 in), 50.1 grams (773 gr) monolithic solid bullet / twist rate 1:380 millimetres (15 in)) look like this:\n"
   ]
  },
  {
   "cell_type": "code",
   "execution_count": 13,
   "metadata": {
    "collapsed": true
   },
   "outputs": [],
   "source": [
    "BC = mesh2d(x=np.arange(500,2100,100), x_label=\"Range\", x_unit=\"m\",\n",
    "            y=[1.040, 1.051, 1.057, 1.063, 1.064, 1.067, 1.068, 1.068, 1.068, 1.066, 1.064,\n",
    "               1.060, 1.056, 1.050, 1.042, 1.032], y_label=\"Ballistic coefficient\", y_unit=\"G1\")"
   ]
  },
  {
   "cell_type": "code",
   "execution_count": 14,
   "metadata": {},
   "outputs": [
    {
     "data": {
      "text/html": [
       "<div><p><code>mesh2d</code><br /><p><table style=\"border: 0px none;\"><tbody><tr style=\"border: 0px solid\"><th style=\"border:0px none;background:none;\" /><th style=\"color: LightGrey;border:0px none;text-align:center;background:none;\">0</th><th style=\"color: LightGrey;border:0px none;text-align:center;background:none;\">1</th><th style=\"color: LightGrey;border:0px none;text-align:center;background:none;\">2</th><th style=\"color: LightGrey;border:0px none;text-align:center;background:none;\">3</th><th style=\"color: LightGrey;border:0px none;text-align:center;background:none;\">4</th><th style=\"color: LightGrey;border:0px none;text-align:center;background:none;\">5</th><th style=\"color: LightGrey;border:0px none;text-align:center;background:none;\">6</th><th style=\"color: LightGrey;border:0px none;text-align:center;background:none;\">7</th><th style=\"color: LightGrey;border:0px none;text-align:center;background:none;\">8</th><th style=\"color: LightGrey;border:0px none;text-align:center;background:none;\">9</th><th style=\"color: LightGrey;border:0px none;text-align:center;background:none;\">10</th><th style=\"color: LightGrey;border:0px none;text-align:center;background:none;\">11</th><th style=\"color: LightGrey;border:0px none;text-align:center;background:none;\">12</th><th style=\"color: LightGrey;border:0px none;text-align:center;background:none;\">13</th><th style=\"color: LightGrey;border:0px none;text-align:center;background:none;\">14</th><th style=\"color: LightGrey;border:0px none;text-align:center;background:none;\">15</th></tr><tr><td><b>Range</b><span> [m]</span></td><td>500</td><td>600</td><td>700</td><td>800</td><td>900</td><td>1000</td><td>1100</td><td>1200</td><td>1300</td><td>1400</td><td>1500</td><td>1600</td><td>1700</td><td>1800</td><td>1900</td><td>2000</td></tr><tr><td><b>Ballistic coefficient</b><span> [G1]</span></td><td>1.04</td><td>1.051</td><td>1.057</td><td>1.063</td><td>1.064</td><td>1.067</td><td>1.068</td><td>1.068</td><td>1.068</td><td>1.066</td><td>1.064</td><td>1.06</td><td>1.056</td><td>1.05</td><td>1.042</td><td>1.032</td></tr></tbody></table></p></p></div>"
      ],
      "text/plain": [
       "x = mesh1d(data=[ 500,  600,  700,  800,  900, 1000, 1100, 1200, 1300, 1400, 1500,\n",
       "       1600, 1700, 1800, 1900, 2000], label=\"Range\", unit=\"m\")\n",
       "y = mesh1d(data=[ 1.04,  1.05,  1.06,  1.06,  1.06,  1.07,  1.07,  1.07,  1.07,\n",
       "        1.07,  1.06,  1.06,  1.06,  1.05,  1.04,  1.03], label=\"Ballistic coefficient\", unit=\"G1\")"
      ]
     },
     "execution_count": 14,
     "metadata": {},
     "output_type": "execute_result"
    }
   ],
   "source": [
    "BC"
   ]
  },
  {
   "cell_type": "code",
   "execution_count": 15,
   "metadata": {},
   "outputs": [
    {
     "data": {
      "text/plain": [
       "[<matplotlib.lines.Line2D at 0x116cf2f98>]"
      ]
     },
     "execution_count": 15,
     "metadata": {},
     "output_type": "execute_result"
    },
    {
     "data": {
      "image/png": "[encoded data removed]",
      "text/plain": [
       "<matplotlib.figure.Figure at 0x1165952b0>"
      ]
     },
     "metadata": {},
     "output_type": "display_data"
    }
   ],
   "source": [
    "BC.plot()"
   ]
  },
  {
   "cell_type": "code",
   "execution_count": 16,
   "metadata": {},
   "outputs": [
    {
     "data": {
      "text/plain": [
       "1.065"
      ]
     },
     "execution_count": 16,
     "metadata": {},
     "output_type": "execute_result"
    }
   ],
   "source": [
    "BC(1450)"
   ]
  },
  {
   "cell_type": "markdown",
   "metadata": {},
   "source": [
    "<h3><code>.polyfit()</code>: how to get a <code>polymesh</code> object from discrete values</h3>"
   ]
  },
  {
   "cell_type": "code",
   "execution_count": 19,
   "metadata": {},
   "outputs": [
    {
     "data": {
      "image/png": "[encoded data removed]",
      "text/plain": [
       "<matplotlib.figure.Figure at 0x116c8c518>"
      ]
     },
     "metadata": {},
     "output_type": "display_data"
    }
   ],
   "source": [
    "BC.plot(\"+\", c=\"blue\")\n",
    "BC.polyfit(degree=2).plot(xlim=[500,2000])\n",
    "BC.polyfit(degree=4).plot(xlim=[500,2000], ylim=[1.02, 1.08])"
   ]
  },
  {
   "cell_type": "code",
   "execution_count": 20,
   "metadata": {},
   "outputs": [
    {
     "data": {
      "text/html": [
       "-5.5427170868347855e-08·x² + 0.00013230322128851657·x + 0.9902542016806717"
      ],
      "text/plain": [
       "-5.5427170868347855e-08·x^2 + 0.00013230322128851657·x + 0.9902542016806717"
      ]
     },
     "execution_count": 20,
     "metadata": {},
     "output_type": "execute_result"
    }
   ],
   "source": [
    "BC.polyfit(degree=2)"
   ]
  },
  {
   "cell_type": "markdown",
   "metadata": {},
   "source": [
    "<h3><code>.__add__()</code></h3>"
   ]
  },
  {
   "cell_type": "code",
   "execution_count": 21,
   "metadata": {
    "collapsed": true
   },
   "outputs": [],
   "source": [
    "# prepare some data\n",
    "x = [1, 2, 3, 4, 5]\n",
    "y = [6, 7, 2, 4, 5]\n",
    "test2 = mesh2d(x, y)\n",
    "x2 = np.arange(0,60)\n",
    "test = mesh2d(x2, np.sin(x2), x_label=\"Mon label\", y_unit=\"%\")"
   ]
  },
  {
   "cell_type": "code",
   "execution_count": 22,
   "metadata": {},
   "outputs": [
    {
     "data": {
      "text/html": [
       "<div><p><code>mesh2d</code><br /><p><table style=\"border: 0px none;\"><tbody><tr style=\"border: 0px solid\"><th style=\"border:0px none;background:none;\" /><th style=\"color: LightGrey;border:0px none;text-align:center;background:none;\">0</th><th style=\"color: LightGrey;border:0px none;text-align:center;background:none;\">1</th><th style=\"color: LightGrey;border:0px none;text-align:center;background:none;\">2</th><th style=\"color: LightGrey;border:0px none;text-align:center;background:none;\">3</th><th style=\"color: LightGrey;border:0px none;text-align:center;background:none;\">4</th><th style=\"color: LightGrey;border:0px none;text-align:center;background:none;\">5</th><th style=\"color: LightGrey;border:0px none;text-align:center;background:none;\">6</th><th style=\"color: LightGrey;border:0px none;text-align:center;background:none;\">7</th><th style=\"color: LightGrey;border:0px none;text-align:center;background:none;\">8</th><th style=\"color: LightGrey;border:0px none;text-align:center;background:none;\">9</th><th style=\"color: LightGrey;border:0px none;text-align:center;background:none;\">10</th><th style=\"color: LightGrey;border:0px none;text-align:center;background:none;\">11</th><th style=\"color: LightGrey;border:0px none;text-align:center;background:none;\">12</th><th style=\"color: LightGrey;border:0px none;text-align:center;background:none;\">13</th><th style=\"color: LightGrey;border:0px none;text-align:center;background:none;\">14</th><th style=\"color: LightGrey;border:0px none;text-align:center;background:none;\">...</th><th style=\"color: LightGrey;border:0px none;text-align:center;background:none;\">59</th></tr><tr><td><b>Label</b><span> [unit]</span></td><td>0</td><td>1</td><td>2</td><td>3</td><td>4</td><td>5</td><td>6</td><td>7</td><td>8</td><td>9</td><td>10</td><td>11</td><td>12</td><td>13</td><td>14</td><td>...</td><td>59</td></tr><tr><td><b>Label</b><span> [unit]</span></td><td>5.0</td><td>6.84147098481</td><td>7.90929742683</td><td>2.14112000806</td><td>3.24319750469</td><td>4.04107572534</td><td>5.7205845018</td><td>7.65698659872</td><td>8.98935824662</td><td>9.41211848524</td><td>9.45597888911</td><td>10.0000097934</td><td>11.463427082</td><td>13.4201670368</td><td>14.9906073557</td><td>...</td><td>59.6367380071</td></tr></tbody></table></p></p></div>"
      ],
      "text/plain": [
       "x = mesh1d(data=[ 0,  1,  2,  3,  4,  5,  6,  7,  8,  9, 10, 11, 12, 13, 14, 15, 16,\n",
       "       17, 18, 19, 20, 21, 22, 23, 24, 25, 26, 27, 28, 29, 30, 31, 32, 33,\n",
       "       34, 35, 36, 37, 38, 39, 40, 41, 42, 43, 44, 45, 46, 47, 48, 49, 50,\n",
       "       51, 52, 53, 54, 55, 56, 57, 58, 59], label=\"None\", unit=\"None\")\n",
       "y = mesh1d(data=[  5.  ,   6.84,   7.91,   2.14,   3.24,   4.04,   5.72,   7.66,\n",
       "         8.99,   9.41,   9.46,  10.  ,  11.46,  13.42,  14.99,  15.65,\n",
       "        15.71,  16.04,  17.25,  19.15,  20.91,  21.84,  21.99,  22.15,\n",
       "        23.09,  24.87,  26.76,  27.96,  28.27,  28.34,  29.01,  30.6 ,\n",
       "        32.55,  34.  ,  34.53,  34.57,  35.01,  36.36,  38.3 ,  39.96,\n",
       "        40.75,  40.84,  41.08,  42.17,  44.02,  45.85,  46.9 ,  47.12,\n",
       "        47.23,  48.05,  49.74,  51.67,  52.99,  53.4 ,  53.44,  54.  ,\n",
       "        55.48,  57.44,  58.99,  59.64], label=\"None\", unit=\"None\")"
      ]
     },
     "execution_count": 22,
     "metadata": {},
     "output_type": "execute_result"
    }
   ],
   "source": [
    "(test + test2)"
   ]
  },
  {
   "cell_type": "code",
   "execution_count": 23,
   "metadata": {},
   "outputs": [
    {
     "data": {
      "text/html": [
       "<div><p><code>mesh2d</code><br /><p><table style=\"border: 0px none;\"><tbody><tr style=\"border: 0px solid\"><th style=\"border:0px none;background:none;\" /><th style=\"color: LightGrey;border:0px none;text-align:center;background:none;\">0</th><th style=\"color: LightGrey;border:0px none;text-align:center;background:none;\">1</th><th style=\"color: LightGrey;border:0px none;text-align:center;background:none;\">2</th><th style=\"color: LightGrey;border:0px none;text-align:center;background:none;\">3</th><th style=\"color: LightGrey;border:0px none;text-align:center;background:none;\">4</th><th style=\"color: LightGrey;border:0px none;text-align:center;background:none;\">5</th><th style=\"color: LightGrey;border:0px none;text-align:center;background:none;\">6</th></tr><tr><td><b>Label</b><span> [unit]</span></td><td>0</td><td>1</td><td>2</td><td>3</td><td>57</td><td>58</td><td>59</td></tr><tr><td><b>Label</b><span> [unit]</span></td><td>-31.2961851364</td><td>-29.8980062588</td><td>-29.2734719239</td><td>-29.4849414499</td><td>-40.90429585</td><td>-41.115765376</td><td>-42.2400774357</td></tr></tbody></table></p></p></div>"
      ],
      "text/plain": [
       "x = mesh1d(data=[ 0,  1,  2,  3, 57, 58, 59], label=\"None\", unit=\"None\")\n",
       "y = mesh1d(data=[-31.3 , -29.9 , -29.27, -29.48, -40.9 , -41.12, -42.24], label=\"None\", unit=\"None\")"
      ]
     },
     "execution_count": 23,
     "metadata": {},
     "output_type": "execute_result"
    }
   ],
   "source": [
    "test[-3:] + test[:4]"
   ]
  },
  {
   "cell_type": "code",
   "execution_count": 24,
   "metadata": {},
   "outputs": [
    {
     "data": {
      "image/png": "[encoded data removed]",
      "text/plain": [
       "<matplotlib.figure.Figure at 0x116e03208>"
      ]
     },
     "metadata": {},
     "output_type": "display_data"
    }
   ],
   "source": [
    "(test + test2).plot()\n",
    "plt.show()"
   ]
  },
  {
   "cell_type": "code",
   "execution_count": 25,
   "metadata": {},
   "outputs": [
    {
     "data": {
      "text/html": [
       "<div><p><code>mesh2d</code><br /><p><table style=\"border: 0px none;\"><tbody><tr style=\"border: 0px solid\"><th style=\"border:0px none;background:none;\" /><th style=\"color: LightGrey;border:0px none;text-align:center;background:none;\">0</th><th style=\"color: LightGrey;border:0px none;text-align:center;background:none;\">1</th><th style=\"color: LightGrey;border:0px none;text-align:center;background:none;\">2</th><th style=\"color: LightGrey;border:0px none;text-align:center;background:none;\">3</th><th style=\"color: LightGrey;border:0px none;text-align:center;background:none;\">4</th><th style=\"color: LightGrey;border:0px none;text-align:center;background:none;\">5</th><th style=\"color: LightGrey;border:0px none;text-align:center;background:none;\">6</th><th style=\"color: LightGrey;border:0px none;text-align:center;background:none;\">7</th><th style=\"color: LightGrey;border:0px none;text-align:center;background:none;\">8</th><th style=\"color: LightGrey;border:0px none;text-align:center;background:none;\">9</th><th style=\"color: LightGrey;border:0px none;text-align:center;background:none;\">10</th><th style=\"color: LightGrey;border:0px none;text-align:center;background:none;\">11</th><th style=\"color: LightGrey;border:0px none;text-align:center;background:none;\">12</th><th style=\"color: LightGrey;border:0px none;text-align:center;background:none;\">13</th><th style=\"color: LightGrey;border:0px none;text-align:center;background:none;\">14</th><th style=\"color: LightGrey;border:0px none;text-align:center;background:none;\">...</th><th style=\"color: LightGrey;border:0px none;text-align:center;background:none;\">59</th></tr><tr><td><b>Mon label</b><span> [unit]</span></td><td>0</td><td>1</td><td>2</td><td>3</td><td>4</td><td>5</td><td>6</td><td>7</td><td>8</td><td>9</td><td>10</td><td>11</td><td>12</td><td>13</td><td>14</td><td>...</td><td>59</td></tr><tr><td><b>Label</b><span> [%]</span></td><td>0.0</td><td>0.841470984808</td><td>0.909297426826</td><td>0.14112000806</td><td>-0.756802495308</td><td>-0.958924274663</td><td>-0.279415498199</td><td>0.656986598719</td><td>0.989358246623</td><td>0.412118485242</td><td>-0.544021110889</td><td>-0.999990206551</td><td>-0.536572918</td><td>0.420167036827</td><td>0.990607355695</td><td>...</td><td>0.636738007139</td></tr></tbody></table></p></p></div>"
      ],
      "text/plain": [
       "x = mesh1d(data=[ 0,  1,  2,  3,  4,  5,  6,  7,  8,  9, 10, 11, 12, 13, 14, 15, 16,\n",
       "       17, 18, 19, 20, 21, 22, 23, 24, 25, 26, 27, 28, 29, 30, 31, 32, 33,\n",
       "       34, 35, 36, 37, 38, 39, 40, 41, 42, 43, 44, 45, 46, 47, 48, 49, 50,\n",
       "       51, 52, 53, 54, 55, 56, 57, 58, 59], label=\"Mon label\", unit=\"None\")\n",
       "y = mesh1d(data=[ 0.  ,  0.84,  0.91,  0.14, -0.76, -0.96, -0.28,  0.66,  0.99,\n",
       "        0.41, -0.54, -1.  , -0.54,  0.42,  0.99,  0.65, -0.29, -0.96,\n",
       "       -0.75,  0.15,  0.91,  0.84, -0.01, -0.85, -0.91, -0.13,  0.76,\n",
       "        0.96,  0.27, -0.66, -0.99, -0.4 ,  0.55,  1.  ,  0.53, -0.43,\n",
       "       -0.99, -0.64,  0.3 ,  0.96,  0.75, -0.16, -0.92, -0.83,  0.02,\n",
       "        0.85,  0.9 ,  0.12, -0.77, -0.95, -0.26,  0.67,  0.99,  0.4 ,\n",
       "       -0.56, -1.  , -0.52,  0.44,  0.99,  0.64], label=\"None\", unit=\"%\")"
      ]
     },
     "execution_count": 25,
     "metadata": {},
     "output_type": "execute_result"
    }
   ],
   "source": [
    "test.steps"
   ]
  },
  {
   "cell_type": "code",
   "execution_count": 26,
   "metadata": {},
   "outputs": [
    {
     "data": {
      "text/plain": [
       "True"
      ]
     },
     "execution_count": 26,
     "metadata": {},
     "output_type": "execute_result"
    }
   ],
   "source": [
    "test.steps(2.4) == test(2.4)"
   ]
  },
  {
   "cell_type": "code",
   "execution_count": 27,
   "metadata": {},
   "outputs": [
    {
     "data": {
      "text/html": [
       "<div><p><code>mesh2d</code><br /><p><table style=\"border: 0px none;\"><tbody><tr style=\"border: 0px solid\"><th style=\"border:0px none;background:none;\" /><th style=\"color: LightGrey;border:0px none;text-align:center;background:none;\">0</th><th style=\"color: LightGrey;border:0px none;text-align:center;background:none;\">1</th><th style=\"color: LightGrey;border:0px none;text-align:center;background:none;\">2</th><th style=\"color: LightGrey;border:0px none;text-align:center;background:none;\">3</th><th style=\"color: LightGrey;border:0px none;text-align:center;background:none;\">4</th><th style=\"color: LightGrey;border:0px none;text-align:center;background:none;\">5</th><th style=\"color: LightGrey;border:0px none;text-align:center;background:none;\">6</th><th style=\"color: LightGrey;border:0px none;text-align:center;background:none;\">7</th><th style=\"color: LightGrey;border:0px none;text-align:center;background:none;\">8</th><th style=\"color: LightGrey;border:0px none;text-align:center;background:none;\">9</th><th style=\"color: LightGrey;border:0px none;text-align:center;background:none;\">10</th><th style=\"color: LightGrey;border:0px none;text-align:center;background:none;\">11</th><th style=\"color: LightGrey;border:0px none;text-align:center;background:none;\">12</th><th style=\"color: LightGrey;border:0px none;text-align:center;background:none;\">13</th><th style=\"color: LightGrey;border:0px none;text-align:center;background:none;\">14</th><th style=\"color: LightGrey;border:0px none;text-align:center;background:none;\">...</th><th style=\"color: LightGrey;border:0px none;text-align:center;background:none;\">59</th></tr><tr><td><b>Label</b><span> [unit]</span></td><td>0</td><td>1</td><td>2</td><td>3</td><td>4</td><td>5</td><td>6</td><td>7</td><td>8</td><td>9</td><td>10</td><td>11</td><td>12</td><td>13</td><td>14</td><td>...</td><td>59</td></tr><tr><td><b>Label</b><span> [unit]</span></td><td>5.0</td><td>6.84147098481</td><td>7.90929742683</td><td>2.14112000806</td><td>3.24319750469</td><td>4.04107572534</td><td>5.7205845018</td><td>7.65698659872</td><td>8.98935824662</td><td>9.41211848524</td><td>9.45597888911</td><td>10.0000097934</td><td>11.463427082</td><td>13.4201670368</td><td>14.9906073557</td><td>...</td><td>59.6367380071</td></tr></tbody></table></p></p></div>"
      ],
      "text/plain": [
       "x = mesh1d(data=[ 0,  1,  2,  3,  4,  5,  6,  7,  8,  9, 10, 11, 12, 13, 14, 15, 16,\n",
       "       17, 18, 19, 20, 21, 22, 23, 24, 25, 26, 27, 28, 29, 30, 31, 32, 33,\n",
       "       34, 35, 36, 37, 38, 39, 40, 41, 42, 43, 44, 45, 46, 47, 48, 49, 50,\n",
       "       51, 52, 53, 54, 55, 56, 57, 58, 59], label=\"None\", unit=\"None\")\n",
       "y = mesh1d(data=[  5.  ,   6.84,   7.91,   2.14,   3.24,   4.04,   5.72,   7.66,\n",
       "         8.99,   9.41,   9.46,  10.  ,  11.46,  13.42,  14.99,  15.65,\n",
       "        15.71,  16.04,  17.25,  19.15,  20.91,  21.84,  21.99,  22.15,\n",
       "        23.09,  24.87,  26.76,  27.96,  28.27,  28.34,  29.01,  30.6 ,\n",
       "        32.55,  34.  ,  34.53,  34.57,  35.01,  36.36,  38.3 ,  39.96,\n",
       "        40.75,  40.84,  41.08,  42.17,  44.02,  45.85,  46.9 ,  47.12,\n",
       "        47.23,  48.05,  49.74,  51.67,  52.99,  53.4 ,  53.44,  54.  ,\n",
       "        55.48,  57.44,  58.99,  59.64], label=\"None\", unit=\"None\")"
      ]
     },
     "execution_count": 27,
     "metadata": {},
     "output_type": "execute_result"
    }
   ],
   "source": [
    "test + test2.steps"
   ]
  },
  {
   "cell_type": "code",
   "execution_count": 28,
   "metadata": {},
   "outputs": [
    {
     "data": {
      "text/plain": [
       "array([ -8.41470985,   0.6788442 ,   0.14112001,   0.05132776,\n",
       "         0.63673801,   0.67235147, -10.40343586])"
      ]
     },
     "execution_count": 28,
     "metadata": {},
     "output_type": "execute_result"
    }
   ],
   "source": [
    "test.steps([-10, 2.3, 3, 3.1, 59, 58.9, 90])"
   ]
  },
  {
   "cell_type": "code",
   "execution_count": 29,
   "metadata": {},
   "outputs": [
    {
     "data": {
      "text/html": [
       "<div><p><code>mesh2d</code><br /><p><table style=\"border: 0px none;\"><tbody><tr style=\"border: 0px solid\"><th style=\"border:0px none;background:none;\" /><th style=\"color: LightGrey;border:0px none;text-align:center;background:none;\">0</th><th style=\"color: LightGrey;border:0px none;text-align:center;background:none;\">1</th><th style=\"color: LightGrey;border:0px none;text-align:center;background:none;\">2</th><th style=\"color: LightGrey;border:0px none;text-align:center;background:none;\">3</th><th style=\"color: LightGrey;border:0px none;text-align:center;background:none;\">4</th><th style=\"color: LightGrey;border:0px none;text-align:center;background:none;\">5</th><th style=\"color: LightGrey;border:0px none;text-align:center;background:none;\">6</th><th style=\"color: LightGrey;border:0px none;text-align:center;background:none;\">7</th><th style=\"color: LightGrey;border:0px none;text-align:center;background:none;\">8</th><th style=\"color: LightGrey;border:0px none;text-align:center;background:none;\">9</th><th style=\"color: LightGrey;border:0px none;text-align:center;background:none;\">10</th><th style=\"color: LightGrey;border:0px none;text-align:center;background:none;\">11</th><th style=\"color: LightGrey;border:0px none;text-align:center;background:none;\">12</th><th style=\"color: LightGrey;border:0px none;text-align:center;background:none;\">13</th><th style=\"color: LightGrey;border:0px none;text-align:center;background:none;\">14</th><th style=\"color: LightGrey;border:0px none;text-align:center;background:none;\">...</th><th style=\"color: LightGrey;border:0px none;text-align:center;background:none;\">59</th></tr><tr><td><b>Mon label</b><span> [unit]</span></td><td>0</td><td>1</td><td>2</td><td>3</td><td>4</td><td>5</td><td>6</td><td>7</td><td>8</td><td>9</td><td>10</td><td>11</td><td>12</td><td>13</td><td>14</td><td>...</td><td>59</td></tr><tr><td><b>Label</b><span> [%]</span></td><td>0.0</td><td>0.841470984808</td><td>0.909297426826</td><td>0.14112000806</td><td>-0.756802495308</td><td>-0.958924274663</td><td>-0.279415498199</td><td>0.656986598719</td><td>0.989358246623</td><td>0.412118485242</td><td>-0.544021110889</td><td>-0.999990206551</td><td>-0.536572918</td><td>0.420167036827</td><td>0.990607355695</td><td>...</td><td>0.636738007139</td></tr></tbody></table></p></p></div>"
      ],
      "text/plain": [
       "x = mesh1d(data=[ 0,  1,  2,  3,  4,  5,  6,  7,  8,  9, 10, 11, 12, 13, 14, 15, 16,\n",
       "       17, 18, 19, 20, 21, 22, 23, 24, 25, 26, 27, 28, 29, 30, 31, 32, 33,\n",
       "       34, 35, 36, 37, 38, 39, 40, 41, 42, 43, 44, 45, 46, 47, 48, 49, 50,\n",
       "       51, 52, 53, 54, 55, 56, 57, 58, 59], label=\"Mon label\", unit=\"None\")\n",
       "y = mesh1d(data=[ 0.  ,  0.84,  0.91,  0.14, -0.76, -0.96, -0.28,  0.66,  0.99,\n",
       "        0.41, -0.54, -1.  , -0.54,  0.42,  0.99,  0.65, -0.29, -0.96,\n",
       "       -0.75,  0.15,  0.91,  0.84, -0.01, -0.85, -0.91, -0.13,  0.76,\n",
       "        0.96,  0.27, -0.66, -0.99, -0.4 ,  0.55,  1.  ,  0.53, -0.43,\n",
       "       -0.99, -0.64,  0.3 ,  0.96,  0.75, -0.16, -0.92, -0.83,  0.02,\n",
       "        0.85,  0.9 ,  0.12, -0.77, -0.95, -0.26,  0.67,  0.99,  0.4 ,\n",
       "       -0.56, -1.  , -0.52,  0.44,  0.99,  0.64], label=\"None\", unit=\"%\")"
      ]
     },
     "execution_count": 29,
     "metadata": {},
     "output_type": "execute_result"
    }
   ],
   "source": [
    "test.steps"
   ]
  },
  {
   "cell_type": "code",
   "execution_count": 31,
   "metadata": {},
   "outputs": [
    {
     "data": {
      "text/html": [
       "<div><p><code>mesh2d</code><br /><p><table style=\"border: 0px none;\"><tbody><tr style=\"border: 0px solid\"><th style=\"border:0px none;background:none;\" /><th style=\"color: LightGrey;border:0px none;text-align:center;background:none;\">0</th><th style=\"color: LightGrey;border:0px none;text-align:center;background:none;\">1</th><th style=\"color: LightGrey;border:0px none;text-align:center;background:none;\">2</th><th style=\"color: LightGrey;border:0px none;text-align:center;background:none;\">3</th><th style=\"color: LightGrey;border:0px none;text-align:center;background:none;\">4</th><th style=\"color: LightGrey;border:0px none;text-align:center;background:none;\">5</th><th style=\"color: LightGrey;border:0px none;text-align:center;background:none;\">6</th><th style=\"color: LightGrey;border:0px none;text-align:center;background:none;\">7</th><th style=\"color: LightGrey;border:0px none;text-align:center;background:none;\">8</th><th style=\"color: LightGrey;border:0px none;text-align:center;background:none;\">9</th><th style=\"color: LightGrey;border:0px none;text-align:center;background:none;\">10</th><th style=\"color: LightGrey;border:0px none;text-align:center;background:none;\">11</th><th style=\"color: LightGrey;border:0px none;text-align:center;background:none;\">12</th><th style=\"color: LightGrey;border:0px none;text-align:center;background:none;\">13</th><th style=\"color: LightGrey;border:0px none;text-align:center;background:none;\">14</th><th style=\"color: LightGrey;border:0px none;text-align:center;background:none;\">...</th><th style=\"color: LightGrey;border:0px none;text-align:center;background:none;\">58</th></tr><tr><td><b>Mon label</b><span> [unit]</span></td><td>0</td><td>1</td><td>2</td><td>3</td><td>4</td><td>5</td><td>6</td><td>7</td><td>8</td><td>9</td><td>10</td><td>11</td><td>12</td><td>13</td><td>14</td><td>...</td><td>58</td></tr><tr><td><b>Label</b><span> [%]</span></td><td>0.841470984808</td><td>0.0678264420178</td><td>-0.768177418766</td><td>-0.897922503368</td><td>-0.202121779355</td><td>0.679508776464</td><td>0.936402096918</td><td>0.332371647905</td><td>-0.577239761382</td><td>-0.956139596131</td><td>-0.455969095661</td><td>0.46341728855</td><td>0.956739954827</td><td>0.570440318868</td><td>-0.340319515538</td><td>...</td><td>-0.356134640945</td></tr></tbody></table></p></p></div>"
      ],
      "text/plain": [
       "x = mesh1d(data=[ 0,  1,  2,  3,  4,  5,  6,  7,  8,  9, 10, 11, 12, 13, 14, 15, 16,\n",
       "       17, 18, 19, 20, 21, 22, 23, 24, 25, 26, 27, 28, 29, 30, 31, 32, 33,\n",
       "       34, 35, 36, 37, 38, 39, 40, 41, 42, 43, 44, 45, 46, 47, 48, 49, 50,\n",
       "       51, 52, 53, 54, 55, 56, 57, 58], label=\"Mon label\", unit=\"None\")\n",
       "y = mesh1d(data=[ 0.84,  0.07, -0.77, -0.9 , -0.2 ,  0.68,  0.94,  0.33, -0.58,\n",
       "       -0.96, -0.46,  0.46,  0.96,  0.57, -0.34, -0.94, -0.67,  0.21,\n",
       "        0.9 ,  0.76, -0.08, -0.85, -0.84, -0.06,  0.77,  0.89,  0.19,\n",
       "       -0.69, -0.93, -0.32,  0.58,  0.96,  0.45, -0.47, -0.96, -0.56,\n",
       "        0.35,  0.94,  0.67, -0.22, -0.9 , -0.76,  0.08,  0.85,  0.83,\n",
       "        0.05, -0.78, -0.89, -0.19,  0.69,  0.93,  0.32, -0.59, -0.95,\n",
       "       -0.44,  0.48,  0.96,  0.56, -0.36], label=\"None\", unit=\"%\")"
      ]
     },
     "execution_count": 31,
     "metadata": {},
     "output_type": "execute_result"
    }
   ],
   "source": [
    "test.diff(n=1)"
   ]
  },
  {
   "cell_type": "code",
   "execution_count": 33,
   "metadata": {},
   "outputs": [
    {
     "data": {
      "text/plain": [
       "[<matplotlib.lines.Line2D at 0x116e8f518>]"
      ]
     },
     "execution_count": 33,
     "metadata": {},
     "output_type": "execute_result"
    },
    {
     "data": {
      "image/png": "[encoded data removed]",
      "text/plain": [
       "<matplotlib.figure.Figure at 0x11661f2e8>"
      ]
     },
     "metadata": {},
     "output_type": "display_data"
    }
   ],
   "source": [
    "#plt.plot(test.X, test.Y, c=\"b\")\n",
    "newX = np.arange(-10, 10, 0.001)\n",
    "plt.plot(newX, test(newX), \":r\")\n",
    "plt.plot(newX, test.step(newX), \"-g\")"
   ]
  },
  {
   "cell_type": "code",
   "execution_count": 34,
   "metadata": {},
   "outputs": [
    {
     "data": {
      "text/html": [
       "<div><p><code>mesh1d</code><span>: </span><b>Label</b><span> [%]</span><br /><p><table style=\"border: 0px none;\"><tbody><tr style=\"border: 0px solid\"><th style=\"color: LightGrey;border:0px none;text-align:center;background:none;\">0</th><th style=\"color: LightGrey;border:0px none;text-align:center;background:none;\">1</th><th style=\"color: LightGrey;border:0px none;text-align:center;background:none;\">2</th><th style=\"color: LightGrey;border:0px none;text-align:center;background:none;\">3</th><th style=\"color: LightGrey;border:0px none;text-align:center;background:none;\">4</th><th style=\"color: LightGrey;border:0px none;text-align:center;background:none;\">5</th><th style=\"color: LightGrey;border:0px none;text-align:center;background:none;\">6</th><th style=\"color: LightGrey;border:0px none;text-align:center;background:none;\">7</th><th style=\"color: LightGrey;border:0px none;text-align:center;background:none;\">8</th><th style=\"color: LightGrey;border:0px none;text-align:center;background:none;\">9</th><th style=\"color: LightGrey;border:0px none;text-align:center;background:none;\">10</th><th style=\"color: LightGrey;border:0px none;text-align:center;background:none;\">11</th><th style=\"color: LightGrey;border:0px none;text-align:center;background:none;\">12</th><th style=\"color: LightGrey;border:0px none;text-align:center;background:none;\">13</th><th style=\"color: LightGrey;border:0px none;text-align:center;background:none;\">14</th><th style=\"color: LightGrey;border:0px none;text-align:center;background:none;\">...</th><th style=\"color: LightGrey;border:0px none;text-align:center;background:none;\">19999</th></tr><tr style=\"border: 0px solid\"><td>0.0</td><td>0.0</td><td>0.0</td><td>0.0</td><td>0.0</td><td>0.0</td><td>0.0</td><td>0.0</td><td>0.0</td><td>0.0</td><td>0.0</td><td>0.0</td><td>0.0</td><td>0.0</td><td>0.0</td><td>...</td><td>0.412118485242</td></tr></tbody></table></p></p></div>"
      ],
      "text/plain": [
       "mesh1d(data=[ 0.  ,  0.  ,  0.  , ...,  0.41,  0.41,  0.41], label=\"None\", unit=\"%\")"
      ]
     },
     "execution_count": 34,
     "metadata": {},
     "output_type": "execute_result"
    }
   ],
   "source": [
    "test.step(newX)"
   ]
  },
  {
   "cell_type": "code",
   "execution_count": 47,
   "metadata": {
    "collapsed": true
   },
   "outputs": [],
   "source": [
    "import random\n",
    "from numba import jit\n",
    "\n",
    "N = 200\n",
    "myMesh = mesh2d(np.arange(N)*5, [random.uniform(2.5, 10.0) for i in range(N)], x_label=\"MON Label\")"
   ]
  },
  {
   "cell_type": "code",
   "execution_count": 53,
   "metadata": {
    "collapsed": true
   },
   "outputs": [],
   "source": [
    "@jit\n",
    "def _extrapolate(self, X):\n",
    "    \"\"\"\n",
    "    \"\"\"\n",
    "    if X <= self.x[0]:\n",
    "        res = self.y[0] + (X - self.x[0]) *\\\n",
    "            (self.y[1] - self.y[0]) / (self.x[1] - self.x[0])\n",
    "    elif X >= self.x[-1]:\n",
    "        res = self.y[-1] + (x - self.x[-1]) *\\\n",
    "            (self.y[-1] - self.y[-2]) / (self.x[-1] - self.x[-2])\n",
    "    else:\n",
    "        res = np.interp(X, self.x, self.y)\n",
    "    return res"
   ]
  },
  {
   "cell_type": "code",
   "execution_count": 54,
   "metadata": {},
   "outputs": [
    {
     "name": "stdout",
     "output_type": "stream",
     "text": [
      "24.4 µs ± 381 ns per loop (mean ± std. dev. of 7 runs, 10000 loops each)\n"
     ]
    }
   ],
   "source": [
    "%timeit myMesh.extrapolate(255)"
   ]
  },
  {
   "cell_type": "code",
   "execution_count": 55,
   "metadata": {},
   "outputs": [
    {
     "name": "stdout",
     "output_type": "stream",
     "text": [
      "94.1 µs ± 59.8 µs per loop (mean ± std. dev. of 7 runs, 1 loop each)\n"
     ]
    }
   ],
   "source": [
    "%timeit _extrapolate(myMesh, 255)"
   ]
  },
  {
   "cell_type": "code",
   "execution_count": 57,
   "metadata": {},
   "outputs": [
    {
     "data": {
      "text/html": [
       "<div><p><code>mesh1d: </code><b>Label</b><span> [unit]</span><br /><p><table style=\"border: 0px none;\"><tbody><tr style=\"border: 0px solid\"><th style=\"color: LightGrey;border:0px none;text-align:center;background:none;\">0</th><th style=\"color: LightGrey;border:0px none;text-align:center;background:none;\">1</th><th style=\"color: LightGrey;border:0px none;text-align:center;background:none;\">2</th><th style=\"color: LightGrey;border:0px none;text-align:center;background:none;\">3</th></tr><tr style=\"border: 0px solid\"><td>1.0</td><td>-5.0</td><td>2.0</td><td>1.0</td></tr></tbody></table></p></p></div>"
      ],
      "text/plain": [
       "mesh1d(data=[ 1., -5.,  2.,  1.], label=\"None\", unit=\"None\")"
      ]
     },
     "execution_count": 57,
     "metadata": {},
     "output_type": "execute_result"
    }
   ],
   "source": [
    "np.diff(test2.y) / np.diff(test2.x)"
   ]
  },
  {
   "cell_type": "code",
   "execution_count": 58,
   "metadata": {},
   "outputs": [
    {
     "name": "stdout",
     "output_type": "stream",
     "text": [
      "47 ms ± 831 µs per loop (mean ± std. dev. of 7 runs, 10 loops each)\n"
     ]
    }
   ],
   "source": [
    "%timeit myMesh.resample(np.arange(-1000, 2000))"
   ]
  },
  {
   "cell_type": "code",
   "execution_count": 59,
   "metadata": {},
   "outputs": [
    {
     "name": "stdout",
     "output_type": "stream",
     "text": [
      "47.9 ms ± 2.35 ms per loop (mean ± std. dev. of 7 runs, 10 loops each)\n"
     ]
    }
   ],
   "source": [
    "%timeit myMesh.resample(np.arange(-1000, 2000))"
   ]
  },
  {
   "cell_type": "code",
   "execution_count": 61,
   "metadata": {},
   "outputs": [
    {
     "name": "stdout",
     "output_type": "stream",
     "text": [
      "48.5 µs ± 733 ns per loop (mean ± std. dev. of 7 runs, 10000 loops each)\n"
     ]
    }
   ],
   "source": [
    "%timeit np.interp(np.arange(-1000, 2000), myMesh.x, myMesh.y)"
   ]
  },
  {
   "cell_type": "code",
   "execution_count": 62,
   "metadata": {},
   "outputs": [
    {
     "name": "stdout",
     "output_type": "stream",
     "text": [
      "716 µs ± 12.8 µs per loop (mean ± std. dev. of 7 runs, 1000 loops each)\n"
     ]
    }
   ],
   "source": [
    "X = range(3000)\n",
    "%timeit np.interp(range(3000), myMesh.x, myMesh.y)"
   ]
  },
  {
   "cell_type": "code",
   "execution_count": 63,
   "metadata": {},
   "outputs": [
    {
     "data": {
      "text/plain": [
       "array([  229.27098221,   229.04971796,   228.8284537 , ...,  1360.54409087,\n",
       "        1361.892048  ,  1363.24000514])"
      ]
     },
     "execution_count": 63,
     "metadata": {},
     "output_type": "execute_result"
    }
   ],
   "source": [
    "myMesh(np.arange(-1000, 2000))"
   ]
  },
  {
   "cell_type": "code",
   "execution_count": 64,
   "metadata": {},
   "outputs": [
    {
     "name": "stdout",
     "output_type": "stream",
     "text": [
      "2.54 s ± 33.7 ms per loop (mean ± std. dev. of 7 runs, 1 loop each)\n"
     ]
    }
   ],
   "source": [
    "%timeit myMesh(np.arange(-10000, 200000))"
   ]
  },
  {
   "cell_type": "code",
   "execution_count": 65,
   "metadata": {
    "scrolled": true
   },
   "outputs": [
    {
     "name": "stdout",
     "output_type": "stream",
     "text": [
      "2.45 s ± 54.5 ms per loop (mean ± std. dev. of 7 runs, 1 loop each)\n"
     ]
    }
   ],
   "source": [
    "%timeit myMesh(np.arange(-10000, 200000))"
   ]
  },
  {
   "cell_type": "code",
   "execution_count": 66,
   "metadata": {},
   "outputs": [
    {
     "name": "stdout",
     "output_type": "stream",
     "text": [
      "3.38 s ± 182 ms per loop (mean ± std. dev. of 7 runs, 1 loop each)\n"
     ]
    }
   ],
   "source": [
    "%timeit [myMesh(x) for x in np.arange(-10000, 200000)]"
   ]
  },
  {
   "cell_type": "code",
   "execution_count": 67,
   "metadata": {},
   "outputs": [
    {
     "name": "stdout",
     "output_type": "stream",
     "text": [
      "3.27 s ± 57.2 ms per loop (mean ± std. dev. of 7 runs, 1 loop each)\n"
     ]
    }
   ],
   "source": [
    "%timeit [myMesh(x) for x in np.arange(-10000, 200000)]"
   ]
  },
  {
   "cell_type": "code",
   "execution_count": 73,
   "metadata": {},
   "outputs": [
    {
     "data": {
      "text/plain": [
       "(0, 40)"
      ]
     },
     "execution_count": 73,
     "metadata": {},
     "output_type": "execute_result"
    },
    {
     "data": {
      "image/png": "[encoded data removed]",
      "text/plain": [
       "<matplotlib.figure.Figure at 0x11c2db4a8>"
      ]
     },
     "metadata": {},
     "output_type": "display_data"
    }
   ],
   "source": [
    "plt.plot(myMesh.x, myMesh.y, 'r')\n",
    "myNewMesh = myMesh.resample(np.arange(-1000, 2000))\n",
    "plt.plot(myNewMesh.x, myNewMesh.y, \":b\")\n",
    "plt.xlim(89, 1010)\n",
    "plt.ylim(0,40)"
   ]
  },
  {
   "cell_type": "code",
   "execution_count": 74,
   "metadata": {
    "collapsed": true
   },
   "outputs": [],
   "source": [
    "import urllib\n",
    "import json\n",
    "f = urllib.request.urlopen('http://api.wunderground.com/api/Your_Key/geolookup/conditions/q/IA/Cedar_Rapids.json')\n",
    "json_string = f.read()"
   ]
  },
  {
   "cell_type": "code",
   "execution_count": 75,
   "metadata": {},
   "outputs": [
    {
     "data": {
      "text/plain": [
       "b'\\n{\\n  \"response\": {\\n  \"version\":\"0.1\",\\n  \"termsofService\":\"http://www.wunderground.com/weather/api/d/terms.html\",\\n  \"features\": {\\n  }\\n\\t\\t,\\n\\t\"error\": {\\n\\t\\t\"type\": \"keynotfound\"\\n\\t\\t,\"description\": \"this key does not exist\"\\n\\t}\\n\\t}\\n}\\n'"
      ]
     },
     "execution_count": 75,
     "metadata": {},
     "output_type": "execute_result"
    }
   ],
   "source": [
    "json_string"
   ]
  },
  {
   "cell_type": "code",
   "execution_count": 76,
   "metadata": {},
   "outputs": [
    {
     "ename": "JSONDecodeError",
     "evalue": "Expecting value: line 1 column 1 (char 0)",
     "output_type": "error",
     "traceback": [
      "\u001b[0;31m---------------------------------------------------------------------------\u001b[0m",
      "\u001b[0;31mJSONDecodeError\u001b[0m                           Traceback (most recent call last)",
      "\u001b[0;32m<ipython-input-76-8e880973467a>\u001b[0m in \u001b[0;36m<module>\u001b[0;34m()\u001b[0m\n\u001b[0;32m----> 1\u001b[0;31m \u001b[0mparsed_json\u001b[0m \u001b[0;34m=\u001b[0m \u001b[0mjson\u001b[0m\u001b[0;34m.\u001b[0m\u001b[0mloads\u001b[0m\u001b[0;34m(\u001b[0m\u001b[0mstr\u001b[0m\u001b[0;34m(\u001b[0m\u001b[0mjson_string\u001b[0m\u001b[0;34m)\u001b[0m\u001b[0;34m)\u001b[0m\u001b[0;34m\u001b[0m\u001b[0m\n\u001b[0m\u001b[1;32m      2\u001b[0m \u001b[0mlocation\u001b[0m \u001b[0;34m=\u001b[0m \u001b[0mparsed_json\u001b[0m\u001b[0;34m[\u001b[0m\u001b[0;34m'location'\u001b[0m\u001b[0;34m]\u001b[0m\u001b[0;34m[\u001b[0m\u001b[0;34m'city'\u001b[0m\u001b[0;34m]\u001b[0m\u001b[0;34m\u001b[0m\u001b[0m\n\u001b[1;32m      3\u001b[0m \u001b[0mtemp_f\u001b[0m \u001b[0;34m=\u001b[0m \u001b[0mparsed_json\u001b[0m\u001b[0;34m[\u001b[0m\u001b[0;34m'current_observation'\u001b[0m\u001b[0;34m]\u001b[0m\u001b[0;34m[\u001b[0m\u001b[0;34m'temp_f'\u001b[0m\u001b[0;34m]\u001b[0m\u001b[0;34m\u001b[0m\u001b[0m\n\u001b[1;32m      4\u001b[0m \u001b[0mprint\u001b[0m\u001b[0;34m(\u001b[0m\u001b[0;34m\"Current temperature in %s is: %s\"\u001b[0m \u001b[0;34m%\u001b[0m \u001b[0;34m(\u001b[0m\u001b[0mlocation\u001b[0m\u001b[0;34m,\u001b[0m \u001b[0mtemp_f\u001b[0m\u001b[0;34m)\u001b[0m\u001b[0;34m)\u001b[0m\u001b[0;34m\u001b[0m\u001b[0m\n\u001b[1;32m      5\u001b[0m \u001b[0mf\u001b[0m\u001b[0;34m.\u001b[0m\u001b[0mclose\u001b[0m\u001b[0;34m(\u001b[0m\u001b[0;34m)\u001b[0m\u001b[0;34m\u001b[0m\u001b[0m\n",
      "\u001b[0;32m/Users/manu/Documents/Developpement/python/anaconda3/lib/python3.6/json/__init__.py\u001b[0m in \u001b[0;36mloads\u001b[0;34m(s, encoding, cls, object_hook, parse_float, parse_int, parse_constant, object_pairs_hook, **kw)\u001b[0m\n\u001b[1;32m    352\u001b[0m             \u001b[0mparse_int\u001b[0m \u001b[0;32mis\u001b[0m \u001b[0;32mNone\u001b[0m \u001b[0;32mand\u001b[0m \u001b[0mparse_float\u001b[0m \u001b[0;32mis\u001b[0m \u001b[0;32mNone\u001b[0m \u001b[0;32mand\u001b[0m\u001b[0;34m\u001b[0m\u001b[0m\n\u001b[1;32m    353\u001b[0m             parse_constant is None and object_pairs_hook is None and not kw):\n\u001b[0;32m--> 354\u001b[0;31m         \u001b[0;32mreturn\u001b[0m \u001b[0m_default_decoder\u001b[0m\u001b[0;34m.\u001b[0m\u001b[0mdecode\u001b[0m\u001b[0;34m(\u001b[0m\u001b[0ms\u001b[0m\u001b[0;34m)\u001b[0m\u001b[0;34m\u001b[0m\u001b[0m\n\u001b[0m\u001b[1;32m    355\u001b[0m     \u001b[0;32mif\u001b[0m \u001b[0mcls\u001b[0m \u001b[0;32mis\u001b[0m \u001b[0;32mNone\u001b[0m\u001b[0;34m:\u001b[0m\u001b[0;34m\u001b[0m\u001b[0m\n\u001b[1;32m    356\u001b[0m         \u001b[0mcls\u001b[0m \u001b[0;34m=\u001b[0m \u001b[0mJSONDecoder\u001b[0m\u001b[0;34m\u001b[0m\u001b[0m\n",
      "\u001b[0;32m/Users/manu/Documents/Developpement/python/anaconda3/lib/python3.6/json/decoder.py\u001b[0m in \u001b[0;36mdecode\u001b[0;34m(self, s, _w)\u001b[0m\n\u001b[1;32m    337\u001b[0m \u001b[0;34m\u001b[0m\u001b[0m\n\u001b[1;32m    338\u001b[0m         \"\"\"\n\u001b[0;32m--> 339\u001b[0;31m         \u001b[0mobj\u001b[0m\u001b[0;34m,\u001b[0m \u001b[0mend\u001b[0m \u001b[0;34m=\u001b[0m \u001b[0mself\u001b[0m\u001b[0;34m.\u001b[0m\u001b[0mraw_decode\u001b[0m\u001b[0;34m(\u001b[0m\u001b[0ms\u001b[0m\u001b[0;34m,\u001b[0m \u001b[0midx\u001b[0m\u001b[0;34m=\u001b[0m\u001b[0m_w\u001b[0m\u001b[0;34m(\u001b[0m\u001b[0ms\u001b[0m\u001b[0;34m,\u001b[0m \u001b[0;36m0\u001b[0m\u001b[0;34m)\u001b[0m\u001b[0;34m.\u001b[0m\u001b[0mend\u001b[0m\u001b[0;34m(\u001b[0m\u001b[0;34m)\u001b[0m\u001b[0;34m)\u001b[0m\u001b[0;34m\u001b[0m\u001b[0m\n\u001b[0m\u001b[1;32m    340\u001b[0m         \u001b[0mend\u001b[0m \u001b[0;34m=\u001b[0m \u001b[0m_w\u001b[0m\u001b[0;34m(\u001b[0m\u001b[0ms\u001b[0m\u001b[0;34m,\u001b[0m \u001b[0mend\u001b[0m\u001b[0;34m)\u001b[0m\u001b[0;34m.\u001b[0m\u001b[0mend\u001b[0m\u001b[0;34m(\u001b[0m\u001b[0;34m)\u001b[0m\u001b[0;34m\u001b[0m\u001b[0m\n\u001b[1;32m    341\u001b[0m         \u001b[0;32mif\u001b[0m \u001b[0mend\u001b[0m \u001b[0;34m!=\u001b[0m \u001b[0mlen\u001b[0m\u001b[0;34m(\u001b[0m\u001b[0ms\u001b[0m\u001b[0;34m)\u001b[0m\u001b[0;34m:\u001b[0m\u001b[0;34m\u001b[0m\u001b[0m\n",
      "\u001b[0;32m/Users/manu/Documents/Developpement/python/anaconda3/lib/python3.6/json/decoder.py\u001b[0m in \u001b[0;36mraw_decode\u001b[0;34m(self, s, idx)\u001b[0m\n\u001b[1;32m    355\u001b[0m             \u001b[0mobj\u001b[0m\u001b[0;34m,\u001b[0m \u001b[0mend\u001b[0m \u001b[0;34m=\u001b[0m \u001b[0mself\u001b[0m\u001b[0;34m.\u001b[0m\u001b[0mscan_once\u001b[0m\u001b[0;34m(\u001b[0m\u001b[0ms\u001b[0m\u001b[0;34m,\u001b[0m \u001b[0midx\u001b[0m\u001b[0;34m)\u001b[0m\u001b[0;34m\u001b[0m\u001b[0m\n\u001b[1;32m    356\u001b[0m         \u001b[0;32mexcept\u001b[0m \u001b[0mStopIteration\u001b[0m \u001b[0;32mas\u001b[0m \u001b[0merr\u001b[0m\u001b[0;34m:\u001b[0m\u001b[0;34m\u001b[0m\u001b[0m\n\u001b[0;32m--> 357\u001b[0;31m             \u001b[0;32mraise\u001b[0m \u001b[0mJSONDecodeError\u001b[0m\u001b[0;34m(\u001b[0m\u001b[0;34m\"Expecting value\"\u001b[0m\u001b[0;34m,\u001b[0m \u001b[0ms\u001b[0m\u001b[0;34m,\u001b[0m \u001b[0merr\u001b[0m\u001b[0;34m.\u001b[0m\u001b[0mvalue\u001b[0m\u001b[0;34m)\u001b[0m \u001b[0;32mfrom\u001b[0m \u001b[0;32mNone\u001b[0m\u001b[0;34m\u001b[0m\u001b[0m\n\u001b[0m\u001b[1;32m    358\u001b[0m         \u001b[0;32mreturn\u001b[0m \u001b[0mobj\u001b[0m\u001b[0;34m,\u001b[0m \u001b[0mend\u001b[0m\u001b[0;34m\u001b[0m\u001b[0m\n",
      "\u001b[0;31mJSONDecodeError\u001b[0m: Expecting value: line 1 column 1 (char 0)"
     ]
    }
   ],
   "source": [
    "parsed_json = json.loads(str(json_string))\n",
    "location = parsed_json['location']['city']\n",
    "temp_f = parsed_json['current_observation']['temp_f']\n",
    "print(\"Current temperature in %s is: %s\" % (location, temp_f))\n",
    "f.close()"
   ]
  },
  {
   "cell_type": "code",
   "execution_count": 77,
   "metadata": {},
   "outputs": [
    {
     "data": {
      "text/plain": [
       "(4, 4)"
      ]
     },
     "execution_count": 77,
     "metadata": {},
     "output_type": "execute_result"
    }
   ],
   "source": [
    "test2[3]"
   ]
  },
  {
   "cell_type": "code",
   "execution_count": 78,
   "metadata": {},
   "outputs": [
    {
     "data": {
      "text/html": [
       "<div><p><code>mesh2d</code><br /><p><table style=\"border: 0px none;\"><tbody><tr style=\"border: 0px solid\"><th style=\"border:0px none;background:none;\" /><th style=\"color: LightGrey;border:0px none;text-align:center;background:none;\">0</th><th style=\"color: LightGrey;border:0px none;text-align:center;background:none;\">1</th><th style=\"color: LightGrey;border:0px none;text-align:center;background:none;\">2</th><th style=\"color: LightGrey;border:0px none;text-align:center;background:none;\">3</th><th style=\"color: LightGrey;border:0px none;text-align:center;background:none;\">4</th><th style=\"color: LightGrey;border:0px none;text-align:center;background:none;\">5</th><th style=\"color: LightGrey;border:0px none;text-align:center;background:none;\">6</th><th style=\"color: LightGrey;border:0px none;text-align:center;background:none;\">7</th><th style=\"color: LightGrey;border:0px none;text-align:center;background:none;\">8</th><th style=\"color: LightGrey;border:0px none;text-align:center;background:none;\">9</th><th style=\"color: LightGrey;border:0px none;text-align:center;background:none;\">10</th><th style=\"color: LightGrey;border:0px none;text-align:center;background:none;\">11</th><th style=\"color: LightGrey;border:0px none;text-align:center;background:none;\">12</th><th style=\"color: LightGrey;border:0px none;text-align:center;background:none;\">13</th><th style=\"color: LightGrey;border:0px none;text-align:center;background:none;\">14</th><th style=\"color: LightGrey;border:0px none;text-align:center;background:none;\">...</th><th style=\"color: LightGrey;border:0px none;text-align:center;background:none;\">59</th></tr><tr><td><b>Label</b><span> [unit]</span></td><td>0</td><td>1</td><td>2</td><td>3</td><td>4</td><td>5</td><td>6</td><td>7</td><td>8</td><td>9</td><td>10</td><td>11</td><td>12</td><td>13</td><td>14</td><td>...</td><td>59</td></tr><tr><td><b>Label</b><span> [unit]</span></td><td>10.0</td><td>12.8414709848</td><td>14.9092974268</td><td>4.14112000806</td><td>7.24319750469</td><td>9.04107572534</td><td>11.7205845018</td><td>14.6569865987</td><td>16.9893582466</td><td>18.4121184852</td><td>19.4559788891</td><td>21.0000097934</td><td>23.463427082</td><td>26.4201670368</td><td>28.9906073557</td><td>...</td><td>118.636738007</td></tr></tbody></table></p></p></div>"
      ],
      "text/plain": [
       "x = mesh1d(data=[ 0,  1,  2,  3,  4,  5,  6,  7,  8,  9, 10, 11, 12, 13, 14, 15, 16,\n",
       "       17, 18, 19, 20, 21, 22, 23, 24, 25, 26, 27, 28, 29, 30, 31, 32, 33,\n",
       "       34, 35, 36, 37, 38, 39, 40, 41, 42, 43, 44, 45, 46, 47, 48, 49, 50,\n",
       "       51, 52, 53, 54, 55, 56, 57, 58, 59], label=\"None\", unit=\"None\")\n",
       "y = mesh1d(data=[  10.  ,   12.84,   14.91,    4.14,    7.24,    9.04,   11.72,\n",
       "         14.66,   16.99,   18.41,   19.46,   21.  ,   23.46,   26.42,\n",
       "         28.99,   30.65,   31.71,   33.04,   35.25,   38.15,   40.91,\n",
       "         42.84,   43.99,   45.15,   47.09,   49.87,   52.76,   54.96,\n",
       "         56.27,   57.34,   59.01,   61.6 ,   64.55,   67.  ,   68.53,\n",
       "         69.57,   71.01,   73.36,   76.3 ,   78.96,   80.75,   81.84,\n",
       "         83.08,   85.17,   88.02,   90.85,   92.9 ,   94.12,   95.23,\n",
       "         97.05,   99.74,  102.67,  104.99,  106.4 ,  107.44,  109.  ,\n",
       "        111.48,  114.44,  116.99,  118.64], label=\"None\", unit=\"None\")"
      ]
     },
     "execution_count": 78,
     "metadata": {},
     "output_type": "execute_result"
    }
   ],
   "source": [
    "test + test2 + test2"
   ]
  },
  {
   "cell_type": "code",
   "execution_count": 79,
   "metadata": {
    "scrolled": true
   },
   "outputs": [
    {
     "name": "stdout",
     "output_type": "stream",
     "text": [
      "(0, 0.0)\n",
      "(1, 0.8414709848078965)\n",
      "(2, 0.90929742682568171)\n",
      "(3, 0.14112000805986721)\n",
      "(4, -0.7568024953079282)\n",
      "(5, -0.95892427466313845)\n",
      "(6, -0.27941549819892586)\n",
      "(7, 0.65698659871878906)\n",
      "(8, 0.98935824662338179)\n",
      "(9, 0.41211848524175659)\n",
      "(10, -0.54402111088936989)\n",
      "(11, -0.99999020655070348)\n",
      "(12, -0.53657291800043494)\n",
      "(13, 0.42016703682664092)\n",
      "(14, 0.99060735569487035)\n",
      "(15, 0.65028784015711694)\n",
      "(16, -0.2879033166650653)\n",
      "(17, -0.96139749187955681)\n",
      "(18, -0.75098724677167605)\n",
      "(19, 0.14987720966295234)\n",
      "(20, 0.91294525072762767)\n",
      "(21, 0.83665563853605596)\n",
      "(22, -0.0088513092904038762)\n",
      "(23, -0.84622040417517064)\n",
      "(24, -0.90557836200662389)\n",
      "(25, -0.13235175009777303)\n",
      "(26, 0.7625584504796028)\n",
      "(27, 0.95637592840450303)\n",
      "(28, 0.27090578830786904)\n",
      "(29, -0.66363388421296754)\n",
      "(30, -0.98803162409286183)\n",
      "(31, -0.40403764532306502)\n",
      "(32, 0.55142668124169059)\n",
      "(33, 0.99991186010726718)\n",
      "(34, 0.52908268612002385)\n",
      "(35, -0.42818266949615102)\n",
      "(36, -0.99177885344311578)\n",
      "(37, -0.64353813335699939)\n",
      "(38, 0.29636857870938532)\n",
      "(39, 0.96379538628408779)\n",
      "(40, 0.74511316047934883)\n",
      "(41, -0.15862266880470899)\n",
      "(42, -0.91652154791563378)\n",
      "(43, -0.8317747426285983)\n",
      "(44, 0.017701925105413577)\n",
      "(45, 0.85090352453411844)\n",
      "(46, 0.90178834764880922)\n",
      "(47, 0.123573122745224)\n",
      "(48, -0.76825466132366682)\n",
      "(49, -0.95375265275947185)\n",
      "(50, -0.26237485370392877)\n",
      "(51, 0.67022917584337471)\n",
      "(52, 0.98662759204048534)\n",
      "(53, 0.39592515018183422)\n",
      "(54, -0.55878904885161618)\n",
      "(55, -0.99975517335861985)\n",
      "(56, -0.52155100208691185)\n",
      "(57, 0.43616475524782494)\n",
      "(58, 0.99287264808453712)\n",
      "(59, 0.63673800713913786)\n"
     ]
    }
   ],
   "source": [
    "for _a in test:\n",
    "    print(_a)"
   ]
  },
  {
   "cell_type": "code",
   "execution_count": 80,
   "metadata": {},
   "outputs": [
    {
     "name": "stderr",
     "output_type": "stream",
     "text": [
      "WARNING:lerp.intern:36:exportToCSV() is deprecated\n"
     ]
    },
    {
     "ename": "TypeError",
     "evalue": "expected str, bytes or os.PathLike object, not NoneType",
     "output_type": "error",
     "traceback": [
      "\u001b[0;31m---------------------------------------------------------------------------\u001b[0m",
      "\u001b[0;31mTypeError\u001b[0m                                 Traceback (most recent call last)",
      "\u001b[0;32m<ipython-input-80-22e65c23813b>\u001b[0m in \u001b[0;36m<module>\u001b[0;34m()\u001b[0m\n\u001b[0;32m----> 1\u001b[0;31m \u001b[0mtest\u001b[0m\u001b[0;34m.\u001b[0m\u001b[0mexportToCSV\u001b[0m\u001b[0;34m(\u001b[0m\u001b[0;34m\"/tmp/aze.csv\"\u001b[0m\u001b[0;34m)\u001b[0m\u001b[0;34m\u001b[0m\u001b[0m\n\u001b[0m",
      "\u001b[0;32m/Users/manu/Documents/Developpement/python/anaconda3/lib/python3.6/site-packages/lerp/intern.py\u001b[0m in \u001b[0;36mwrapper\u001b[0;34m(*args, **kwargs)\u001b[0m\n\u001b[1;32m     35\u001b[0m         \u001b[0;32mif\u001b[0m \u001b[0mcount\u001b[0m\u001b[0;34m[\u001b[0m\u001b[0;36m0\u001b[0m\u001b[0;34m]\u001b[0m \u001b[0;34m==\u001b[0m \u001b[0;36m1\u001b[0m\u001b[0;34m:\u001b[0m\u001b[0;34m\u001b[0m\u001b[0m\n\u001b[1;32m     36\u001b[0m             \u001b[0mlogger\u001b[0m\u001b[0;34m.\u001b[0m\u001b[0mwarning\u001b[0m\u001b[0;34m(\u001b[0m\u001b[0;34m\"{}() is deprecated\"\u001b[0m\u001b[0;34m.\u001b[0m\u001b[0mformat\u001b[0m\u001b[0;34m(\u001b[0m\u001b[0mfunc\u001b[0m\u001b[0;34m.\u001b[0m\u001b[0m__name__\u001b[0m\u001b[0;34m)\u001b[0m\u001b[0;34m)\u001b[0m\u001b[0;34m\u001b[0m\u001b[0m\n\u001b[0;32m---> 37\u001b[0;31m         \u001b[0;32mreturn\u001b[0m \u001b[0mfunc\u001b[0m\u001b[0;34m(\u001b[0m\u001b[0;34m*\u001b[0m\u001b[0margs\u001b[0m\u001b[0;34m,\u001b[0m \u001b[0;34m**\u001b[0m\u001b[0mkwargs\u001b[0m\u001b[0;34m)\u001b[0m\u001b[0;34m\u001b[0m\u001b[0m\n\u001b[0m\u001b[1;32m     38\u001b[0m     \u001b[0;32mreturn\u001b[0m \u001b[0mwrapper\u001b[0m\u001b[0;34m\u001b[0m\u001b[0m\n\u001b[1;32m     39\u001b[0m \u001b[0;34m\u001b[0m\u001b[0m\n",
      "\u001b[0;32m/Users/manu/Documents/Developpement/python/anaconda3/lib/python3.6/site-packages/lerp/__init__.py\u001b[0m in \u001b[0;36mexportToCSV\u001b[0;34m(self, nbreDecimales, fileName)\u001b[0m\n\u001b[1;32m    834\u001b[0m \u001b[0;34m\u001b[0m\u001b[0m\n\u001b[1;32m    835\u001b[0m     \u001b[0;31m# Compatibilité avec les anciens scripts\u001b[0m\u001b[0;34m\u001b[0m\u001b[0;34m\u001b[0m\u001b[0m\n\u001b[0;32m--> 836\u001b[0;31m     \u001b[0;34m@\u001b[0m\u001b[0mdeprecated\u001b[0m\u001b[0;34m\u001b[0m\u001b[0m\n\u001b[0m\u001b[1;32m    837\u001b[0m     \u001b[0;32mdef\u001b[0m \u001b[0mexportToCSV\u001b[0m\u001b[0;34m(\u001b[0m\u001b[0mself\u001b[0m\u001b[0;34m,\u001b[0m \u001b[0mnbreDecimales\u001b[0m\u001b[0;34m=\u001b[0m\u001b[0;36m2\u001b[0m\u001b[0;34m,\u001b[0m \u001b[0mfileName\u001b[0m\u001b[0;34m=\u001b[0m\u001b[0;32mNone\u001b[0m\u001b[0;34m)\u001b[0m\u001b[0;34m:\u001b[0m\u001b[0;34m\u001b[0m\u001b[0m\n\u001b[1;32m    838\u001b[0m         \u001b[0mself\u001b[0m\u001b[0;34m.\u001b[0m\u001b[0mto_csv\u001b[0m\u001b[0;34m(\u001b[0m\u001b[0mfileName\u001b[0m\u001b[0;34m,\u001b[0m \u001b[0mnbreDecimales\u001b[0m\u001b[0;34m)\u001b[0m\u001b[0;34m\u001b[0m\u001b[0m\n",
      "\u001b[0;32m/Users/manu/Documents/Developpement/python/anaconda3/lib/python3.6/site-packages/lerp/__init__.py\u001b[0m in \u001b[0;36mto_csv\u001b[0;34m(self, fileName, nbreDecimales)\u001b[0m\n\u001b[1;32m    852\u001b[0m \u001b[0;34m\u001b[0m\u001b[0m\n\u001b[1;32m    853\u001b[0m \u001b[0;34m\u001b[0m\u001b[0m\n\u001b[0;32m--> 854\u001b[0;31m         \u001b[0;32mimport\u001b[0m \u001b[0mcsv\u001b[0m\u001b[0;34m\u001b[0m\u001b[0m\n\u001b[0m\u001b[1;32m    855\u001b[0m \u001b[0;34m\u001b[0m\u001b[0m\n\u001b[1;32m    856\u001b[0m         \u001b[0;32mwith\u001b[0m \u001b[0mopen\u001b[0m\u001b[0;34m(\u001b[0m\u001b[0mfileName\u001b[0m\u001b[0;34m,\u001b[0m \u001b[0;34m'w'\u001b[0m\u001b[0;34m)\u001b[0m \u001b[0;32mas\u001b[0m \u001b[0mf\u001b[0m\u001b[0;34m:\u001b[0m\u001b[0;34m\u001b[0m\u001b[0m\n",
      "\u001b[0;31mTypeError\u001b[0m: expected str, bytes or os.PathLike object, not NoneType"
     ]
    }
   ],
   "source": [
    "test.exportToCSV(\"/tmp/aze.csv\")"
   ]
  },
  {
   "cell_type": "code",
   "execution_count": 81,
   "metadata": {
    "collapsed": true
   },
   "outputs": [],
   "source": [
    "# http://stackoverflow.com/questions/24063788/python3-singledispatch-in-class-how-to-dispatch-self-type\n",
    "from numbers import Number\n",
    "from functools import singledispatch\n",
    "\n",
    "class Vector(object):\n",
    "\n",
    "    def __init__(self):\n",
    "        self.X = 5\n",
    "        \n",
    "    @singledispatch\n",
    "    def __mul__(self, other):\n",
    "        return NotImplemented\n",
    "\n",
    "@Vector.__mul__.register(int)\n",
    "@Vector.__mul__.register(Vector)                \n",
    "def _(self, other):\n",
    "    self.X = self.X * other\n",
    "    print(\"gloaaat\")\n",
    "    return self.X\n",
    "\n",
    "@Vector.__mul__.register(float)\n",
    "def _(self, other):\n",
    "    print(\"gloat\")\n",
    "    self.X = self.X*other*10\n",
    "    return self.X"
   ]
  },
  {
   "cell_type": "code",
   "execution_count": 82,
   "metadata": {
    "collapsed": true
   },
   "outputs": [],
   "source": [
    "class Vector(object):\n",
    "\n",
    "    def __init__(self):\n",
    "        self.X = 5\n",
    "    def __mul__(self, other):\n",
    "        return _vector_mul(other, self)\n",
    "\n",
    "@singledispatch\n",
    "def _vector_mul(other, self):\n",
    "    return NotImplemented\n",
    "\n",
    "@_vector_mul.register(int)\n",
    "def _vector_int_mul(other, self):\n",
    "    self.X = self.X * other\n",
    "    print(\"gloaaat\")\n",
    "    return self.X\n",
    "\n",
    "@_vector_mul.register(Number)\n",
    "def _vector_int_mul(other, self):\n",
    "    self.X = self.X * other\n",
    "    print(\"QSD\")\n",
    "    return self.X\n",
    "\n",
    "@_vector_mul.register(Vector)\n",
    "def _vector_int_mul(other, self):\n",
    "    self.X = self.X * other.X\n",
    "    print(\"QSOTD\")\n",
    "    return self.X"
   ]
  },
  {
   "cell_type": "code",
   "execution_count": 83,
   "metadata": {},
   "outputs": [
    {
     "name": "stdout",
     "output_type": "stream",
     "text": [
      "gloaaat\n"
     ]
    },
    {
     "data": {
      "text/plain": [
       "5"
      ]
     },
     "execution_count": 83,
     "metadata": {},
     "output_type": "execute_result"
    }
   ],
   "source": [
    "Vector()*1"
   ]
  },
  {
   "cell_type": "markdown",
   "metadata": {},
   "source": [
    "## mesh3d"
   ]
  },
  {
   "cell_type": "code",
   "execution_count": 36,
   "metadata": {},
   "outputs": [
    {
     "data": {
      "image/png": "[encoded data removed]",
      "text/plain": [
       "<matplotlib.figure.Figure at 0x111b512b0>"
      ]
     },
     "metadata": {},
     "output_type": "display_data"
    }
   ],
   "source": [
    "import numpy as np\n",
    "import matplotlib.pyplot as plt\n",
    "from scipy import interpolate\n",
    "\n",
    "x = np.array([[0.12, 0.11, 0.1, 0.09, 0.08],\n",
    "              [0.13, 0.12, 0.11, 0.1, 0.09],\n",
    "              [0.15, 0.14, 0.12, 0.11, 0.1],\n",
    "              [0.17, 0.15, 0.14, 0.12, 0.11],\n",
    "              [0.19, 0.17, 0.16, 0.14, 0.12],\n",
    "              [0.22, 0.19, 0.17, 0.15, 0.13],\n",
    "              [0.24, 0.22, 0.19, 0.16, 0.14],\n",
    "              [0.27, 0.24, 0.21, 0.18, 0.15],\n",
    "              [0.29, 0.26, 0.22, 0.19, 0.16]])\n",
    "\n",
    "\n",
    "y = np.array([[71.64, 78.52, 84.91, 89.35, 97.58],\n",
    "              [66.28, 73.67, 79.87, 85.36, 93.24],\n",
    "              [61.48, 69.31, 75.36, 81.87, 89.35],\n",
    "              [57.61, 65.75, 71.7, 79.1, 86.13],\n",
    "              [55.12, 63.34, 69.32, 77.29, 83.88],\n",
    "              [54.58, 62.54, 68.7, 76.72, 82.92],\n",
    "              [56.58, 63.87, 70.3, 77.69, 83.53],\n",
    "              [61.67, 67.79, 74.41, 80.43, 85.86],\n",
    "              [70.08, 74.62, 80.93, 85.06, 89.84]])\n",
    "\n",
    "\n",
    "plt.figure(figsize = (9, 9))\n",
    "plt.subplot(111)\n",
    "for i in range(5):\n",
    "    x_val = np.linspace(x[0, i], x[-1, i], 100)\n",
    "    x_int = np.interp(x_val, x[:, i], y[:, i])\n",
    "    tck = interpolate.splrep(x[:, i], y[:, i], k = 2, s = 4)\n",
    "    y_int = interpolate.splev(x_val, tck, der = 0)\n",
    "    plt.plot(x[:, i], y[:, i], linestyle = '', marker = 'o')\n",
    "    plt.plot(x_val, y_int, linestyle = ':', linewidth = 0.25, color =  'black')\n",
    "plt.xlabel('X')\n",
    "plt.ylabel('Y')\n",
    "plt.show()"
   ]
  },
  {
   "cell_type": "markdown",
   "metadata": {},
   "source": [
    "## Polymesh2d"
   ]
  },
  {
   "cell_type": "code",
   "execution_count": 85,
   "metadata": {
    "collapsed": true
   },
   "outputs": [],
   "source": [
    "class myRecArray(np.ndarray):\n",
    "    def __new__(cls, data=None, label=None, unit=None):\n",
    "        # We first cast to be our class type\n",
    "        x = data[0]\n",
    "        print(x)\n",
    "        y = mesh1d(data[1], label=\"mon label\", unit=\"mon unité\")\n",
    "        obj = np.rec.array([x, y], dtype=[('X', mesh1d),('Y', mesh1d)]).view(cls)\n",
    "#        obj = np.asarray(data).view(cls)\n",
    "        obj.label = label\n",
    "        obj.unit = unit\n",
    "\n",
    "        return obj\n",
    "\n",
    "    def __array_finalize__(self, obj):\n",
    "        # see InfoArray.__array_finalize__ for comments\n",
    "        self.unit = getattr(obj, 'unit', None)\n",
    "        self.label = getattr(obj, 'label', None)\n",
    "\n",
    "#    def __numpy_ufunc__(max, myMax)\n"
   ]
  },
  {
   "cell_type": "code",
   "execution_count": 86,
   "metadata": {
    "collapsed": true
   },
   "outputs": [],
   "source": [
    "A = np.rec.array([mesh1d(np.arange(4)), mesh1d([1, 51, 10, 45])], dtype=[('X', mesh1d),('Y', mesh1d)]) #.view(cls)"
   ]
  },
  {
   "cell_type": "code",
   "execution_count": 87,
   "metadata": {},
   "outputs": [
    {
     "data": {
      "text/plain": [
       "array([0, 1, 2, 3], dtype=object)"
      ]
     },
     "execution_count": 87,
     "metadata": {},
     "output_type": "execute_result"
    }
   ],
   "source": [
    "A.X"
   ]
  },
  {
   "cell_type": "code",
   "execution_count": null,
   "metadata": {
    "collapsed": true
   },
   "outputs": [],
   "source": []
  },
  {
   "cell_type": "code",
   "execution_count": 88,
   "metadata": {},
   "outputs": [
    {
     "name": "stdout",
     "output_type": "stream",
     "text": [
      "[1, 51, 10, 45]\n"
     ]
    },
    {
     "ename": "ValueError",
     "evalue": "Setting void-array with object members using buffer.",
     "output_type": "error",
     "traceback": [
      "\u001b[0;31m---------------------------------------------------------------------------\u001b[0m",
      "\u001b[0;31mValueError\u001b[0m                                Traceback (most recent call last)",
      "\u001b[0;32m<ipython-input-88-fb3592aef4e3>\u001b[0m in \u001b[0;36m<module>\u001b[0;34m()\u001b[0m\n\u001b[0;32m----> 1\u001b[0;31m \u001b[0mA\u001b[0m \u001b[0;34m=\u001b[0m \u001b[0mmyRecArray\u001b[0m\u001b[0;34m(\u001b[0m\u001b[0;34m[\u001b[0m\u001b[0;34m[\u001b[0m\u001b[0;36m1\u001b[0m\u001b[0;34m,\u001b[0m \u001b[0;36m51\u001b[0m\u001b[0;34m,\u001b[0m \u001b[0;36m10\u001b[0m\u001b[0;34m,\u001b[0m \u001b[0;36m45\u001b[0m\u001b[0;34m]\u001b[0m\u001b[0;34m,\u001b[0m \u001b[0mnp\u001b[0m\u001b[0;34m.\u001b[0m\u001b[0marange\u001b[0m\u001b[0;34m(\u001b[0m\u001b[0;36m4\u001b[0m\u001b[0;34m)\u001b[0m\u001b[0;34m]\u001b[0m\u001b[0;34m,\u001b[0m \u001b[0munit\u001b[0m\u001b[0;34m=\u001b[0m\u001b[0;34m\"mon unité\"\u001b[0m\u001b[0;34m)\u001b[0m\u001b[0;34m\u001b[0m\u001b[0m\n\u001b[0m",
      "\u001b[0;32m<ipython-input-85-d090e49b6b24>\u001b[0m in \u001b[0;36m__new__\u001b[0;34m(cls, data, label, unit)\u001b[0m\n\u001b[1;32m      5\u001b[0m         \u001b[0mprint\u001b[0m\u001b[0;34m(\u001b[0m\u001b[0mx\u001b[0m\u001b[0;34m)\u001b[0m\u001b[0;34m\u001b[0m\u001b[0m\n\u001b[1;32m      6\u001b[0m         \u001b[0my\u001b[0m \u001b[0;34m=\u001b[0m \u001b[0mmesh1d\u001b[0m\u001b[0;34m(\u001b[0m\u001b[0mdata\u001b[0m\u001b[0;34m[\u001b[0m\u001b[0;36m1\u001b[0m\u001b[0;34m]\u001b[0m\u001b[0;34m,\u001b[0m \u001b[0mlabel\u001b[0m\u001b[0;34m=\u001b[0m\u001b[0;34m\"mon label\"\u001b[0m\u001b[0;34m,\u001b[0m \u001b[0munit\u001b[0m\u001b[0;34m=\u001b[0m\u001b[0;34m\"mon unité\"\u001b[0m\u001b[0;34m)\u001b[0m\u001b[0;34m\u001b[0m\u001b[0m\n\u001b[0;32m----> 7\u001b[0;31m         \u001b[0mobj\u001b[0m \u001b[0;34m=\u001b[0m \u001b[0mnp\u001b[0m\u001b[0;34m.\u001b[0m\u001b[0mrec\u001b[0m\u001b[0;34m.\u001b[0m\u001b[0marray\u001b[0m\u001b[0;34m(\u001b[0m\u001b[0;34m[\u001b[0m\u001b[0mx\u001b[0m\u001b[0;34m,\u001b[0m \u001b[0my\u001b[0m\u001b[0;34m]\u001b[0m\u001b[0;34m,\u001b[0m \u001b[0mdtype\u001b[0m\u001b[0;34m=\u001b[0m\u001b[0;34m[\u001b[0m\u001b[0;34m(\u001b[0m\u001b[0;34m'X'\u001b[0m\u001b[0;34m,\u001b[0m \u001b[0mmesh1d\u001b[0m\u001b[0;34m)\u001b[0m\u001b[0;34m,\u001b[0m\u001b[0;34m(\u001b[0m\u001b[0;34m'Y'\u001b[0m\u001b[0;34m,\u001b[0m \u001b[0mmesh1d\u001b[0m\u001b[0;34m)\u001b[0m\u001b[0;34m]\u001b[0m\u001b[0;34m)\u001b[0m\u001b[0;34m.\u001b[0m\u001b[0mview\u001b[0m\u001b[0;34m(\u001b[0m\u001b[0mcls\u001b[0m\u001b[0;34m)\u001b[0m\u001b[0;34m\u001b[0m\u001b[0m\n\u001b[0m\u001b[1;32m      8\u001b[0m \u001b[0;31m#        obj = np.asarray(data).view(cls)\u001b[0m\u001b[0;34m\u001b[0m\u001b[0;34m\u001b[0m\u001b[0m\n\u001b[1;32m      9\u001b[0m         \u001b[0mobj\u001b[0m\u001b[0;34m.\u001b[0m\u001b[0mlabel\u001b[0m \u001b[0;34m=\u001b[0m \u001b[0mlabel\u001b[0m\u001b[0;34m\u001b[0m\u001b[0m\n",
      "\u001b[0;32m/Users/manu/Documents/Developpement/python/anaconda3/lib/python3.6/site-packages/numpy/core/records.py\u001b[0m in \u001b[0;36marray\u001b[0;34m(obj, dtype, shape, offset, strides, formats, names, titles, aligned, byteorder, copy)\u001b[0m\n\u001b[1;32m    821\u001b[0m     \u001b[0;32melif\u001b[0m \u001b[0misinstance\u001b[0m\u001b[0;34m(\u001b[0m\u001b[0mobj\u001b[0m\u001b[0;34m,\u001b[0m \u001b[0;34m(\u001b[0m\u001b[0mlist\u001b[0m\u001b[0;34m,\u001b[0m \u001b[0mtuple\u001b[0m\u001b[0;34m)\u001b[0m\u001b[0;34m)\u001b[0m\u001b[0;34m:\u001b[0m\u001b[0;34m\u001b[0m\u001b[0m\n\u001b[1;32m    822\u001b[0m         \u001b[0;32mif\u001b[0m \u001b[0misinstance\u001b[0m\u001b[0;34m(\u001b[0m\u001b[0mobj\u001b[0m\u001b[0;34m[\u001b[0m\u001b[0;36m0\u001b[0m\u001b[0;34m]\u001b[0m\u001b[0;34m,\u001b[0m \u001b[0;34m(\u001b[0m\u001b[0mtuple\u001b[0m\u001b[0;34m,\u001b[0m \u001b[0mlist\u001b[0m\u001b[0;34m)\u001b[0m\u001b[0;34m)\u001b[0m\u001b[0;34m:\u001b[0m\u001b[0;34m\u001b[0m\u001b[0m\n\u001b[0;32m--> 823\u001b[0;31m             \u001b[0;32mreturn\u001b[0m \u001b[0mfromrecords\u001b[0m\u001b[0;34m(\u001b[0m\u001b[0mobj\u001b[0m\u001b[0;34m,\u001b[0m \u001b[0mdtype\u001b[0m\u001b[0;34m=\u001b[0m\u001b[0mdtype\u001b[0m\u001b[0;34m,\u001b[0m \u001b[0mshape\u001b[0m\u001b[0;34m=\u001b[0m\u001b[0mshape\u001b[0m\u001b[0;34m,\u001b[0m \u001b[0;34m**\u001b[0m\u001b[0mkwds\u001b[0m\u001b[0;34m)\u001b[0m\u001b[0;34m\u001b[0m\u001b[0m\n\u001b[0m\u001b[1;32m    824\u001b[0m         \u001b[0;32melse\u001b[0m\u001b[0;34m:\u001b[0m\u001b[0;34m\u001b[0m\u001b[0m\n\u001b[1;32m    825\u001b[0m             \u001b[0;32mreturn\u001b[0m \u001b[0mfromarrays\u001b[0m\u001b[0;34m(\u001b[0m\u001b[0mobj\u001b[0m\u001b[0;34m,\u001b[0m \u001b[0mdtype\u001b[0m\u001b[0;34m=\u001b[0m\u001b[0mdtype\u001b[0m\u001b[0;34m,\u001b[0m \u001b[0mshape\u001b[0m\u001b[0;34m=\u001b[0m\u001b[0mshape\u001b[0m\u001b[0;34m,\u001b[0m \u001b[0;34m**\u001b[0m\u001b[0mkwds\u001b[0m\u001b[0;34m)\u001b[0m\u001b[0;34m\u001b[0m\u001b[0m\n",
      "\u001b[0;32m/Users/manu/Documents/Developpement/python/anaconda3/lib/python3.6/site-packages/numpy/core/records.py\u001b[0m in \u001b[0;36mfromrecords\u001b[0;34m(recList, dtype, shape, formats, names, titles, aligned, byteorder)\u001b[0m\n\u001b[1;32m    669\u001b[0m \u001b[0;34m\u001b[0m\u001b[0m\n\u001b[1;32m    670\u001b[0m     \u001b[0;32mtry\u001b[0m\u001b[0;34m:\u001b[0m\u001b[0;34m\u001b[0m\u001b[0m\n\u001b[0;32m--> 671\u001b[0;31m         \u001b[0mretval\u001b[0m \u001b[0;34m=\u001b[0m \u001b[0msb\u001b[0m\u001b[0;34m.\u001b[0m\u001b[0marray\u001b[0m\u001b[0;34m(\u001b[0m\u001b[0mrecList\u001b[0m\u001b[0;34m,\u001b[0m \u001b[0mdtype\u001b[0m\u001b[0;34m=\u001b[0m\u001b[0mdescr\u001b[0m\u001b[0;34m)\u001b[0m\u001b[0;34m\u001b[0m\u001b[0m\n\u001b[0m\u001b[1;32m    672\u001b[0m     \u001b[0;32mexcept\u001b[0m \u001b[0mTypeError\u001b[0m\u001b[0;34m:\u001b[0m  \u001b[0;31m# list of lists instead of list of tuples\u001b[0m\u001b[0;34m\u001b[0m\u001b[0m\n\u001b[1;32m    673\u001b[0m         \u001b[0;32mif\u001b[0m \u001b[0;34m(\u001b[0m\u001b[0mshape\u001b[0m \u001b[0;32mis\u001b[0m \u001b[0;32mNone\u001b[0m \u001b[0;32mor\u001b[0m \u001b[0mshape\u001b[0m \u001b[0;34m==\u001b[0m \u001b[0;36m0\u001b[0m\u001b[0;34m)\u001b[0m\u001b[0;34m:\u001b[0m\u001b[0;34m\u001b[0m\u001b[0m\n",
      "\u001b[0;31mValueError\u001b[0m: Setting void-array with object members using buffer."
     ]
    }
   ],
   "source": [
    "A = myRecArray([[1, 51, 10, 45], np.arange(4)], unit=\"mon unité\")"
   ]
  },
  {
   "cell_type": "code",
   "execution_count": 89,
   "metadata": {},
   "outputs": [
    {
     "data": {
      "text/plain": [
       "rec.array([(0, 1), (1, 51), (2, 10), (3, 45)], \n",
       "          dtype=[('X', 'O'), ('Y', 'O')])"
      ]
     },
     "execution_count": 89,
     "metadata": {},
     "output_type": "execute_result"
    }
   ],
   "source": [
    "A"
   ]
  },
  {
   "cell_type": "code",
   "execution_count": 90,
   "metadata": {},
   "outputs": [
    {
     "data": {
      "text/plain": [
       "(0, 1)"
      ]
     },
     "execution_count": 90,
     "metadata": {},
     "output_type": "execute_result"
    }
   ],
   "source": [
    "A[0]"
   ]
  },
  {
   "cell_type": "markdown",
   "metadata": {},
   "source": [
    "## mesh3d"
   ]
  },
  {
   "cell_type": "code",
   "execution_count": 91,
   "metadata": {
    "collapsed": true
   },
   "outputs": [],
   "source": [
    "from scipy.interpolate import dfitpack, fitpack"
   ]
  },
  {
   "cell_type": "code",
   "execution_count": 92,
   "metadata": {},
   "outputs": [
    {
     "ename": "NameError",
     "evalue": "name 'm3d' is not defined",
     "output_type": "error",
     "traceback": [
      "\u001b[0;31m---------------------------------------------------------------------------\u001b[0m",
      "\u001b[0;31mNameError\u001b[0m                                 Traceback (most recent call last)",
      "\u001b[0;32m<ipython-input-92-24a04b41ceca>\u001b[0m in \u001b[0;36m<module>\u001b[0;34m()\u001b[0m\n\u001b[0;32m----> 1\u001b[0;31m \u001b[0mget_ipython\u001b[0m\u001b[0;34m(\u001b[0m\u001b[0;34m)\u001b[0m\u001b[0;34m.\u001b[0m\u001b[0mrun_cell_magic\u001b[0m\u001b[0;34m(\u001b[0m\u001b[0;34m'timeit'\u001b[0m\u001b[0;34m,\u001b[0m \u001b[0;34m''\u001b[0m\u001b[0;34m,\u001b[0m \u001b[0;34m'\\n_, tx, _, ty, c, _, _ = dfitpack.regrid_smth(m3d._X, m3d._Y, np.ravel(m3d.W), kx=1, ky=1)\\nfitpack.bisplev(12,2.5,(tx, ty, c, 1, 1))'\u001b[0m\u001b[0;34m)\u001b[0m\u001b[0;34m\u001b[0m\u001b[0m\n\u001b[0m",
      "\u001b[0;32m/Users/manu/Documents/Developpement/python/anaconda3/lib/python3.6/site-packages/IPython/core/interactiveshell.py\u001b[0m in \u001b[0;36mrun_cell_magic\u001b[0;34m(self, magic_name, line, cell)\u001b[0m\n\u001b[1;32m   2085\u001b[0m             \u001b[0mmagic_arg_s\u001b[0m \u001b[0;34m=\u001b[0m \u001b[0mself\u001b[0m\u001b[0;34m.\u001b[0m\u001b[0mvar_expand\u001b[0m\u001b[0;34m(\u001b[0m\u001b[0mline\u001b[0m\u001b[0;34m,\u001b[0m \u001b[0mstack_depth\u001b[0m\u001b[0;34m)\u001b[0m\u001b[0;34m\u001b[0m\u001b[0m\n\u001b[1;32m   2086\u001b[0m             \u001b[0;32mwith\u001b[0m \u001b[0mself\u001b[0m\u001b[0;34m.\u001b[0m\u001b[0mbuiltin_trap\u001b[0m\u001b[0;34m:\u001b[0m\u001b[0;34m\u001b[0m\u001b[0m\n\u001b[0;32m-> 2087\u001b[0;31m                 \u001b[0mresult\u001b[0m \u001b[0;34m=\u001b[0m \u001b[0mfn\u001b[0m\u001b[0;34m(\u001b[0m\u001b[0mmagic_arg_s\u001b[0m\u001b[0;34m,\u001b[0m \u001b[0mcell\u001b[0m\u001b[0;34m)\u001b[0m\u001b[0;34m\u001b[0m\u001b[0m\n\u001b[0m\u001b[1;32m   2088\u001b[0m             \u001b[0;32mreturn\u001b[0m \u001b[0mresult\u001b[0m\u001b[0;34m\u001b[0m\u001b[0m\n\u001b[1;32m   2089\u001b[0m \u001b[0;34m\u001b[0m\u001b[0m\n",
      "\u001b[0;32m<decorator-gen-59>\u001b[0m in \u001b[0;36mtimeit\u001b[0;34m(self, line, cell)\u001b[0m\n",
      "\u001b[0;32m/Users/manu/Documents/Developpement/python/anaconda3/lib/python3.6/site-packages/IPython/core/magic.py\u001b[0m in \u001b[0;36m<lambda>\u001b[0;34m(f, *a, **k)\u001b[0m\n\u001b[1;32m    186\u001b[0m     \u001b[0;31m# but it's overkill for just that one bit of state.\u001b[0m\u001b[0;34m\u001b[0m\u001b[0;34m\u001b[0m\u001b[0m\n\u001b[1;32m    187\u001b[0m     \u001b[0;32mdef\u001b[0m \u001b[0mmagic_deco\u001b[0m\u001b[0;34m(\u001b[0m\u001b[0marg\u001b[0m\u001b[0;34m)\u001b[0m\u001b[0;34m:\u001b[0m\u001b[0;34m\u001b[0m\u001b[0m\n\u001b[0;32m--> 188\u001b[0;31m         \u001b[0mcall\u001b[0m \u001b[0;34m=\u001b[0m \u001b[0;32mlambda\u001b[0m \u001b[0mf\u001b[0m\u001b[0;34m,\u001b[0m \u001b[0;34m*\u001b[0m\u001b[0ma\u001b[0m\u001b[0;34m,\u001b[0m \u001b[0;34m**\u001b[0m\u001b[0mk\u001b[0m\u001b[0;34m:\u001b[0m \u001b[0mf\u001b[0m\u001b[0;34m(\u001b[0m\u001b[0;34m*\u001b[0m\u001b[0ma\u001b[0m\u001b[0;34m,\u001b[0m \u001b[0;34m**\u001b[0m\u001b[0mk\u001b[0m\u001b[0;34m)\u001b[0m\u001b[0;34m\u001b[0m\u001b[0m\n\u001b[0m\u001b[1;32m    189\u001b[0m \u001b[0;34m\u001b[0m\u001b[0m\n\u001b[1;32m    190\u001b[0m         \u001b[0;32mif\u001b[0m \u001b[0mcallable\u001b[0m\u001b[0;34m(\u001b[0m\u001b[0marg\u001b[0m\u001b[0;34m)\u001b[0m\u001b[0;34m:\u001b[0m\u001b[0;34m\u001b[0m\u001b[0m\n",
      "\u001b[0;32m/Users/manu/Documents/Developpement/python/anaconda3/lib/python3.6/site-packages/IPython/core/magics/execution.py\u001b[0m in \u001b[0;36mtimeit\u001b[0;34m(self, line, cell)\u001b[0m\n\u001b[1;32m   1063\u001b[0m             \u001b[0;32mfor\u001b[0m \u001b[0mindex\u001b[0m \u001b[0;32min\u001b[0m \u001b[0mrange\u001b[0m\u001b[0;34m(\u001b[0m\u001b[0;36m0\u001b[0m\u001b[0;34m,\u001b[0m \u001b[0;36m10\u001b[0m\u001b[0;34m)\u001b[0m\u001b[0;34m:\u001b[0m\u001b[0;34m\u001b[0m\u001b[0m\n\u001b[1;32m   1064\u001b[0m                 \u001b[0mnumber\u001b[0m \u001b[0;34m=\u001b[0m \u001b[0;36m10\u001b[0m \u001b[0;34m**\u001b[0m \u001b[0mindex\u001b[0m\u001b[0;34m\u001b[0m\u001b[0m\n\u001b[0;32m-> 1065\u001b[0;31m                 \u001b[0mtime_number\u001b[0m \u001b[0;34m=\u001b[0m \u001b[0mtimer\u001b[0m\u001b[0;34m.\u001b[0m\u001b[0mtimeit\u001b[0m\u001b[0;34m(\u001b[0m\u001b[0mnumber\u001b[0m\u001b[0;34m)\u001b[0m\u001b[0;34m\u001b[0m\u001b[0m\n\u001b[0m\u001b[1;32m   1066\u001b[0m                 \u001b[0;32mif\u001b[0m \u001b[0mtime_number\u001b[0m \u001b[0;34m>=\u001b[0m \u001b[0;36m0.2\u001b[0m\u001b[0;34m:\u001b[0m\u001b[0;34m\u001b[0m\u001b[0m\n\u001b[1;32m   1067\u001b[0m                     \u001b[0;32mbreak\u001b[0m\u001b[0;34m\u001b[0m\u001b[0m\n",
      "\u001b[0;32m/Users/manu/Documents/Developpement/python/anaconda3/lib/python3.6/site-packages/IPython/core/magics/execution.py\u001b[0m in \u001b[0;36mtimeit\u001b[0;34m(self, number)\u001b[0m\n\u001b[1;32m    157\u001b[0m         \u001b[0mgc\u001b[0m\u001b[0;34m.\u001b[0m\u001b[0mdisable\u001b[0m\u001b[0;34m(\u001b[0m\u001b[0;34m)\u001b[0m\u001b[0;34m\u001b[0m\u001b[0m\n\u001b[1;32m    158\u001b[0m         \u001b[0;32mtry\u001b[0m\u001b[0;34m:\u001b[0m\u001b[0;34m\u001b[0m\u001b[0m\n\u001b[0;32m--> 159\u001b[0;31m             \u001b[0mtiming\u001b[0m \u001b[0;34m=\u001b[0m \u001b[0mself\u001b[0m\u001b[0;34m.\u001b[0m\u001b[0minner\u001b[0m\u001b[0;34m(\u001b[0m\u001b[0mit\u001b[0m\u001b[0;34m,\u001b[0m \u001b[0mself\u001b[0m\u001b[0;34m.\u001b[0m\u001b[0mtimer\u001b[0m\u001b[0;34m)\u001b[0m\u001b[0;34m\u001b[0m\u001b[0m\n\u001b[0m\u001b[1;32m    160\u001b[0m         \u001b[0;32mfinally\u001b[0m\u001b[0;34m:\u001b[0m\u001b[0;34m\u001b[0m\u001b[0m\n\u001b[1;32m    161\u001b[0m             \u001b[0;32mif\u001b[0m \u001b[0mgcold\u001b[0m\u001b[0;34m:\u001b[0m\u001b[0;34m\u001b[0m\u001b[0m\n",
      "\u001b[0;32m<magic-timeit>\u001b[0m in \u001b[0;36minner\u001b[0;34m(_it, _timer)\u001b[0m\n",
      "\u001b[0;31mNameError\u001b[0m: name 'm3d' is not defined"
     ]
    }
   ],
   "source": [
    "%%timeit \n",
    "\n",
    "_, tx, _, ty, c, _, _ = dfitpack.regrid_smth(m3d._X, m3d._Y, np.ravel(m3d.W), kx=1, ky=1)\n",
    "fitpack.bisplev(12,2.5,(tx, ty, c, 1, 1))"
   ]
  },
  {
   "cell_type": "code",
   "execution_count": 35,
   "metadata": {
    "collapsed": true
   },
   "outputs": [],
   "source": [
    "def extrapolate(self, X, Y):\n",
    "    if X <= self.X[0]:\n",
    "        iX = 0\n",
    "    elif X >= self.X[-1]:\n",
    "        iX = -2\n",
    "    else:\n",
    "        iX = np.searchsorted(self.X, X) - 1\n",
    "\n",
    "    if Y <= self.Y[0]:\n",
    "        iY = 0\n",
    "    elif Y >= self.Y[-1]:\n",
    "        iY = -2\n",
    "    else:\n",
    "        iY = np.searchsorted(self.Y, Y) - 1\n",
    "\n",
    "    Z1 = self.W[iX, iY] + (self.W[iX, iY+1] - self.W[iX, iY]) * \\\n",
    "        (Y - self.Y[iY]) / (self.Y[iY+1] - self.Y[iY])\n",
    "    Z2 = self.W[iX+1, iY] + (self.W[iX+1, iY+1] - self.W[iX+1, iY]) * \\\n",
    "        (Y - self.Y[iY]) / (self.Y[iY+1] - self.Y[iY])\n",
    "\n",
    "    return Z1 + (Z2 - Z1) * (X - self.X[iX]) / (self.X[iX+1] - self.X[iX])"
   ]
  },
  {
   "cell_type": "code",
   "execution_count": 45,
   "metadata": {
    "collapsed": true
   },
   "outputs": [],
   "source": [
    "def interpolate(self, X, Y):\n",
    "    if X <= self.X[0]:\n",
    "        return np.interp(Y, self.Y, self.W[0])\n",
    "    elif X >= self.X[-1]:\n",
    "        return np.interp(Y, self.Y, self.W[-1])\n",
    "    else:\n",
    "        iX = np.searchsorted(self.X, X) - 1\n",
    "\n",
    "    if Y <= self.Y[0]:\n",
    "        return np.interp(X, self.X, self.W[:,0])\n",
    "    elif Y >= self.Y[-1]:\n",
    "        return np.interp(X, self.X, self.W[:,-1])\n",
    "    else:\n",
    "        iY = np.searchsorted(self.Y, Y) - 1\n",
    "\n",
    "    Z1 = self.W[iX, iY] + (self.W[iX, iY+1] - self.W[iX, iY]) * \\\n",
    "        (Y - self.Y[iY]) / (self.Y[iY+1] - self.Y[iY])\n",
    "    Z2 = self.W[iX+1, iY] + (self.W[iX+1, iY+1] - self.W[iX+1, iY]) * \\\n",
    "        (Y - self.Y[iY]) / (self.Y[iY+1] - self.Y[iY])\n",
    "\n",
    "    return Z1 + (Z2 - Z1) * (X - self.X[iX]) / (self.X[iX+1] - self.X[iX])"
   ]
  },
  {
   "cell_type": "code",
   "execution_count": 51,
   "metadata": {},
   "outputs": [
    {
     "name": "stdout",
     "output_type": "stream",
     "text": [
      "The slowest run took 4.53 times longer than the fastest. This could mean that an intermediate result is being cached.\n",
      "100000 loops, best of 3: 11.4 µs per loop\n"
     ]
    }
   ],
   "source": [
    "%timeit interpolate(m3d, 15,1)"
   ]
  },
  {
   "cell_type": "markdown",
   "metadata": {},
   "source": [
    "np.diff(m3d.W[1:3,2:4], axis=1)"
   ]
  },
  {
   "cell_type": "code",
   "execution_count": 17,
   "metadata": {},
   "outputs": [
    {
     "name": "stdout",
     "output_type": "stream",
     "text": [
      "100000 loops, best of 3: 15.2 µs per loop\n"
     ]
    }
   ],
   "source": [
    "%timeit np.diff(m3d.W[1:3,2:4], axis=1)"
   ]
  },
  {
   "cell_type": "code",
   "execution_count": 23,
   "metadata": {},
   "outputs": [
    {
     "name": "stdout",
     "output_type": "stream",
     "text": [
      "The slowest run took 5.83 times longer than the fastest. This could mean that an intermediate result is being cached.\n",
      "100000 loops, best of 3: 6.7 µs per loop\n"
     ]
    }
   ],
   "source": [
    "%timeit m3d.W[1:3,3] - m3d.W[1:3,2]"
   ]
  },
  {
   "cell_type": "code",
   "execution_count": 15,
   "metadata": {},
   "outputs": [
    {
     "data": {
      "text/plain": [
       "array([[-36., -39.]])"
      ]
     },
     "execution_count": 15,
     "metadata": {},
     "output_type": "execute_result"
    }
   ],
   "source": [
    "np.diff(m3d.W[1:3,2:4], axis=0)"
   ]
  },
  {
   "cell_type": "code",
   "execution_count": 95,
   "metadata": {
    "collapsed": true
   },
   "outputs": [],
   "source": [
    "m3d = mesh3d(np.arange(100),np.arange(50),np.random.random((50,100)))"
   ]
  },
  {
   "cell_type": "code",
   "execution_count": null,
   "metadata": {
    "collapsed": true
   },
   "outputs": [],
   "source": [
    "def extrapolate(self, X, Y):\n",
    "        iX = 0\n",
    "        iY = 0\n",
    "\n",
    "        if X <= self.X[0]:\n",
    "            iX = 0\n",
    "        elif X >= self.X[-1]:\n",
    "            iX = -2\n",
    "        else:\n",
    "            iX = np.where(self.X < X)[0][-1]\n",
    "\n",
    "        if Y <= self.Y[0]:\n",
    "            iY = 0\n",
    "        elif Y >= self.Y[-1]:\n",
    "            iY = -2\n",
    "        else:\n",
    "            iY = np.where(self.Y < Y)[0][-1]\n",
    "\n",
    "        Z1 = self.W[iY, iX] + (self.W[iY, iX+1] - self.W[iY, iX]) * \\\n",
    "            (X - self.X[iX]) / (self.X[iX+1] - self.X[iX])\n",
    "        Z2 = self.W[iY+1, iX] + (self.W[iY+1, iX+1] - self.W[iY+1, iX]) * \\\n",
    "            (X - self.X[iX]) / (self.X[iX+1] - self.X[iX])\n",
    "\n",
    "        return Z1 + (Z2 - Z1) * (Y - self.Y[iY]) / (self.Y[iY+1] - self.Y[iY])\n",
    "\n",
    "def extrapolate1(self, _X, _Y):\n",
    "    xNew = np.searchsorted(self.X, _X).clip(1, len(self.X)-1).astype(int)\n",
    "    yNew = np.searchsorted(self.Y, _Y).clip(1, len(self.Y)-1).astype(int)\n",
    "\n",
    "    # 4. Calculate the slope of regions that each X value falls in.\n",
    "    xLo, xHi = xNew - 1, xNew\n",
    "    yLo, yHi = yNew - 1, yNew\n",
    "\n",
    "    x11 = self.X[xLo]\n",
    "    x12 = self.X[xHi]\n",
    "    y11 = self.Y[yLo]\n",
    "    y21 = self.Y[yHi]\n",
    "    w11 = self.W[:,xLo]\n",
    "    w12 = self.W[:,xHi]\n",
    "    \n",
    "    # Note that the following two expressions rely on the specifics of the\n",
    "    # broadcasting semantics.\n",
    "    xSlope = (w12 - w11) / (x12 - x11)\n",
    "\n",
    "    # 5. Calculate the actual value for each entry in X.\n",
    "    yNew = xSlope * (_X - x11) + w11\n",
    "    \n",
    "    w11 = yNew[yLo]\n",
    "    w21 = yNew[yHi]\n",
    "    \n",
    "    ySlope = (w21 - w11) / (y21 - y11)\n",
    "\n",
    "    yNew = ySlope * (_Y - y11) + w11\n",
    "\n",
    "    return np.array(yNew)\n",
    "\n",
    "def extrapolate2(self, X, Y):\n",
    "\n",
    "    iX = -2 if X >= self.X[-1] else \\\n",
    "        np.searchsorted(self.X, X).clip(1, len(self.X)-1).astype(int) - 1\n",
    "\n",
    "    iY = -2 if Y >= self.Y[-1] else \\\n",
    "        np.searchsorted(self.Y, Y).clip(1, len(self.Y)-1).astype(int) - 1\n",
    "\n",
    "    Z1 = self.W[iY, iX] + (self.W[iY, iX+1] - self.W[iY, iX]) * \\\n",
    "        (X - self.X[iX]) / (self.X[iX+1] - self.X[iX])\n",
    "    Z2 = self.W[iY+1, iX] + (self.W[iY+1, iX+1] - self.W[iY+1, iX]) * \\\n",
    "        (X - self.X[iX]) / (self.X[iX+1] - self.X[iX])\n",
    "\n",
    "    return Z1 + (Z2 - Z1) * (Y - self.Y[iY]) / (self.Y[iY+1] - self.Y[iY])"
   ]
  },
  {
   "cell_type": "code",
   "execution_count": 140,
   "metadata": {
    "collapsed": true
   },
   "outputs": [],
   "source": [
    "def extrapolate3(self, X, Y):\n",
    "    gc.disable()\n",
    "    st = time.time()\n",
    "\n",
    "\n",
    "    if X <= self.X[0]:\n",
    "        iX = 0\n",
    "    elif X >= self.X[-1]:\n",
    "        iX = -2\n",
    "    else:\n",
    "        iX = np.searchsorted(self.X, X) - 1\n",
    "\n",
    "    if Y <= self.Y[0]:\n",
    "        iY = 0\n",
    "    elif Y >= self.Y[-1]:\n",
    "        iY = -2\n",
    "    else:\n",
    "        iY = np.searchsorted(self.Y, Y) - 1\n",
    "\n",
    "    Z1 = self.W[iY, iX] + (self.W[iY, iX+1] - self.W[iY, iX]) * \\\n",
    "        (X - self.X[iX]) / (self.X[iX+1] - self.X[iX])\n",
    "    Z2 = self.W[iY+1, iX] + (self.W[iY+1, iX+1] - self.W[iY+1, iX]) * \\\n",
    "        (X - self.X[iX]) / (self.X[iX+1] - self.X[iX])\n",
    "\n",
    "    return Z1 + (Z2 - Z1) * (Y - self.Y[iY]) / (self.Y[iY+1] - self.Y[iY])"
   ]
  },
  {
   "cell_type": "code",
   "execution_count": 134,
   "metadata": {
    "collapsed": true
   },
   "outputs": [],
   "source": []
  },
  {
   "cell_type": "code",
   "execution_count": 137,
   "metadata": {},
   "outputs": [
    {
     "name": "stdout",
     "output_type": "stream",
     "text": [
      "10000 loops, best of 3: 58.4 µs per loop\n"
     ]
    },
    {
     "ename": "AttributeError",
     "evalue": "'list' object has no attribute 'worst'",
     "output_type": "error",
     "traceback": [
      "\u001b[0;31m---------------------------------------------------------------------------\u001b[0m",
      "\u001b[0;31mAttributeError\u001b[0m                            Traceback (most recent call last)",
      "\u001b[0;32m<ipython-input-137-3b72afb776db>\u001b[0m in \u001b[0;36m<module>\u001b[0;34m()\u001b[0m\n\u001b[1;32m      1\u001b[0m \u001b[0mt\u001b[0m \u001b[0;34m=\u001b[0m \u001b[0;34m[\u001b[0m\u001b[0;34m]\u001b[0m\u001b[0;34m\u001b[0m\u001b[0m\n\u001b[1;32m      2\u001b[0m \u001b[0mget_ipython\u001b[0m\u001b[0;34m(\u001b[0m\u001b[0;34m)\u001b[0m\u001b[0;34m.\u001b[0m\u001b[0mmagic\u001b[0m\u001b[0;34m(\u001b[0m\u001b[0;34m'timeit -o extrapolate(m3d, 10, 7.5)'\u001b[0m\u001b[0;34m)\u001b[0m\u001b[0;34m\u001b[0m\u001b[0m\n\u001b[0;32m----> 3\u001b[0;31m \u001b[0mt\u001b[0m\u001b[0;34m.\u001b[0m\u001b[0mappend\u001b[0m\u001b[0;34m(\u001b[0m\u001b[0m_\u001b[0m\u001b[0;34m.\u001b[0m\u001b[0mworst\u001b[0m\u001b[0;34m)\u001b[0m\u001b[0;34m\u001b[0m\u001b[0m\n\u001b[0m\u001b[1;32m      4\u001b[0m \u001b[0mget_ipython\u001b[0m\u001b[0;34m(\u001b[0m\u001b[0;34m)\u001b[0m\u001b[0;34m.\u001b[0m\u001b[0mmagic\u001b[0m\u001b[0;34m(\u001b[0m\u001b[0;34m'timeit -o extrapolate1(m3d, 10, 7.5)'\u001b[0m\u001b[0;34m)\u001b[0m\u001b[0;34m\u001b[0m\u001b[0m\n\u001b[1;32m      5\u001b[0m \u001b[0mt\u001b[0m\u001b[0;34m.\u001b[0m\u001b[0mappend\u001b[0m\u001b[0;34m(\u001b[0m\u001b[0m_\u001b[0m\u001b[0;34m.\u001b[0m\u001b[0mworst\u001b[0m\u001b[0;34m)\u001b[0m\u001b[0;34m\u001b[0m\u001b[0m\n",
      "\u001b[0;31mAttributeError\u001b[0m: 'list' object has no attribute 'worst'"
     ]
    }
   ],
   "source": [
    "t = []\n",
    "%timeit -o extrapolate(m3d, 10, 7.5)\n",
    "t.append(_.worst)\n",
    "%timeit -o extrapolate1(m3d, 10, 7.5)\n",
    "t.append(_.worst)\n",
    "\n"
   ]
  }
 ],
 "metadata": {
  "anaconda-cloud": {},
  "kernelspec": {
   "display_name": "Python 3",
   "language": "python",
   "name": "python3"
  },
  "language_info": {
   "codemirror_mode": {
    "name": "ipython",
    "version": 3
   },
   "file_extension": ".py",
   "mimetype": "text/x-python",
   "name": "python",
   "nbconvert_exporter": "python",
   "pygments_lexer": "ipython3",
   "version": "3.6.1"
  },
  "toc": {
   "colors": {
    "hover_highlight": "#DAA520",
    "running_highlight": "#FF0000",
    "selected_highlight": "#FFD700"
   },
   "moveMenuLeft": true,
   "nav_menu": {
    "height": "120px",
    "width": "252px"
   },
   "navigate_menu": true,
   "number_sections": true,
   "sideBar": true,
   "threshold": 4,
   "toc_cell": false,
   "toc_position": {
    "height": "1223px",
    "left": "0px",
    "right": "auto",
    "top": "106px",
    "width": "212px"
   },
   "toc_section_display": "block",
   "toc_window_display": true,
   "widenNotebook": false
  }
 },
 "nbformat": 4,
 "nbformat_minor": 1
}
