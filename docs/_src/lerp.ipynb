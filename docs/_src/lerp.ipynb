{
 "cells": [
  {
   "cell_type": "markdown",
   "metadata": {},
   "source": [
    "<img src=\"https://home-ed.vic.edu.au/wp-content/uploads/2016/12/draft.jpg\"/>"
   ]
  },
  {
   "cell_type": "markdown",
   "metadata": {},
   "source": [
    "<section>\n",
    "In mathematics, linear interpolation is a method of curve fitting using linear polynomials to construct new data points within the range of a discrete set of known data points.<sup><a href=\"#fn1\" id=\"r1\">[1]</a></sup>\n",
    "</section>"
   ]
  },
  {
   "cell_type": "code",
   "execution_count": 1,
   "metadata": {},
   "outputs": [
    {
     "name": "stdout",
     "output_type": "stream",
     "text": [
      "The watermark extension is already loaded. To reload it, use:\n",
      "  %reload_ext watermark\n",
      "2017-09-25 10:33:14 \n",
      "\n",
      "CPython 3.6.2\n",
      "IPython 6.2.0\n",
      "\n",
      "numpy 1.13.1\n",
      "matplotlib 2.0.2\n",
      "pandas 0.20.3\n"
     ]
    }
   ],
   "source": [
    "%load_ext watermark\n",
    "%matplotlib inline\n",
    "%watermark -dtv -p numpy,matplotlib,pandas\n",
    "\n",
    "import matplotlib.pylab as plt\n",
    "import lerp\n",
    "from lerp import *\n",
    "\n",
    "plt.style.use('ggplot')"
   ]
  },
  {
   "cell_type": "code",
   "execution_count": 2,
   "metadata": {},
   "outputs": [
    {
     "data": {
      "text/plain": [
       "True"
      ]
     },
     "execution_count": 2,
     "metadata": {},
     "output_type": "execute_result"
    }
   ],
   "source": [
    "pd.options.compute.use_bottleneck"
   ]
  },
  {
   "cell_type": "markdown",
   "metadata": {},
   "source": [
    "# Usage"
   ]
  },
  {
   "cell_type": "markdown",
   "metadata": {},
   "source": [
    "## mesh1d"
   ]
  },
  {
   "cell_type": "code",
   "execution_count": 3,
   "metadata": {},
   "outputs": [],
   "source": [
    "A = mesh1d(d=[1.040, 1.051, 1.057, 1.063, 1.064, 1.067, 1.068, 1.068, 1.068, 1.066, 1.064,\n",
    "              1.060, 1.056, 1.050, 1.042, 1.032], label=\"Ballistic coefficient\", unit=\"G1\")"
   ]
  },
  {
   "cell_type": "code",
   "execution_count": 4,
   "metadata": {},
   "outputs": [
    {
     "data": {
      "text/html": [
       "<div><p><code>mesh1d</code><span>: </span><b>Ballistic coefficient</b><span> [G1]</span><br /><p><table style=\"border: 0px none;\"><tbody><tr style=\"border:0px none;                    border-bottom:1px solid #C0C0C0;background:none;\"><th style=\"color:LightGrey;border:0px none;text-align:center;background:none;\">0</th><th style=\"color:LightGrey;border:0px none;text-align:center;background:none;\">1</th><th style=\"color:LightGrey;border:0px none;text-align:center;background:none;\">2</th><th style=\"color:LightGrey;border:0px none;text-align:center;background:none;\">3</th><th style=\"color:LightGrey;border:0px none;text-align:center;background:none;\">4</th><th style=\"color:LightGrey;border:0px none;text-align:center;background:none;\">5</th><th style=\"color:LightGrey;border:0px none;text-align:center;background:none;\">6</th><th style=\"color:LightGrey;border:0px none;text-align:center;background:none;\">7</th><th style=\"color:LightGrey;border:0px none;text-align:center;background:none;\">8</th><th style=\"color:LightGrey;border:0px none;text-align:center;background:none;\">9</th><th style=\"color:LightGrey;border:0px none;text-align:center;background:none;\">10</th><th style=\"color:LightGrey;border:0px none;text-align:center;background:none;\">11</th><th style=\"color:LightGrey;border:0px none;text-align:center;background:none;\">12</th><th style=\"color:LightGrey;border:0px none;text-align:center;background:none;\">13</th><th style=\"color:LightGrey;border:0px none;text-align:center;background:none;\">14</th><th style=\"color:LightGrey;border:0px none;text-align:center;background:none;\">15</th></tr><tr style=\"border: 0px solid\"><td>1.04</td><td>1.051</td><td>1.057</td><td>1.063</td><td>1.064</td><td>1.067</td><td>1.068</td><td>1.068</td><td>1.068</td><td>1.066</td><td>1.064</td><td>1.06</td><td>1.056</td><td>1.05</td><td>1.042</td><td>1.032</td></tr></tbody></table></p></p></div>"
      ],
      "text/plain": [
       "mesh1d(d=[ 1.04,  1.05,  1.06,  1.06,  1.06,  1.07,  1.07,  1.07,  1.07,\n",
       "         1.07,  1.06,  1.06,  1.06,  1.05,  1.04,  1.03], label=\"Ballistic coefficient\", unit=\"G1\")"
      ]
     },
     "execution_count": 4,
     "metadata": {},
     "output_type": "execute_result"
    }
   ],
   "source": [
    "A"
   ]
  },
  {
   "cell_type": "code",
   "execution_count": 5,
   "metadata": {},
   "outputs": [
    {
     "data": {
      "text/plain": [
       "[<matplotlib.lines.Line2D at 0x111164518>]"
      ]
     },
     "execution_count": 5,
     "metadata": {},
     "output_type": "execute_result"
    },
    {
     "data": {
      "image/png": "[encoded data removed]",
      "text/plain": [
       "<matplotlib.figure.Figure at 0x10ee8a828>"
      ]
     },
     "metadata": {},
     "output_type": "display_data"
    }
   ],
   "source": [
    "A.plot()"
   ]
  },
  {
   "cell_type": "markdown",
   "metadata": {},
   "source": [
    "## mesh2d"
   ]
  },
  {
   "cell_type": "markdown",
   "metadata": {},
   "source": [
    "From <a href=\"https://en.wikipedia.org/wiki/Ballistic_coefficient#The_transient_nature_of_bullet_ballistic_coefficients\">Ballistic coefficient</a> article in Wikipedia.\n",
    "\n",
    "Doppler radar measurement results for a lathe turned monolithic solid .50 BMG very-low-drag bullet (Lost River J40 13.0 millimetres (0.510 in), 50.1 grams (773 gr) monolithic solid bullet / twist rate 1:380 millimetres (15 in)) look like this:\n"
   ]
  },
  {
   "cell_type": "code",
   "execution_count": 6,
   "metadata": {},
   "outputs": [],
   "source": [
    "BC = mesh2d(x=np.arange(500,2100,100), x_label=\"Range\", x_unit=\"m\",\n",
    "            d=[1.040, 1.051, 1.057, 1.063, 1.064, 1.067, 1.068, 1.068, 1.068, 1.066, 1.064,\n",
    "               1.060, 1.056, 1.050, 1.042, 1.032], label=\"Ballistic coefficient\", unit=\"G1\")"
   ]
  },
  {
   "cell_type": "markdown",
   "metadata": {},
   "source": [
    "Display in the jupyter notebooks / ipython"
   ]
  },
  {
   "cell_type": "code",
   "execution_count": 7,
   "metadata": {},
   "outputs": [
    {
     "data": {
      "text/html": [
       "<div><p><code>mesh2d</code><br /><p><table style=\"border: 0px none;\"><tbody><tr style=\"border:0px none;                border-bottom:1px solid #C0C0C0;background:none;\"><th style=\"border:0px none;                background:none;\" /><th style=\"color:LightGrey;border:0px none;text-align:center;background:none;\">0</th><th style=\"color:LightGrey;border:0px none;text-align:center;background:none;\">1</th><th style=\"color:LightGrey;border:0px none;text-align:center;background:none;\">2</th><th style=\"color:LightGrey;border:0px none;text-align:center;background:none;\">3</th><th style=\"color:LightGrey;border:0px none;text-align:center;background:none;\">4</th><th style=\"color:LightGrey;border:0px none;text-align:center;background:none;\">5</th><th style=\"color:LightGrey;border:0px none;text-align:center;background:none;\">6</th><th style=\"color:LightGrey;border:0px none;text-align:center;background:none;\">7</th><th style=\"color:LightGrey;border:0px none;text-align:center;background:none;\">8</th><th style=\"color:LightGrey;border:0px none;text-align:center;background:none;\">9</th><th style=\"color:LightGrey;border:0px none;text-align:center;background:none;\">10</th><th style=\"color:LightGrey;border:0px none;text-align:center;background:none;\">11</th><th style=\"color:LightGrey;border:0px none;text-align:center;background:none;\">12</th><th style=\"color:LightGrey;border:0px none;text-align:center;background:none;\">13</th><th style=\"color:LightGrey;border:0px none;text-align:center;background:none;\">14</th><th style=\"color:LightGrey;border:0px none;text-align:center;background:none;\">15</th></tr><tr><td><b>Range</b><span> [m]</span></td><td>500</td><td>600</td><td>700</td><td>800</td><td>900</td><td>1000</td><td>1100</td><td>1200</td><td>1300</td><td>1400</td><td>1500</td><td>1600</td><td>1700</td><td>1800</td><td>1900</td><td>2000</td></tr><tr><td><b>Ballistic coefficient</b><span> [G1]</span></td><td>1.04</td><td>1.051</td><td>1.057</td><td>1.063</td><td>1.064</td><td>1.067</td><td>1.068</td><td>1.068</td><td>1.068</td><td>1.066</td><td>1.064</td><td>1.06</td><td>1.056</td><td>1.05</td><td>1.042</td><td>1.032</td></tr></tbody></table></p></p></div>"
      ],
      "text/plain": [
       "x = mesh1d(d=[ 500,  600,  700,  800,  900, 1000, 1100, 1200, 1300, 1400, 1500,\n",
       "        1600, 1700, 1800, 1900, 2000], label=\"Range\", unit=\"m\")\n",
       "d = array([ 1.04 ,  1.051,  1.057,  1.063,  1.064,  1.067,  1.068,  1.068,\n",
       "        1.068,  1.066,  1.064,  1.06 ,  1.056,  1.05 ,  1.042,  1.032])"
      ]
     },
     "execution_count": 7,
     "metadata": {},
     "output_type": "execute_result"
    }
   ],
   "source": [
    "BC"
   ]
  },
  {
   "cell_type": "markdown",
   "metadata": {},
   "source": [
    "Interpolation"
   ]
  },
  {
   "cell_type": "code",
   "execution_count": 8,
   "metadata": {},
   "outputs": [
    {
     "data": {
      "text/plain": [
       "1.04011"
      ]
     },
     "execution_count": 8,
     "metadata": {},
     "output_type": "execute_result"
    }
   ],
   "source": [
    "BC(501)"
   ]
  },
  {
   "cell_type": "code",
   "execution_count": 9,
   "metadata": {},
   "outputs": [
    {
     "data": {
      "text/plain": [
       "array([ 1.04011,  1.05154,  0.982  ])"
      ]
     },
     "execution_count": 9,
     "metadata": {},
     "output_type": "execute_result"
    }
   ],
   "source": [
    "BC([501, 609, 2500])"
   ]
  },
  {
   "cell_type": "markdown",
   "metadata": {},
   "source": [
    "Default : values are extrapolated"
   ]
  },
  {
   "cell_type": "code",
   "execution_count": 10,
   "metadata": {},
   "outputs": [
    {
     "data": {
      "text/plain": [
       "array([ 1.04011,  1.05154,  1.032  ])"
      ]
     },
     "execution_count": 10,
     "metadata": {},
     "output_type": "execute_result"
    }
   ],
   "source": [
    "BC.interpolate([501, 609, 2500])"
   ]
  },
  {
   "cell_type": "markdown",
   "metadata": {},
   "source": [
    "Interpolation is performed and boundaries values are kept"
   ]
  },
  {
   "cell_type": "code",
   "execution_count": 11,
   "metadata": {},
   "outputs": [
    {
     "data": {
      "text/plain": [
       "{'extrapolate': True, 'step': False}"
      ]
     },
     "execution_count": 11,
     "metadata": {},
     "output_type": "execute_result"
    }
   ],
   "source": [
    "BC.options"
   ]
  },
  {
   "cell_type": "code",
   "execution_count": 12,
   "metadata": {},
   "outputs": [],
   "source": [
    "BC.options['extrapolate']= False"
   ]
  },
  {
   "cell_type": "markdown",
   "metadata": {},
   "source": [
    "This can be controled though the dict key extrapolate in options or interpolate method."
   ]
  },
  {
   "cell_type": "code",
   "execution_count": 13,
   "metadata": {},
   "outputs": [
    {
     "data": {
      "text/plain": [
       "array([ 1.04011,  1.05154,  1.032  ])"
      ]
     },
     "execution_count": 13,
     "metadata": {},
     "output_type": "execute_result"
    }
   ],
   "source": [
    "BC([501, 609, 2500])"
   ]
  },
  {
   "cell_type": "code",
   "execution_count": 14,
   "metadata": {},
   "outputs": [
    {
     "data": {
      "text/plain": [
       "1.0680000000000001"
      ]
     },
     "execution_count": 14,
     "metadata": {},
     "output_type": "execute_result"
    }
   ],
   "source": [
    "BC.max()"
   ]
  },
  {
   "cell_type": "code",
   "execution_count": 15,
   "metadata": {},
   "outputs": [
    {
     "data": {
      "text/plain": [
       "(1100, 1.0680000000000001)"
      ]
     },
     "execution_count": 15,
     "metadata": {},
     "output_type": "execute_result"
    }
   ],
   "source": [
    "BC.max(argwhere=True)"
   ]
  },
  {
   "cell_type": "markdown",
   "metadata": {},
   "source": [
    "Plot as steps"
   ]
  },
  {
   "cell_type": "code",
   "execution_count": 16,
   "metadata": {},
   "outputs": [
    {
     "data": {
      "text/plain": [
       "<matplotlib.legend.Legend at 0x111309fd0>"
      ]
     },
     "execution_count": 16,
     "metadata": {},
     "output_type": "execute_result"
    },
    {
     "data": {
      "image/png": "[encoded data removed]",
      "text/plain": [
       "<matplotlib.figure.Figure at 0x1111d2278>"
      ]
     },
     "metadata": {},
     "output_type": "display_data"
    }
   ],
   "source": [
    "plt.figure(figsize=(12,7))\n",
    "\n",
    "BC.plot(label=\"Interpolation between points\")\n",
    "BC.steps.plot(label=\"Steps\")\n",
    "BC.steps.plot(where=\"pre\", label=\"Steps, pre\")\n",
    "\n",
    "\n",
    "plt.legend(bbox_to_anchor=(1.05, 0.5), loc='center left', facecolor=\"white\", frameon=False)"
   ]
  },
  {
   "cell_type": "markdown",
   "metadata": {},
   "source": [
    "Slicing"
   ]
  },
  {
   "cell_type": "code",
   "execution_count": 17,
   "metadata": {},
   "outputs": [
    {
     "data": {
      "text/html": [
       "<div><p><code>mesh2d</code><br /><p><table style=\"border: 0px none;\"><tbody><tr style=\"border:0px none;                border-bottom:1px solid #C0C0C0;background:none;\"><th style=\"border:0px none;                background:none;\" /><th style=\"color:LightGrey;border:0px none;text-align:center;background:none;\">0</th><th style=\"color:LightGrey;border:0px none;text-align:center;background:none;\">1</th></tr><tr><td><b>Range</b><span> [m]</span></td><td>700</td><td>800</td></tr><tr><td><b>Label</b><span> [unit]</span></td><td>1.057</td><td>1.063</td></tr></tbody></table></p></p></div>"
      ],
      "text/plain": [
       "x = mesh1d(d=[700, 800], label=\"Range\", unit=\"m\")\n",
       "d = array([ 1.057,  1.063])"
      ]
     },
     "execution_count": 17,
     "metadata": {},
     "output_type": "execute_result"
    }
   ],
   "source": [
    "BC[2:4]"
   ]
  },
  {
   "cell_type": "markdown",
   "metadata": {},
   "source": [
    "Breakpoints strictly monotone, reverse oder has no effect"
   ]
  },
  {
   "cell_type": "code",
   "execution_count": 18,
   "metadata": {},
   "outputs": [
    {
     "data": {
      "text/html": [
       "<div><p><code>mesh2d</code><br /><p><table style=\"border: 0px none;\"><tbody><tr style=\"border:0px none;                border-bottom:1px solid #C0C0C0;background:none;\"><th style=\"border:0px none;                background:none;\" /><th style=\"color:LightGrey;border:0px none;text-align:center;background:none;\">0</th><th style=\"color:LightGrey;border:0px none;text-align:center;background:none;\">1</th><th style=\"color:LightGrey;border:0px none;text-align:center;background:none;\">2</th><th style=\"color:LightGrey;border:0px none;text-align:center;background:none;\">3</th><th style=\"color:LightGrey;border:0px none;text-align:center;background:none;\">4</th><th style=\"color:LightGrey;border:0px none;text-align:center;background:none;\">5</th><th style=\"color:LightGrey;border:0px none;text-align:center;background:none;\">6</th><th style=\"color:LightGrey;border:0px none;text-align:center;background:none;\">7</th><th style=\"color:LightGrey;border:0px none;text-align:center;background:none;\">8</th><th style=\"color:LightGrey;border:0px none;text-align:center;background:none;\">9</th><th style=\"color:LightGrey;border:0px none;text-align:center;background:none;\">10</th><th style=\"color:LightGrey;border:0px none;text-align:center;background:none;\">11</th><th style=\"color:LightGrey;border:0px none;text-align:center;background:none;\">12</th><th style=\"color:LightGrey;border:0px none;text-align:center;background:none;\">13</th><th style=\"color:LightGrey;border:0px none;text-align:center;background:none;\">14</th><th style=\"color:LightGrey;border:0px none;text-align:center;background:none;\">15</th></tr><tr><td><b>Range</b><span> [m]</span></td><td>500</td><td>600</td><td>700</td><td>800</td><td>900</td><td>1000</td><td>1100</td><td>1200</td><td>1300</td><td>1400</td><td>1500</td><td>1600</td><td>1700</td><td>1800</td><td>1900</td><td>2000</td></tr><tr><td><b>Label</b><span> [unit]</span></td><td>1.04</td><td>1.051</td><td>1.057</td><td>1.063</td><td>1.064</td><td>1.067</td><td>1.068</td><td>1.068</td><td>1.068</td><td>1.066</td><td>1.064</td><td>1.06</td><td>1.056</td><td>1.05</td><td>1.042</td><td>1.032</td></tr></tbody></table></p></p></div>"
      ],
      "text/plain": [
       "x = mesh1d(d=[ 500,  600,  700,  800,  900, 1000, 1100, 1200, 1300, 1400, 1500,\n",
       "        1600, 1700, 1800, 1900, 2000], label=\"Range\", unit=\"m\")\n",
       "d = array([ 1.04 ,  1.051,  1.057,  1.063,  1.064,  1.067,  1.068,  1.068,\n",
       "        1.068,  1.066,  1.064,  1.06 ,  1.056,  1.05 ,  1.042,  1.032])"
      ]
     },
     "execution_count": 18,
     "metadata": {},
     "output_type": "execute_result"
    }
   ],
   "source": [
    "BC[::-1]"
   ]
  },
  {
   "cell_type": "code",
   "execution_count": 19,
   "metadata": {},
   "outputs": [
    {
     "data": {
      "text/plain": [
       "(1100, 1.0680000000000001)"
      ]
     },
     "execution_count": 19,
     "metadata": {},
     "output_type": "execute_result"
    }
   ],
   "source": [
    "BC[6]"
   ]
  },
  {
   "cell_type": "code",
   "execution_count": 20,
   "metadata": {},
   "outputs": [
    {
     "data": {
      "text/html": [
       "<div><p><code>mesh1d</code><span>: </span><b>Range</b><span> [m]</span><br /><p><table style=\"border: 0px none;\"><tbody><tr style=\"border:0px none;                    border-bottom:1px solid #C0C0C0;background:none;\"><th style=\"color:LightGrey;border:0px none;text-align:center;background:none;\">0</th><th style=\"color:LightGrey;border:0px none;text-align:center;background:none;\">1</th><th style=\"color:LightGrey;border:0px none;text-align:center;background:none;\">2</th><th style=\"color:LightGrey;border:0px none;text-align:center;background:none;\">3</th><th style=\"color:LightGrey;border:0px none;text-align:center;background:none;\">4</th><th style=\"color:LightGrey;border:0px none;text-align:center;background:none;\">5</th><th style=\"color:LightGrey;border:0px none;text-align:center;background:none;\">6</th><th style=\"color:LightGrey;border:0px none;text-align:center;background:none;\">7</th><th style=\"color:LightGrey;border:0px none;text-align:center;background:none;\">8</th><th style=\"color:LightGrey;border:0px none;text-align:center;background:none;\">9</th><th style=\"color:LightGrey;border:0px none;text-align:center;background:none;\">10</th><th style=\"color:LightGrey;border:0px none;text-align:center;background:none;\">11</th><th style=\"color:LightGrey;border:0px none;text-align:center;background:none;\">12</th><th style=\"color:LightGrey;border:0px none;text-align:center;background:none;\">13</th><th style=\"color:LightGrey;border:0px none;text-align:center;background:none;\">14</th><th style=\"color:LightGrey;border:0px none;text-align:center;background:none;\">15</th></tr><tr style=\"border: 0px solid\"><td>500</td><td>600</td><td>700</td><td>800</td><td>900</td><td>1000</td><td>1100</td><td>1200</td><td>1300</td><td>1400</td><td>1500</td><td>1600</td><td>1700</td><td>1800</td><td>1900</td><td>2000</td></tr></tbody></table></p></p></div>"
      ],
      "text/plain": [
       "mesh1d(d=[ 500,  600,  700,  800,  900, 1000, 1100, 1200, 1300, 1400, 1500,\n",
       "        1600, 1700, 1800, 1900, 2000], label=\"Range\", unit=\"m\")"
      ]
     },
     "execution_count": 20,
     "metadata": {},
     "output_type": "execute_result"
    }
   ],
   "source": [
    "BC.x"
   ]
  },
  {
   "cell_type": "code",
   "execution_count": 21,
   "metadata": {},
   "outputs": [
    {
     "data": {
      "text/plain": [
       "array([ 1.04  ,  1.0411,  1.0422,  1.0433,  1.0444])"
      ]
     },
     "execution_count": 21,
     "metadata": {},
     "output_type": "execute_result"
    }
   ],
   "source": [
    "BC(np.arange(500, 550, 10))"
   ]
  },
  {
   "cell_type": "code",
   "execution_count": 22,
   "metadata": {},
   "outputs": [
    {
     "data": {
      "text/html": [
       "<div><p><code>mesh2d</code><br /><p><table style=\"border: 0px none;\"><tbody><tr style=\"border:0px none;                border-bottom:1px solid #C0C0C0;background:none;\"><th style=\"border:0px none;                background:none;\" /><th style=\"color:LightGrey;border:0px none;text-align:center;background:none;\">0</th><th style=\"color:LightGrey;border:0px none;text-align:center;background:none;\">1</th><th style=\"color:LightGrey;border:0px none;text-align:center;background:none;\">2</th><th style=\"color:LightGrey;border:0px none;text-align:center;background:none;\">3</th><th style=\"color:LightGrey;border:0px none;text-align:center;background:none;\">4</th><th style=\"color:LightGrey;border:0px none;text-align:center;background:none;\">5</th><th style=\"color:LightGrey;border:0px none;text-align:center;background:none;\">6</th><th style=\"color:LightGrey;border:0px none;text-align:center;background:none;\">7</th></tr><tr><td><b>Range</b><span> [m]</span></td><td>500</td><td>700</td><td>900</td><td>1100</td><td>1300</td><td>1500</td><td>1700</td><td>1900</td></tr><tr><td><b>Ballistic coefficient</b><span> [G1]</span></td><td>1.04</td><td>1.057</td><td>1.064</td><td>1.068</td><td>1.068</td><td>1.064</td><td>1.056</td><td>1.042</td></tr></tbody></table></p></p></div>"
      ],
      "text/plain": [
       "x = mesh1d(d=[ 500,  700,  900, 1100, 1300, 1500, 1700, 1900], label=\"Range\", unit=\"m\")\n",
       "d = array([ 1.04 ,  1.057,  1.064,  1.068,  1.068,  1.064,  1.056,  1.042])"
      ]
     },
     "execution_count": 22,
     "metadata": {},
     "output_type": "execute_result"
    }
   ],
   "source": [
    "BC.resample(np.arange(500, 2000, 200))"
   ]
  },
  {
   "cell_type": "code",
   "execution_count": 23,
   "metadata": {},
   "outputs": [
    {
     "data": {
      "text/plain": [
       "array([ 1.04 ,  1.051,  1.057,  1.063,  1.064,  1.067,  1.068,  1.068,\n",
       "        1.068,  1.066,  1.064,  1.06 ,  1.056,  1.05 ,  1.042,  1.032])"
      ]
     },
     "execution_count": 23,
     "metadata": {},
     "output_type": "execute_result"
    }
   ],
   "source": [
    "BC.steps(BC.x)"
   ]
  },
  {
   "cell_type": "code",
   "execution_count": 24,
   "metadata": {},
   "outputs": [
    {
     "data": {
      "text/plain": [
       "{'_d': array([ 1.04 ,  1.051,  1.057,  1.063,  1.064,  1.067,  1.068,  1.068,\n",
       "         1.068,  1.066,  1.064,  1.06 ,  1.056,  1.05 ,  1.042,  1.032]),\n",
       " '_options': {'extrapolate': False, 'step': False},\n",
       " '_steps': x = mesh1d(d=[ 500,  600,  700,  800,  900, 1000, 1100, 1200, 1300, 1400, 1500,\n",
       "         1600, 1700, 1800, 1900, 2000], label=\"Range\", unit=\"m\")\n",
       " d = array([ 1.04 ,  1.051,  1.057,  1.063,  1.064,  1.067,  1.068,  1.068,\n",
       "         1.068,  1.066,  1.064,  1.06 ,  1.056,  1.05 ,  1.042,  1.032]),\n",
       " '_x': mesh1d(d=[ 500,  600,  700,  800,  900, 1000, 1100, 1200, 1300, 1400, 1500,\n",
       "         1600, 1700, 1800, 1900, 2000], label=\"Range\", unit=\"m\"),\n",
       " 'label': 'Ballistic coefficient',\n",
       " 'unit': 'G1'}"
      ]
     },
     "execution_count": 24,
     "metadata": {},
     "output_type": "execute_result"
    }
   ],
   "source": [
    "BC.__dict__"
   ]
  },
  {
   "cell_type": "markdown",
   "metadata": {},
   "source": [
    "<h3><code>.polyfit()</code>: how to get a <code>polymesh</code> object from discrete values</h3>"
   ]
  },
  {
   "cell_type": "code",
   "execution_count": 25,
   "metadata": {},
   "outputs": [
    {
     "data": {
      "image/png": "[encoded data removed]",
      "text/plain": [
       "<matplotlib.figure.Figure at 0x1112954a8>"
      ]
     },
     "metadata": {},
     "output_type": "display_data"
    }
   ],
   "source": [
    "BC.plot(\"+\", c=\"blue\")\n",
    "BC.polyfit(degree=2).plot(xlim=[500,2000])\n",
    "BC.polyfit(degree=4).plot(xlim=[500,2000], ylim=[1.02, 1.08])"
   ]
  },
  {
   "cell_type": "code",
   "execution_count": 26,
   "metadata": {},
   "outputs": [
    {
     "data": {
      "text/html": [
       "-3.589644359768045e-14·x⁴ + 1.82022505358413e-10·x³ - 3.8212396800824965e-07·x² + 0.00037528910653330063·x + 0.9278994701119299"
      ],
      "text/plain": [
       "-3.589644359768045e-14·x^4 + 1.82022505358413e-10·x^3 - 3.8212396800824965e-07·x^2 + 0.00037528910653330063·x + 0.9278994701119299"
      ]
     },
     "execution_count": 26,
     "metadata": {},
     "output_type": "execute_result"
    }
   ],
   "source": [
    "BC.polyfit(degree=4)"
   ]
  },
  {
   "cell_type": "code",
   "execution_count": 27,
   "metadata": {},
   "outputs": [
    {
     "name": "stdout",
     "output_type": "stream",
     "text": [
      "0 0.0\n",
      "1 0.0698263920953\n",
      "2 0.988101760851\n",
      "3 0.988408030976\n",
      "4 0.997727098729\n",
      "5 0.998238919776\n",
      "6 0.998565636158\n",
      "7 0.998569159428\n",
      "8 0.998610724807\n",
      "9 0.998652377691\n"
     ]
    }
   ],
   "source": [
    "from sklearn.metrics import r2_score\n",
    "\n",
    "for i in range(10):\n",
    "    print(i, r2_score(BC.d, BC.polyfit(degree=i)(BC.x).d))"
   ]
  },
  {
   "cell_type": "markdown",
   "metadata": {},
   "source": [
    "<h3><code>.__add__()</code></h3>"
   ]
  },
  {
   "cell_type": "code",
   "execution_count": 28,
   "metadata": {},
   "outputs": [],
   "source": [
    "# prepare some data\n",
    "x = [1, 2, 3, 4, 5]\n",
    "y = [6, 7, 2, 4, 5]\n",
    "test2 = mesh2d(x, y)\n",
    "x2 = np.arange(0,60)\n",
    "test = mesh2d(x2, np.sin(x2), x_label=\"Mon label\", unit=\"%\")"
   ]
  },
  {
   "cell_type": "code",
   "execution_count": 29,
   "metadata": {},
   "outputs": [
    {
     "data": {
      "text/html": [
       "<div><p><code>mesh2d</code><br /><p><table style=\"border: 0px none;\"><tbody><tr style=\"border:0px none;                border-bottom:1px solid #C0C0C0;background:none;\"><th style=\"border:0px none;                background:none;\" /><th style=\"color:LightGrey;border:0px none;text-align:center;background:none;\">0</th><th style=\"color:LightGrey;border:0px none;text-align:center;background:none;\">1</th><th style=\"color:LightGrey;border:0px none;text-align:center;background:none;\">2</th><th style=\"color:LightGrey;border:0px none;text-align:center;background:none;\">3</th><th style=\"color:LightGrey;border:0px none;text-align:center;background:none;\">4</th><th style=\"color:LightGrey;border:0px none;text-align:center;background:none;\">5</th><th style=\"color:LightGrey;border:0px none;text-align:center;background:none;\">6</th><th style=\"color:LightGrey;border:0px none;text-align:center;background:none;\">7</th><th style=\"color:LightGrey;border:0px none;text-align:center;background:none;\">8</th><th style=\"color:LightGrey;border:0px none;text-align:center;background:none;\">9</th><th style=\"color:LightGrey;border:0px none;text-align:center;background:none;\">10</th><th style=\"color:LightGrey;border:0px none;text-align:center;background:none;\">11</th><th style=\"color:LightGrey;border:0px none;text-align:center;background:none;\">12</th><th style=\"color:LightGrey;border:0px none;text-align:center;background:none;\">13</th><th style=\"color:LightGrey;border:0px none;text-align:center;background:none;\">14</th><th style=\"color:LightGrey;border:0px none;text-align:center;background:none;\">...</th><th style=\"color:LightGrey;border:0px none;text-align:center;background:none;\">59</th></tr><tr><td><b>Label</b><span> [unit]</span></td><td>0</td><td>1</td><td>2</td><td>3</td><td>4</td><td>5</td><td>6</td><td>7</td><td>8</td><td>9</td><td>10</td><td>11</td><td>12</td><td>13</td><td>14</td><td>...</td><td>59</td></tr><tr><td><b>Label</b><span> [%]</span></td><td>5.0</td><td>6.84147098481</td><td>7.90929742683</td><td>2.14112000806</td><td>3.24319750469</td><td>4.04107572534</td><td>5.7205845018</td><td>7.65698659872</td><td>8.98935824662</td><td>9.41211848524</td><td>9.45597888911</td><td>10.0000097934</td><td>11.463427082</td><td>13.4201670368</td><td>14.9906073557</td><td>...</td><td>59.6367380071</td></tr></tbody></table></p></p></div>"
      ],
      "text/plain": [
       "x = mesh1d(d=[ 0,  1,  2,  3,  4,  5,  6,  7,  8,  9, 10, 11, 12, 13, 14, 15, 16,\n",
       "        17, 18, 19, 20, 21, 22, 23, 24, 25, 26, 27, 28, 29, 30, 31, 32, 33,\n",
       "        34, 35, 36, 37, 38, 39, 40, 41, 42, 43, 44, 45, 46, 47, 48, 49, 50,\n",
       "        51, 52, 53, 54, 55, 56, 57, 58, 59], label=\"None\", unit=\"None\")\n",
       "d = array([  5.        ,   6.84147098,   7.90929743,   2.14112001,\n",
       "         3.2431975 ,   4.04107573,   5.7205845 ,   7.6569866 ,\n",
       "         8.98935825,   9.41211849,   9.45597889,  10.00000979,\n",
       "        11.46342708,  13.42016704,  14.99060736,  15.65028784,\n",
       "        15.71209668,  16.03860251,  17.24901275,  19.14987721,\n",
       "        20.91294525,  21.83665564,  21.99114869,  22.1537796 ,\n",
       "        23.09442164,  24.86764825,  26.76255845,  27.95637593,\n",
       "        28.27090579,  28.33636612,  29.01196838,  30.59596235,\n",
       "        32.55142668,  33.99991186,  34.52908269,  34.57181733,\n",
       "        35.00822115,  36.35646187,  38.29636858,  39.96379539,\n",
       "        40.74511316,  40.84137733,  41.08347845,  42.16822526,\n",
       "        44.01770193,  45.85090352,  46.90178835,  47.12357312,\n",
       "        47.23174534,  48.04624735,  49.73762515,  51.67022918,\n",
       "        52.98662759,  53.39592515,  53.44121095,  54.00024483,\n",
       "        55.478449  ,  57.43616476,  58.99287265,  59.63673801])"
      ]
     },
     "execution_count": 29,
     "metadata": {},
     "output_type": "execute_result"
    }
   ],
   "source": [
    "(test + test2)"
   ]
  },
  {
   "cell_type": "code",
   "execution_count": 30,
   "metadata": {},
   "outputs": [
    {
     "data": {
      "text/html": [
       "<div><p><code>mesh2d</code><br /><p><table style=\"border: 0px none;\"><tbody><tr style=\"border:0px none;                border-bottom:1px solid #C0C0C0;background:none;\"><th style=\"border:0px none;                background:none;\" /><th style=\"color:LightGrey;border:0px none;text-align:center;background:none;\">0</th><th style=\"color:LightGrey;border:0px none;text-align:center;background:none;\">1</th><th style=\"color:LightGrey;border:0px none;text-align:center;background:none;\">2</th><th style=\"color:LightGrey;border:0px none;text-align:center;background:none;\">3</th></tr><tr><td><b>Mon label</b><span> [unit]</span></td><td>0</td><td>1</td><td>2</td><td>3</td></tr><tr><td><b>Label</b><span> [unit]</span></td><td>0.0</td><td>0.841470984808</td><td>0.909297426826</td><td>0.14112000806</td></tr></tbody></table></p></p></div>"
      ],
      "text/plain": [
       "x = mesh1d(d=[0, 1, 2, 3], label=\"Mon label\", unit=\"None\")\n",
       "d = array([ 0.        ,  0.84147098,  0.90929743,  0.14112001])"
      ]
     },
     "execution_count": 30,
     "metadata": {},
     "output_type": "execute_result"
    }
   ],
   "source": [
    "test[:4]"
   ]
  },
  {
   "cell_type": "code",
   "execution_count": 31,
   "metadata": {},
   "outputs": [
    {
     "data": {
      "text/html": [
       "<div><p><code>mesh2d</code><br /><p><table style=\"border: 0px none;\"><tbody><tr style=\"border:0px none;                border-bottom:1px solid #C0C0C0;background:none;\"><th style=\"border:0px none;                background:none;\" /><th style=\"color:LightGrey;border:0px none;text-align:center;background:none;\">0</th><th style=\"color:LightGrey;border:0px none;text-align:center;background:none;\">1</th><th style=\"color:LightGrey;border:0px none;text-align:center;background:none;\">2</th><th style=\"color:LightGrey;border:0px none;text-align:center;background:none;\">3</th><th style=\"color:LightGrey;border:0px none;text-align:center;background:none;\">4</th><th style=\"color:LightGrey;border:0px none;text-align:center;background:none;\">5</th><th style=\"color:LightGrey;border:0px none;text-align:center;background:none;\">6</th></tr><tr><td><b>Label</b><span> [unit]</span></td><td>0</td><td>1</td><td>2</td><td>3</td><td>57</td><td>58</td><td>59</td></tr><tr><td><b>Label</b><span> [unit]</span></td><td>-31.2961851364</td><td>-29.8980062588</td><td>-29.2734719239</td><td>-29.4849414499</td><td>-40.90429585</td><td>-41.115765376</td><td>-42.2400774357</td></tr></tbody></table></p></p></div>"
      ],
      "text/plain": [
       "x = mesh1d(d=[ 0,  1,  2,  3, 57, 58, 59], label=\"None\", unit=\"None\")\n",
       "d = array([-31.29618514, -29.89800626, -29.27347192, -29.48494145,\n",
       "       -40.90429585, -41.11576538, -42.24007744])"
      ]
     },
     "execution_count": 31,
     "metadata": {},
     "output_type": "execute_result"
    }
   ],
   "source": [
    "test[-3:] + test[:4]"
   ]
  },
  {
   "cell_type": "code",
   "execution_count": 32,
   "metadata": {},
   "outputs": [
    {
     "data": {
      "text/plain": [
       "[<matplotlib.lines.Line2D at 0x112020588>]"
      ]
     },
     "execution_count": 32,
     "metadata": {},
     "output_type": "execute_result"
    },
    {
     "data": {
      "image/png": "[encoded data removed]",
      "text/plain": [
       "<matplotlib.figure.Figure at 0x11128e780>"
      ]
     },
     "metadata": {},
     "output_type": "display_data"
    }
   ],
   "source": [
    "(test + test2).plot()"
   ]
  },
  {
   "cell_type": "code",
   "execution_count": 33,
   "metadata": {},
   "outputs": [
    {
     "data": {
      "text/plain": [
       "[<matplotlib.lines.Line2D at 0x11209d898>]"
      ]
     },
     "execution_count": 33,
     "metadata": {},
     "output_type": "execute_result"
    },
    {
     "data": {
      "image/png": "[encoded data removed]",
      "text/plain": [
       "<matplotlib.figure.Figure at 0x11128ed68>"
      ]
     },
     "metadata": {},
     "output_type": "display_data"
    }
   ],
   "source": [
    "test.steps.plot()"
   ]
  },
  {
   "cell_type": "code",
   "execution_count": 34,
   "metadata": {},
   "outputs": [
    {
     "data": {
      "text/html": [
       "<div><p><code>mesh2d</code><br /><p><table style=\"border: 0px none;\"><tbody><tr style=\"border:0px none;                border-bottom:1px solid #C0C0C0;background:none;\"><th style=\"border:0px none;                background:none;\" /><th style=\"color:LightGrey;border:0px none;text-align:center;background:none;\">0</th><th style=\"color:LightGrey;border:0px none;text-align:center;background:none;\">1</th><th style=\"color:LightGrey;border:0px none;text-align:center;background:none;\">2</th><th style=\"color:LightGrey;border:0px none;text-align:center;background:none;\">3</th><th style=\"color:LightGrey;border:0px none;text-align:center;background:none;\">4</th><th style=\"color:LightGrey;border:0px none;text-align:center;background:none;\">5</th><th style=\"color:LightGrey;border:0px none;text-align:center;background:none;\">6</th><th style=\"color:LightGrey;border:0px none;text-align:center;background:none;\">7</th><th style=\"color:LightGrey;border:0px none;text-align:center;background:none;\">8</th><th style=\"color:LightGrey;border:0px none;text-align:center;background:none;\">9</th><th style=\"color:LightGrey;border:0px none;text-align:center;background:none;\">10</th><th style=\"color:LightGrey;border:0px none;text-align:center;background:none;\">11</th><th style=\"color:LightGrey;border:0px none;text-align:center;background:none;\">12</th><th style=\"color:LightGrey;border:0px none;text-align:center;background:none;\">13</th><th style=\"color:LightGrey;border:0px none;text-align:center;background:none;\">14</th><th style=\"color:LightGrey;border:0px none;text-align:center;background:none;\">...</th><th style=\"color:LightGrey;border:0px none;text-align:center;background:none;\">59</th></tr><tr><td><b>Mon label</b><span> [unit]</span></td><td>0</td><td>1</td><td>2</td><td>3</td><td>4</td><td>5</td><td>6</td><td>7</td><td>8</td><td>9</td><td>10</td><td>11</td><td>12</td><td>13</td><td>14</td><td>...</td><td>59</td></tr><tr><td><b>Label</b><span> [%]</span></td><td>0.0</td><td>0.841470984808</td><td>0.909297426826</td><td>0.14112000806</td><td>-0.756802495308</td><td>-0.958924274663</td><td>-0.279415498199</td><td>0.656986598719</td><td>0.989358246623</td><td>0.412118485242</td><td>-0.544021110889</td><td>-0.999990206551</td><td>-0.536572918</td><td>0.420167036827</td><td>0.990607355695</td><td>...</td><td>0.636738007139</td></tr></tbody></table></p></p></div>"
      ],
      "text/plain": [
       "x = mesh1d(d=[ 0,  1,  2,  3,  4,  5,  6,  7,  8,  9, 10, 11, 12, 13, 14, 15, 16,\n",
       "        17, 18, 19, 20, 21, 22, 23, 24, 25, 26, 27, 28, 29, 30, 31, 32, 33,\n",
       "        34, 35, 36, 37, 38, 39, 40, 41, 42, 43, 44, 45, 46, 47, 48, 49, 50,\n",
       "        51, 52, 53, 54, 55, 56, 57, 58, 59], label=\"Mon label\", unit=\"None\")\n",
       "d = array([ 0.        ,  0.84147098,  0.90929743,  0.14112001, -0.7568025 ,\n",
       "       -0.95892427, -0.2794155 ,  0.6569866 ,  0.98935825,  0.41211849,\n",
       "       -0.54402111, -0.99999021, -0.53657292,  0.42016704,  0.99060736,\n",
       "        0.65028784, -0.28790332, -0.96139749, -0.75098725,  0.14987721,\n",
       "        0.91294525,  0.83665564, -0.00885131, -0.8462204 , -0.90557836,\n",
       "       -0.13235175,  0.76255845,  0.95637593,  0.27090579, -0.66363388,\n",
       "       -0.98803162, -0.40403765,  0.55142668,  0.99991186,  0.52908269,\n",
       "       -0.42818267, -0.99177885, -0.64353813,  0.29636858,  0.96379539,\n",
       "        0.74511316, -0.15862267, -0.91652155, -0.83177474,  0.01770193,\n",
       "        0.85090352,  0.90178835,  0.12357312, -0.76825466, -0.95375265,\n",
       "       -0.26237485,  0.67022918,  0.98662759,  0.39592515, -0.55878905,\n",
       "       -0.99975517, -0.521551  ,  0.43616476,  0.99287265,  0.63673801])"
      ]
     },
     "execution_count": 34,
     "metadata": {},
     "output_type": "execute_result"
    }
   ],
   "source": [
    "test"
   ]
  },
  {
   "cell_type": "code",
   "execution_count": 35,
   "metadata": {},
   "outputs": [
    {
     "data": {
      "text/html": [
       "<div><p><code>mesh2d</code><br /><p><table style=\"border: 0px none;\"><tbody><tr style=\"border:0px none;                border-bottom:1px solid #C0C0C0;background:none;\"><th style=\"border:0px none;                background:none;\" /><th style=\"color:LightGrey;border:0px none;text-align:center;background:none;\">0</th><th style=\"color:LightGrey;border:0px none;text-align:center;background:none;\">1</th><th style=\"color:LightGrey;border:0px none;text-align:center;background:none;\">2</th><th style=\"color:LightGrey;border:0px none;text-align:center;background:none;\">3</th><th style=\"color:LightGrey;border:0px none;text-align:center;background:none;\">4</th><th style=\"color:LightGrey;border:0px none;text-align:center;background:none;\">5</th><th style=\"color:LightGrey;border:0px none;text-align:center;background:none;\">6</th><th style=\"color:LightGrey;border:0px none;text-align:center;background:none;\">7</th><th style=\"color:LightGrey;border:0px none;text-align:center;background:none;\">8</th><th style=\"color:LightGrey;border:0px none;text-align:center;background:none;\">9</th><th style=\"color:LightGrey;border:0px none;text-align:center;background:none;\">10</th><th style=\"color:LightGrey;border:0px none;text-align:center;background:none;\">11</th><th style=\"color:LightGrey;border:0px none;text-align:center;background:none;\">12</th><th style=\"color:LightGrey;border:0px none;text-align:center;background:none;\">13</th><th style=\"color:LightGrey;border:0px none;text-align:center;background:none;\">14</th><th style=\"color:LightGrey;border:0px none;text-align:center;background:none;\">...</th><th style=\"color:LightGrey;border:0px none;text-align:center;background:none;\">99</th></tr><tr><td><b>Mon label</b><span> [unit]</span></td><td>0.0</td><td>0.606060606061</td><td>1.21212121212</td><td>1.81818181818</td><td>2.42424242424</td><td>3.0303030303</td><td>3.63636363636</td><td>4.24242424242</td><td>4.84848484848</td><td>5.45454545455</td><td>6.06060606061</td><td>6.66666666667</td><td>7.27272727273</td><td>7.87878787879</td><td>8.48484848485</td><td>...</td><td>60.0</td></tr><tr><td><b>Label</b><span> [%]</span></td><td>0.0</td><td>0.509982415035</td><td>0.855858411903</td><td>0.896965346459</td><td>0.58340397644</td><td>0.113910235231</td><td>-0.430285221356</td><td>-0.805801714546</td><td>-0.92829976264</td><td>-0.650056648998</td><td>-0.222663855961</td><td>0.344852566413</td><td>0.747633411784</td><td>0.94907077415</td><td>0.709484422923</td><td>...</td><td>0.280603366194</td></tr></tbody></table></p></p></div>"
      ],
      "text/plain": [
       "x = mesh1d(d=[  0.  ,   0.61,   1.21,   1.82,   2.42,   3.03,   3.64,   4.24,\n",
       "          4.85,   5.45,   6.06,   6.67,   7.27,   7.88,   8.48,   9.09,\n",
       "          9.7 ,  10.3 ,  10.91,  11.52,  12.12,  12.73,  13.33,  13.94,\n",
       "         14.55,  15.15,  15.76,  16.36,  16.97,  17.58,  18.18,  18.79,\n",
       "         19.39,  20.  ,  20.61,  21.21,  21.82,  22.42,  23.03,  23.64,\n",
       "         24.24,  24.85,  25.45,  26.06,  26.67,  27.27,  27.88,  28.48,\n",
       "         29.09,  29.7 ,  30.3 ,  30.91,  31.52,  32.12,  32.73,  33.33,\n",
       "         33.94,  34.55,  35.15,  35.76,  36.36,  36.97,  37.58,  38.18,\n",
       "         38.79,  39.39,  40.  ,  40.61,  41.21,  41.82,  42.42,  43.03,\n",
       "         43.64,  44.24,  44.85,  45.45,  46.06,  46.67,  47.27,  47.88,\n",
       "         48.48,  49.09,  49.7 ,  50.3 ,  50.91,  51.52,  52.12,  52.73,\n",
       "         53.33,  53.94,  54.55,  55.15,  55.76,  56.36,  56.97,  57.58,\n",
       "         58.18,  58.79,  59.39,  60.  ], label=\"Mon label\", unit=\"None\")\n",
       "d = array([ 0.        ,  0.50998242,  0.85585841,  0.89696535,  0.58340398,\n",
       "        0.11391024, -0.43028522, -0.80580171, -0.92829976, -0.65005665,\n",
       "       -0.22266386,  0.34485257,  0.74763341,  0.94907077,  0.70948442,\n",
       "        0.3251967 , -0.25428184, -0.68219356, -0.95853847, -0.76126009,\n",
       "       -0.42060444,  0.15923796,  0.61031381,  0.95603522,  0.80497853,\n",
       "        0.50813766, -0.06046304, -0.53281029, -0.94098858, -0.8402522 ,\n",
       "       -0.58719371, -0.04121525,  0.45047977,  0.91294525,  0.86670912,\n",
       "        0.65730568,  0.14487723, -0.3640988 , -0.84801913, -0.88399365,\n",
       "       -0.71812949, -0.2495073 ,  0.27442561,  0.77430496,  0.8917701 ,\n",
       "        0.76942953,  0.35399308, -0.18220436, -0.69312459, -0.88972928,\n",
       "       -0.81106375, -0.45712801,  0.08817125,  0.60578852,  0.87759772,\n",
       "        0.8429688 ,  0.55761779,  0.00693795, -0.51357603, -0.85514948,\n",
       "       -0.86514586, -0.65409088, -0.10237972,  0.41771891,  0.82222   ,\n",
       "        0.87764784,  0.74511316,  0.19739448, -0.3193891 , -0.77872175,\n",
       "       -0.88056836, -0.80603303, -0.29119868,  0.21969019,  0.72466086,\n",
       "        0.87403299,  0.85462379,  0.3829782 , -0.11965264, -0.66015432,\n",
       "       -0.85819308, -0.89090013, -0.47188328,  0.02023243,  0.58544699,\n",
       "        0.8332223 ,  0.9150273 ,  0.55702582,  0.07768708, -0.50092758,\n",
       "       -0.79931603, -0.9273    , -0.63747929, -0.17329073,  0.40714307,\n",
       "        0.75669354,  0.9281209 ,  0.71228172,  0.49644254,  0.28060337])"
      ]
     },
     "execution_count": 35,
     "metadata": {},
     "output_type": "execute_result"
    }
   ],
   "source": [
    "test.resample(np.linspace(0,60,100))"
   ]
  },
  {
   "cell_type": "code",
   "execution_count": 36,
   "metadata": {},
   "outputs": [
    {
     "data": {
      "text/plain": [
       "(-5, 2)"
      ]
     },
     "execution_count": 36,
     "metadata": {},
     "output_type": "execute_result"
    },
    {
     "data": {
      "image/png": "[encoded data removed]",
      "text/plain": [
       "<matplotlib.figure.Figure at 0x111515a90>"
      ]
     },
     "metadata": {},
     "output_type": "display_data"
    }
   ],
   "source": [
    "plt.figure(figsize=(12,7))\n",
    "test.plot()\n",
    "newX = np.linspace(-10,100,200)\n",
    "test.resample(newX).plot('.', c='b', lw=0.1)\n",
    "plt.ylim(-5, 2)"
   ]
  },
  {
   "cell_type": "markdown",
   "metadata": {},
   "source": [
    "Not implemented"
   ]
  },
  {
   "cell_type": "code",
   "execution_count": 38,
   "metadata": {},
   "outputs": [
    {
     "data": {
      "text/html": [
       "<div><p><code>mesh2d</code><br /><p><table style=\"border: 0px none;\"><tbody><tr style=\"border:0px none;                border-bottom:1px solid #C0C0C0;background:none;\"><th style=\"border:0px none;                background:none;\" /><th style=\"color:LightGrey;border:0px none;text-align:center;background:none;\">0</th><th style=\"color:LightGrey;border:0px none;text-align:center;background:none;\">1</th><th style=\"color:LightGrey;border:0px none;text-align:center;background:none;\">2</th><th style=\"color:LightGrey;border:0px none;text-align:center;background:none;\">3</th><th style=\"color:LightGrey;border:0px none;text-align:center;background:none;\">4</th><th style=\"color:LightGrey;border:0px none;text-align:center;background:none;\">5</th><th style=\"color:LightGrey;border:0px none;text-align:center;background:none;\">6</th><th style=\"color:LightGrey;border:0px none;text-align:center;background:none;\">7</th><th style=\"color:LightGrey;border:0px none;text-align:center;background:none;\">8</th><th style=\"color:LightGrey;border:0px none;text-align:center;background:none;\">9</th><th style=\"color:LightGrey;border:0px none;text-align:center;background:none;\">10</th><th style=\"color:LightGrey;border:0px none;text-align:center;background:none;\">11</th><th style=\"color:LightGrey;border:0px none;text-align:center;background:none;\">12</th><th style=\"color:LightGrey;border:0px none;text-align:center;background:none;\">13</th><th style=\"color:LightGrey;border:0px none;text-align:center;background:none;\">14</th><th style=\"color:LightGrey;border:0px none;text-align:center;background:none;\">...</th><th style=\"color:LightGrey;border:0px none;text-align:center;background:none;\">59</th></tr><tr><td><b>Label</b><span> [unit]</span></td><td>0</td><td>1</td><td>2</td><td>3</td><td>4</td><td>5</td><td>6</td><td>7</td><td>8</td><td>9</td><td>10</td><td>11</td><td>12</td><td>13</td><td>14</td><td>...</td><td>59</td></tr><tr><td><b>Label</b><span> [%]</span></td><td>5.0</td><td>6.84147098481</td><td>7.90929742683</td><td>2.14112000806</td><td>3.24319750469</td><td>4.04107572534</td><td>5.7205845018</td><td>7.65698659872</td><td>8.98935824662</td><td>9.41211848524</td><td>9.45597888911</td><td>10.0000097934</td><td>11.463427082</td><td>13.4201670368</td><td>14.9906073557</td><td>...</td><td>59.6367380071</td></tr></tbody></table></p></p></div>"
      ],
      "text/plain": [
       "x = mesh1d(d=[ 0,  1,  2,  3,  4,  5,  6,  7,  8,  9, 10, 11, 12, 13, 14, 15, 16,\n",
       "        17, 18, 19, 20, 21, 22, 23, 24, 25, 26, 27, 28, 29, 30, 31, 32, 33,\n",
       "        34, 35, 36, 37, 38, 39, 40, 41, 42, 43, 44, 45, 46, 47, 48, 49, 50,\n",
       "        51, 52, 53, 54, 55, 56, 57, 58, 59], label=\"None\", unit=\"None\")\n",
       "d = array([  5.        ,   6.84147098,   7.90929743,   2.14112001,\n",
       "         3.2431975 ,   4.04107573,   5.7205845 ,   7.6569866 ,\n",
       "         8.98935825,   9.41211849,   9.45597889,  10.00000979,\n",
       "        11.46342708,  13.42016704,  14.99060736,  15.65028784,\n",
       "        15.71209668,  16.03860251,  17.24901275,  19.14987721,\n",
       "        20.91294525,  21.83665564,  21.99114869,  22.1537796 ,\n",
       "        23.09442164,  24.86764825,  26.76255845,  27.95637593,\n",
       "        28.27090579,  28.33636612,  29.01196838,  30.59596235,\n",
       "        32.55142668,  33.99991186,  34.52908269,  34.57181733,\n",
       "        35.00822115,  36.35646187,  38.29636858,  39.96379539,\n",
       "        40.74511316,  40.84137733,  41.08347845,  42.16822526,\n",
       "        44.01770193,  45.85090352,  46.90178835,  47.12357312,\n",
       "        47.23174534,  48.04624735,  49.73762515,  51.67022918,\n",
       "        52.98662759,  53.39592515,  53.44121095,  54.00024483,\n",
       "        55.478449  ,  57.43616476,  58.99287265,  59.63673801])"
      ]
     },
     "execution_count": 38,
     "metadata": {},
     "output_type": "execute_result"
    }
   ],
   "source": [
    "test + test2.steps"
   ]
  },
  {
   "cell_type": "code",
   "execution_count": 39,
   "metadata": {},
   "outputs": [
    {
     "data": {
      "text/plain": [
       "array([ -8.41470985,   0.6788442 ,   0.14112001,   0.05132776,\n",
       "         0.63673801,   0.67235147, -10.40343586])"
      ]
     },
     "execution_count": 39,
     "metadata": {},
     "output_type": "execute_result"
    }
   ],
   "source": [
    "test.steps([-10, 2.3, 3, 3.1, 59, 58.9, 90])"
   ]
  },
  {
   "cell_type": "code",
   "execution_count": 40,
   "metadata": {},
   "outputs": [
    {
     "data": {
      "text/html": [
       "<div><p><code>mesh2d</code><br /><p><table style=\"border: 0px none;\"><tbody><tr style=\"border:0px none;                border-bottom:1px solid #C0C0C0;background:none;\"><th style=\"border:0px none;                background:none;\" /><th style=\"color:LightGrey;border:0px none;text-align:center;background:none;\">0</th><th style=\"color:LightGrey;border:0px none;text-align:center;background:none;\">1</th><th style=\"color:LightGrey;border:0px none;text-align:center;background:none;\">2</th><th style=\"color:LightGrey;border:0px none;text-align:center;background:none;\">3</th><th style=\"color:LightGrey;border:0px none;text-align:center;background:none;\">4</th><th style=\"color:LightGrey;border:0px none;text-align:center;background:none;\">5</th><th style=\"color:LightGrey;border:0px none;text-align:center;background:none;\">6</th><th style=\"color:LightGrey;border:0px none;text-align:center;background:none;\">7</th><th style=\"color:LightGrey;border:0px none;text-align:center;background:none;\">8</th><th style=\"color:LightGrey;border:0px none;text-align:center;background:none;\">9</th><th style=\"color:LightGrey;border:0px none;text-align:center;background:none;\">10</th><th style=\"color:LightGrey;border:0px none;text-align:center;background:none;\">11</th><th style=\"color:LightGrey;border:0px none;text-align:center;background:none;\">12</th><th style=\"color:LightGrey;border:0px none;text-align:center;background:none;\">13</th><th style=\"color:LightGrey;border:0px none;text-align:center;background:none;\">14</th><th style=\"color:LightGrey;border:0px none;text-align:center;background:none;\">...</th><th style=\"color:LightGrey;border:0px none;text-align:center;background:none;\">59</th></tr><tr><td><b>Mon label</b><span> [unit]</span></td><td>0</td><td>1</td><td>2</td><td>3</td><td>4</td><td>5</td><td>6</td><td>7</td><td>8</td><td>9</td><td>10</td><td>11</td><td>12</td><td>13</td><td>14</td><td>...</td><td>59</td></tr><tr><td><b>Label</b><span> [%]</span></td><td>0.0</td><td>0.841470984808</td><td>0.909297426826</td><td>0.14112000806</td><td>-0.756802495308</td><td>-0.958924274663</td><td>-0.279415498199</td><td>0.656986598719</td><td>0.989358246623</td><td>0.412118485242</td><td>-0.544021110889</td><td>-0.999990206551</td><td>-0.536572918</td><td>0.420167036827</td><td>0.990607355695</td><td>...</td><td>0.636738007139</td></tr></tbody></table></p></p></div>"
      ],
      "text/plain": [
       "x = mesh1d(d=[ 0,  1,  2,  3,  4,  5,  6,  7,  8,  9, 10, 11, 12, 13, 14, 15, 16,\n",
       "        17, 18, 19, 20, 21, 22, 23, 24, 25, 26, 27, 28, 29, 30, 31, 32, 33,\n",
       "        34, 35, 36, 37, 38, 39, 40, 41, 42, 43, 44, 45, 46, 47, 48, 49, 50,\n",
       "        51, 52, 53, 54, 55, 56, 57, 58, 59], label=\"Mon label\", unit=\"None\")\n",
       "d = array([ 0.        ,  0.84147098,  0.90929743,  0.14112001, -0.7568025 ,\n",
       "       -0.95892427, -0.2794155 ,  0.6569866 ,  0.98935825,  0.41211849,\n",
       "       -0.54402111, -0.99999021, -0.53657292,  0.42016704,  0.99060736,\n",
       "        0.65028784, -0.28790332, -0.96139749, -0.75098725,  0.14987721,\n",
       "        0.91294525,  0.83665564, -0.00885131, -0.8462204 , -0.90557836,\n",
       "       -0.13235175,  0.76255845,  0.95637593,  0.27090579, -0.66363388,\n",
       "       -0.98803162, -0.40403765,  0.55142668,  0.99991186,  0.52908269,\n",
       "       -0.42818267, -0.99177885, -0.64353813,  0.29636858,  0.96379539,\n",
       "        0.74511316, -0.15862267, -0.91652155, -0.83177474,  0.01770193,\n",
       "        0.85090352,  0.90178835,  0.12357312, -0.76825466, -0.95375265,\n",
       "       -0.26237485,  0.67022918,  0.98662759,  0.39592515, -0.55878905,\n",
       "       -0.99975517, -0.521551  ,  0.43616476,  0.99287265,  0.63673801])"
      ]
     },
     "execution_count": 40,
     "metadata": {},
     "output_type": "execute_result"
    }
   ],
   "source": [
    "test.steps"
   ]
  },
  {
   "cell_type": "code",
   "execution_count": 41,
   "metadata": {},
   "outputs": [
    {
     "data": {
      "text/html": [
       "<div><p><code>mesh2d</code><br /><p><table style=\"border: 0px none;\"><tbody><tr style=\"border:0px none;                border-bottom:1px solid #C0C0C0;background:none;\"><th style=\"border:0px none;                background:none;\" /><th style=\"color:LightGrey;border:0px none;text-align:center;background:none;\">0</th><th style=\"color:LightGrey;border:0px none;text-align:center;background:none;\">1</th><th style=\"color:LightGrey;border:0px none;text-align:center;background:none;\">2</th><th style=\"color:LightGrey;border:0px none;text-align:center;background:none;\">3</th><th style=\"color:LightGrey;border:0px none;text-align:center;background:none;\">4</th><th style=\"color:LightGrey;border:0px none;text-align:center;background:none;\">5</th><th style=\"color:LightGrey;border:0px none;text-align:center;background:none;\">6</th><th style=\"color:LightGrey;border:0px none;text-align:center;background:none;\">7</th><th style=\"color:LightGrey;border:0px none;text-align:center;background:none;\">8</th><th style=\"color:LightGrey;border:0px none;text-align:center;background:none;\">9</th><th style=\"color:LightGrey;border:0px none;text-align:center;background:none;\">10</th><th style=\"color:LightGrey;border:0px none;text-align:center;background:none;\">11</th><th style=\"color:LightGrey;border:0px none;text-align:center;background:none;\">12</th><th style=\"color:LightGrey;border:0px none;text-align:center;background:none;\">13</th><th style=\"color:LightGrey;border:0px none;text-align:center;background:none;\">14</th><th style=\"color:LightGrey;border:0px none;text-align:center;background:none;\">...</th><th style=\"color:LightGrey;border:0px none;text-align:center;background:none;\">58</th></tr><tr><td><b>Mon label</b><span> [unit]</span></td><td>0</td><td>1</td><td>2</td><td>3</td><td>4</td><td>5</td><td>6</td><td>7</td><td>8</td><td>9</td><td>10</td><td>11</td><td>12</td><td>13</td><td>14</td><td>...</td><td>58</td></tr><tr><td><b>Label</b><span> [unit]</span></td><td>0.841470984808</td><td>0.0678264420178</td><td>-0.768177418766</td><td>-0.897922503368</td><td>-0.202121779355</td><td>0.679508776464</td><td>0.936402096918</td><td>0.332371647905</td><td>-0.577239761382</td><td>-0.956139596131</td><td>-0.455969095661</td><td>0.46341728855</td><td>0.956739954827</td><td>0.570440318868</td><td>-0.340319515538</td><td>...</td><td>-0.356134640945</td></tr></tbody></table></p></p></div>"
      ],
      "text/plain": [
       "x = mesh1d(d=[ 0,  1,  2,  3,  4,  5,  6,  7,  8,  9, 10, 11, 12, 13, 14, 15, 16,\n",
       "        17, 18, 19, 20, 21, 22, 23, 24, 25, 26, 27, 28, 29, 30, 31, 32, 33,\n",
       "        34, 35, 36, 37, 38, 39, 40, 41, 42, 43, 44, 45, 46, 47, 48, 49, 50,\n",
       "        51, 52, 53, 54, 55, 56, 57, 58], label=\"Mon label\", unit=\"None\")\n",
       "d = array([ 0.84147098,  0.06782644, -0.76817742, -0.8979225 , -0.20212178,\n",
       "        0.67950878,  0.9364021 ,  0.33237165, -0.57723976, -0.9561396 ,\n",
       "       -0.4559691 ,  0.46341729,  0.95673995,  0.57044032, -0.34031952,\n",
       "       -0.93819116, -0.67349418,  0.21041025,  0.90086446,  0.76306804,\n",
       "       -0.07628961, -0.84550695, -0.83736909, -0.05935796,  0.77322661,\n",
       "        0.8949102 ,  0.19381748, -0.68547014, -0.93453967, -0.32439774,\n",
       "        0.58399398,  0.95546433,  0.44848518, -0.47082917, -0.95726536,\n",
       "       -0.56359618,  0.34824072,  0.93990671,  0.66742681, -0.21868223,\n",
       "       -0.90373583, -0.75789888,  0.08474681,  0.84947667,  0.8332016 ,\n",
       "        0.05088482, -0.77821522, -0.89182778, -0.18549799,  0.6913778 ,\n",
       "        0.93260403,  0.31639842, -0.59070244, -0.9547142 , -0.44096612,\n",
       "        0.47820417,  0.95771576,  0.55670789, -0.35613464])"
      ]
     },
     "execution_count": 41,
     "metadata": {},
     "output_type": "execute_result"
    }
   ],
   "source": [
    "test.diff(n=1)"
   ]
  },
  {
   "cell_type": "code",
   "execution_count": 42,
   "metadata": {},
   "outputs": [
    {
     "data": {
      "text/plain": [
       "[<matplotlib.lines.Line2D at 0x1123c3860>]"
      ]
     },
     "execution_count": 42,
     "metadata": {},
     "output_type": "execute_result"
    },
    {
     "data": {
      "image/png": "[encoded data removed]",
      "text/plain": [
       "<matplotlib.figure.Figure at 0x1122734a8>"
      ]
     },
     "metadata": {},
     "output_type": "display_data"
    }
   ],
   "source": [
    "#plt.plot(test.X, test.Y, c=\"b\")\n",
    "newX = np.arange(-10, 10, 0.001)\n",
    "plt.plot(newX, test(newX), \":r\")\n",
    "plt.plot(newX, test.steps(newX), \"-g\")"
   ]
  },
  {
   "cell_type": "code",
   "execution_count": 43,
   "metadata": {},
   "outputs": [
    {
     "data": {
      "text/plain": [
       "array([-8.41470985, -8.41386838, -8.41302691, ..., -0.54115269,\n",
       "       -0.54210883, -0.54306497])"
      ]
     },
     "execution_count": 43,
     "metadata": {},
     "output_type": "execute_result"
    }
   ],
   "source": [
    "test.steps(newX)"
   ]
  },
  {
   "cell_type": "code",
   "execution_count": 44,
   "metadata": {},
   "outputs": [],
   "source": [
    "import random\n",
    "from numba import jit\n",
    "\n",
    "N = 200\n",
    "myMesh = mesh2d(np.arange(N)*5, [random.uniform(2.5, 10.0) for i in range(N)], x_label=\"MON Label\")"
   ]
  },
  {
   "cell_type": "code",
   "execution_count": 45,
   "metadata": {},
   "outputs": [],
   "source": [
    "@jit\n",
    "def _extrapolate(self, X):\n",
    "    \"\"\"\n",
    "    \"\"\"\n",
    "    if X <= self.x[0]:\n",
    "        res = self.d[0] + (X - self.x[0]) *\\\n",
    "            (self.d[1] - self.d[0]) / (self.x[1] - self.x[0])\n",
    "    elif X >= self.x[-1]:\n",
    "        res = self.d[-1] + (x - self.x[-1]) *\\\n",
    "            (self.d[-1] - self.d[-2]) / (self.x[-1] - self.x[-2])\n",
    "    else:\n",
    "        res = np.interp(X, self.x, self.d)\n",
    "    return res"
   ]
  },
  {
   "cell_type": "code",
   "execution_count": 46,
   "metadata": {},
   "outputs": [
    {
     "name": "stdout",
     "output_type": "stream",
     "text": [
      "25 µs ± 2.17 µs per loop (mean ± std. dev. of 7 runs, 10000 loops each)\n"
     ]
    }
   ],
   "source": [
    "%timeit myMesh.extrapolate(255)"
   ]
  },
  {
   "cell_type": "code",
   "execution_count": 47,
   "metadata": {
    "scrolled": true
   },
   "outputs": [
    {
     "name": "stdout",
     "output_type": "stream",
     "text": [
      "118 µs ± 60.8 µs per loop (mean ± std. dev. of 7 runs, 1 loop each)\n"
     ]
    }
   ],
   "source": [
    "%timeit _extrapolate(myMesh, 255)"
   ]
  },
  {
   "cell_type": "code",
   "execution_count": 48,
   "metadata": {},
   "outputs": [
    {
     "data": {
      "text/html": [
       "<div><p><code>mesh1d</code><span>: </span><b>Label</b><span> [unit]</span><br /><p><table style=\"border: 0px none;\"><tbody><tr style=\"border:0px none;                    border-bottom:1px solid #C0C0C0;background:none;\"><th style=\"color:LightGrey;border:0px none;text-align:center;background:none;\">0</th><th style=\"color:LightGrey;border:0px none;text-align:center;background:none;\">1</th><th style=\"color:LightGrey;border:0px none;text-align:center;background:none;\">2</th><th style=\"color:LightGrey;border:0px none;text-align:center;background:none;\">3</th></tr><tr style=\"border: 0px solid\"><td>1.0</td><td>-5.0</td><td>2.0</td><td>1.0</td></tr></tbody></table></p></p></div>"
      ],
      "text/plain": [
       "mesh1d(d=[ 1., -5.,  2.,  1.], label=\"None\", unit=\"None\")"
      ]
     },
     "execution_count": 48,
     "metadata": {},
     "output_type": "execute_result"
    }
   ],
   "source": [
    "np.diff(test2.d) / np.diff(test2.x)"
   ]
  },
  {
   "cell_type": "raw",
   "metadata": {},
   "source": [
    "%timeit myMesh.resample(np.arange(-1000, 2000))"
   ]
  },
  {
   "cell_type": "raw",
   "metadata": {},
   "source": [
    "%timeit np.interp(np.arange(-1000, 2000), myMesh.x, myMesh.d)"
   ]
  },
  {
   "cell_type": "raw",
   "metadata": {},
   "source": [
    "%timeit np.interp(range(3000), myMesh.x, myMesh.d)"
   ]
  },
  {
   "cell_type": "raw",
   "metadata": {},
   "source": [
    "%timeit myMesh(np.arange(-10000, 200000))"
   ]
  },
  {
   "cell_type": "raw",
   "metadata": {},
   "source": [
    "%timeit [myMesh(x) for x in np.arange(-10000, 200000)]"
   ]
  },
  {
   "cell_type": "markdown",
   "metadata": {},
   "source": [
    "## mesh3d"
   ]
  },
  {
   "cell_type": "code",
   "execution_count": 49,
   "metadata": {},
   "outputs": [],
   "source": [
    "m3d = mesh3d(x=np.arange(10), x_label=\"X\", x_unit=\"X unit\",\n",
    "             y=np.arange(10), y_label=\"Y\", y_unit=\"Y unit\",\n",
    "             d=np.random.random((10,10)), label=\"data\", unit=\"data unit\")"
   ]
  },
  {
   "cell_type": "code",
   "execution_count": 50,
   "metadata": {},
   "outputs": [
    {
     "data": {
      "text/html": [
       "<div><p><code>mesh3d: </code><b>data</b><span> [data unit]</span><br /><p><table class=\"mesh3d\" style=\"border:0px none;background:none;\"><tbody><tr style=\"border:0px none;background:none;\"><th colspan=\"3\" style=\"border:0px none;background:none;\" /><th colspan=\"10\" style=\"border:0px none;background:none;\"><b>Y</b><span> [Y unit]</span></th></tr><tr style=\"border:0px none;background:none;\"><th colspan=\"3\" style=\"border:0px none;background:none;\" /><th style=\"color:LightGrey;border:0px none;text-align:center;background:none;\">0</th><th style=\"color:LightGrey;border:0px none;text-align:center;background:none;\">1</th><th style=\"color:LightGrey;border:0px none;text-align:center;background:none;\">2</th><th style=\"color:LightGrey;border:0px none;text-align:center;background:none;\">3</th><th style=\"color:LightGrey;border:0px none;text-align:center;background:none;\">4</th><th style=\"color:LightGrey;border:0px none;text-align:center;background:none;\">5</th><th style=\"color:LightGrey;border:0px none;text-align:center;background:none;\">6</th><th style=\"color:LightGrey;border:0px none;text-align:center;background:none;\">7</th><th style=\"color:LightGrey;border:0px none;text-align:center;background:none;\">8</th><th style=\"color:LightGrey;border:0px none;text-align:center;background:none;\">9</th></tr><tr style=\"border:0px none;background:none;\"><th colspan=\"3\" style=\"border:0px none;background:none;\" /><th>0</th><th>1</th><th>2</th><th>3</th><th>4</th><th>5</th><th>6</th><th>7</th><th>8</th><th>9</th></tr><tr style=\"border: 0px solid\"><th rowspan=\"10\" style=\"border:0px none;background:none;\"><b style=\"border:0px none;background:none;\">X</b><span style=\"border:0px none;background:none;\"> [X unit]</span></th><th style=\"color:LightGrey;border:0px none;text-align:center;background:none;\">0</th><th>0</th><td>0.113155656113</td><td>0.385649644089</td><td>0.0682210816991</td><td>0.0404094246853</td><td>0.899046960785</td><td>0.244238748477</td><td>0.046303794842</td><td>0.974193662811</td><td>0.92754607012</td><td>0.652003406684</td></tr><tr style=\"border: 0px solid\"><th style=\"color:LightGrey;border:0px none;text-align:center;background:none;\">1</th><th>1</th><td>0.583455923772</td><td>0.940640332535</td><td>0.0788614166914</td><td>0.422251020712</td><td>0.537064075296</td><td>0.138809119024</td><td>0.399626752052</td><td>0.432200742533</td><td>0.406177753753</td><td>0.414917764821</td></tr><tr style=\"border: 0px solid\"><th style=\"color:LightGrey;border:0px none;text-align:center;background:none;\">2</th><th>2</th><td>0.835469402385</td><td>0.161012615728</td><td>0.687693180779</td><td>0.929494530588</td><td>0.179167983677</td><td>0.898481878463</td><td>0.683619074599</td><td>0.771309811924</td><td>0.84511705196</td><td>0.555765867733</td></tr><tr style=\"border: 0px solid\"><th style=\"color:LightGrey;border:0px none;text-align:center;background:none;\">3</th><th>3</th><td>0.50395429952</td><td>0.526758957312</td><td>0.826276946517</td><td>0.748054982614</td><td>0.672892323101</td><td>0.940827164653</td><td>0.996633155818</td><td>0.691175572638</td><td>0.933797950688</td><td>0.53630475831</td></tr><tr style=\"border: 0px solid\"><th style=\"color:LightGrey;border:0px none;text-align:center;background:none;\">4</th><th>4</th><td>0.357659752636</td><td>0.287696541775</td><td>0.843057677168</td><td>0.863589418874</td><td>0.448804663977</td><td>0.621903763837</td><td>0.512758397917</td><td>0.152162406896</td><td>0.441652357699</td><td>0.980752647208</td></tr><tr style=\"border: 0px solid\"><th style=\"color:LightGrey;border:0px none;text-align:center;background:none;\">5</th><th>5</th><td>0.706464239997</td><td>0.624651984185</td><td>0.79308580427</td><td>0.0357179882492</td><td>0.940367398865</td><td>0.518630685011</td><td>0.325039113512</td><td>0.0211233738365</td><td>0.167213908276</td><td>0.161319522161</td></tr><tr style=\"border: 0px solid\"><th style=\"color:LightGrey;border:0px none;text-align:center;background:none;\">6</th><th>6</th><td>0.630456881508</td><td>0.521673207777</td><td>0.346730638109</td><td>0.462628405829</td><td>0.478092129302</td><td>0.602023814929</td><td>0.186181586521</td><td>0.30037887193</td><td>0.940531026394</td><td>0.797583680545</td></tr><tr style=\"border: 0px solid\"><th style=\"color:LightGrey;border:0px none;text-align:center;background:none;\">7</th><th>7</th><td>0.807118612979</td><td>0.121922193472</td><td>0.447538101084</td><td>0.0950618603863</td><td>0.0391379938922</td><td>0.547843048452</td><td>0.301229870057</td><td>0.238355526189</td><td>0.962760981944</td><td>0.179835519968</td></tr><tr style=\"border: 0px solid\"><th style=\"color:LightGrey;border:0px none;text-align:center;background:none;\">8</th><th>8</th><td>0.659020893449</td><td>0.887691932334</td><td>0.91280960697</td><td>0.525431787941</td><td>0.158813480563</td><td>0.913191948912</td><td>0.241859372557</td><td>0.489213358419</td><td>0.272272032429</td><td>0.920386941151</td></tr><tr style=\"border: 0px solid\"><th style=\"color:LightGrey;border:0px none;text-align:center;background:none;\">9</th><th>9</th><td>0.862045736359</td><td>0.978016011817</td><td>0.684309167044</td><td>0.563720274115</td><td>0.723896667507</td><td>0.636562149885</td><td>0.399861526802</td><td>0.774513878545</td><td>0.088543547674</td><td>0.323674151387</td></tr></tbody></table></p></p></div>"
      ],
      "text/plain": [
       "<lerp.mesh.mesh3d at 0x114c84550>"
      ]
     },
     "execution_count": 50,
     "metadata": {},
     "output_type": "execute_result"
    }
   ],
   "source": [
    "m3d"
   ]
  },
  {
   "cell_type": "code",
   "execution_count": 51,
   "metadata": {},
   "outputs": [
    {
     "data": {
      "text/plain": [
       "0.46430929632734597"
      ]
     },
     "execution_count": 51,
     "metadata": {},
     "output_type": "execute_result"
    }
   ],
   "source": [
    "m3d(4.5, 5.7)"
   ]
  },
  {
   "cell_type": "markdown",
   "metadata": {},
   "source": [
    "Interpolation"
   ]
  },
  {
   "cell_type": "code",
   "execution_count": 52,
   "metadata": {},
   "outputs": [
    {
     "data": {
      "text/plain": [
       "0.76536365181834043"
      ]
     },
     "execution_count": 52,
     "metadata": {},
     "output_type": "execute_result"
    }
   ],
   "source": [
    "m3d(3.5, 5.6)"
   ]
  },
  {
   "cell_type": "markdown",
   "metadata": {},
   "source": [
    "Call method default : extrapolation above boundaries"
   ]
  },
  {
   "cell_type": "code",
   "execution_count": 53,
   "metadata": {},
   "outputs": [
    {
     "data": {
      "text/plain": [
       "0.34153574169593293"
      ]
     },
     "execution_count": 53,
     "metadata": {},
     "output_type": "execute_result"
    }
   ],
   "source": [
    "m3d(9.1,9.4)"
   ]
  },
  {
   "cell_type": "markdown",
   "metadata": {},
   "source": [
    "As far mesh2d, can be set with options attributes or method call .interpolate"
   ]
  },
  {
   "cell_type": "code",
   "execution_count": 54,
   "metadata": {},
   "outputs": [
    {
     "data": {
      "text/plain": [
       "{'extrapolate': True}"
      ]
     },
     "execution_count": 54,
     "metadata": {},
     "output_type": "execute_result"
    }
   ],
   "source": [
    "m3d.options"
   ]
  },
  {
   "cell_type": "code",
   "execution_count": 55,
   "metadata": {},
   "outputs": [
    {
     "data": {
      "text/plain": [
       "0.3236741513873236"
      ]
     },
     "execution_count": 55,
     "metadata": {},
     "output_type": "execute_result"
    }
   ],
   "source": [
    "m3d.interpolate(9.1,9.4)"
   ]
  },
  {
   "cell_type": "code",
   "execution_count": 56,
   "metadata": {},
   "outputs": [
    {
     "data": {
      "text/html": [
       "<div><p><code>mesh2d</code><br /><p><table style=\"border: 0px none;\"><tbody><tr style=\"border:0px none;                border-bottom:1px solid #C0C0C0;background:none;\"><th style=\"border:0px none;                background:none;\" /><th style=\"color:LightGrey;border:0px none;text-align:center;background:none;\">0</th><th style=\"color:LightGrey;border:0px none;text-align:center;background:none;\">1</th><th style=\"color:LightGrey;border:0px none;text-align:center;background:none;\">2</th><th style=\"color:LightGrey;border:0px none;text-align:center;background:none;\">3</th><th style=\"color:LightGrey;border:0px none;text-align:center;background:none;\">4</th><th style=\"color:LightGrey;border:0px none;text-align:center;background:none;\">5</th><th style=\"color:LightGrey;border:0px none;text-align:center;background:none;\">6</th><th style=\"color:LightGrey;border:0px none;text-align:center;background:none;\">7</th><th style=\"color:LightGrey;border:0px none;text-align:center;background:none;\">8</th><th style=\"color:LightGrey;border:0px none;text-align:center;background:none;\">9</th></tr><tr><td><b>Y</b><span> [Y unit]</span></td><td>0</td><td>1</td><td>2</td><td>3</td><td>4</td><td>5</td><td>6</td><td>7</td><td>8</td><td>9</td></tr><tr><td><b>Label</b><span> [unit]</span></td><td>0.430807026078</td><td>0.407227749543</td><td>0.834667311842</td><td>0.805822200744</td><td>0.560848493539</td><td>0.781365464245</td><td>0.754695776867</td><td>0.421668989767</td><td>0.687725154193</td><td>0.758528702759</td></tr></tbody></table></p></p></div>"
      ],
      "text/plain": [
       "x = mesh1d(d=[0, 1, 2, 3, 4, 5, 6, 7, 8, 9], label=\"Y\", unit=\"Y unit\")\n",
       "d = array([ 0.43080703,  0.40722775,  0.83466731,  0.8058222 ,  0.56084849,\n",
       "        0.78136546,  0.75469578,  0.42166899,  0.68772515,  0.7585287 ])"
      ]
     },
     "execution_count": 56,
     "metadata": {},
     "output_type": "execute_result"
    }
   ],
   "source": [
    "m3d(x=3.5)"
   ]
  },
  {
   "cell_type": "markdown",
   "metadata": {},
   "source": [
    "Slicing"
   ]
  },
  {
   "cell_type": "code",
   "execution_count": 57,
   "metadata": {},
   "outputs": [
    {
     "data": {
      "text/html": [
       "<div><p><code>mesh3d: </code><b>data</b><span> [data unit]</span><br /><p><table class=\"mesh3d\" style=\"border:0px none;background:none;\"><tbody><tr style=\"border:0px none;background:none;\"><th colspan=\"3\" style=\"border:0px none;background:none;\" /><th colspan=\"10\" style=\"border:0px none;background:none;\"><b>Y</b><span> [Y unit]</span></th></tr><tr style=\"border:0px none;background:none;\"><th colspan=\"3\" style=\"border:0px none;background:none;\" /><th style=\"color:LightGrey;border:0px none;text-align:center;background:none;\">0</th><th style=\"color:LightGrey;border:0px none;text-align:center;background:none;\">1</th><th style=\"color:LightGrey;border:0px none;text-align:center;background:none;\">2</th><th style=\"color:LightGrey;border:0px none;text-align:center;background:none;\">3</th><th style=\"color:LightGrey;border:0px none;text-align:center;background:none;\">4</th><th style=\"color:LightGrey;border:0px none;text-align:center;background:none;\">5</th><th style=\"color:LightGrey;border:0px none;text-align:center;background:none;\">6</th><th style=\"color:LightGrey;border:0px none;text-align:center;background:none;\">7</th><th style=\"color:LightGrey;border:0px none;text-align:center;background:none;\">8</th><th style=\"color:LightGrey;border:0px none;text-align:center;background:none;\">9</th></tr><tr style=\"border:0px none;background:none;\"><th colspan=\"3\" style=\"border:0px none;background:none;\" /><th>0</th><th>1</th><th>2</th><th>3</th><th>4</th><th>5</th><th>6</th><th>7</th><th>8</th><th>9</th></tr><tr style=\"border: 0px solid\"><th rowspan=\"3\" style=\"border:0px none;background:none;\"><b style=\"border:0px none;background:none;\">X</b><span style=\"border:0px none;background:none;\"> [X unit]</span></th><th style=\"color:LightGrey;border:0px none;text-align:center;background:none;\">0</th><th>3</th><td>0.50395429952</td><td>0.526758957312</td><td>0.826276946517</td><td>0.748054982614</td><td>0.672892323101</td><td>0.940827164653</td><td>0.996633155818</td><td>0.691175572638</td><td>0.933797950688</td><td>0.53630475831</td></tr><tr style=\"border: 0px solid\"><th style=\"color:LightGrey;border:0px none;text-align:center;background:none;\">1</th><th>4</th><td>0.357659752636</td><td>0.287696541775</td><td>0.843057677168</td><td>0.863589418874</td><td>0.448804663977</td><td>0.621903763837</td><td>0.512758397917</td><td>0.152162406896</td><td>0.441652357699</td><td>0.980752647208</td></tr><tr style=\"border: 0px solid\"><th style=\"color:LightGrey;border:0px none;text-align:center;background:none;\">2</th><th>5</th><td>0.706464239997</td><td>0.624651984185</td><td>0.79308580427</td><td>0.0357179882492</td><td>0.940367398865</td><td>0.518630685011</td><td>0.325039113512</td><td>0.0211233738365</td><td>0.167213908276</td><td>0.161319522161</td></tr></tbody></table></p></p></div>"
      ],
      "text/plain": [
       "<lerp.mesh.mesh3d at 0x114c84940>"
      ]
     },
     "execution_count": 57,
     "metadata": {},
     "output_type": "execute_result"
    }
   ],
   "source": [
    "m3d[3:6]"
   ]
  },
  {
   "cell_type": "markdown",
   "metadata": {},
   "source": [
    "<p><b>Garbage after that point</b></p>"
   ]
  },
  {
   "cell_type": "code",
   "execution_count": null,
   "metadata": {},
   "outputs": [],
   "source": [
    "from scipy import misc\n",
    "from scipy import ndimage\n",
    "# http://www.ndt.net/article/wcndt00/papers/idn360/idn360.htm\n",
    "\n",
    "from PIL import Image\n",
    "from urllib.request import urlopen\n",
    "import io\n",
    "\n",
    "URL = 'https://www.researchgate.net/profile/Robert_Dinnebier/publication/268693474/figure/fig5/AS:268859169046548@1441112429791/Log-log-plot-of-ionic-conductivity-times-temperature-versus-frequency-measured-at.png'\n",
    "\n",
    "with urlopen(URL) as url:\n",
    "    im = misc.imread(io.BytesIO(url.read()))\n",
    "\n",
    "# face = misc.imread(f)"
   ]
  },
  {
   "cell_type": "code",
   "execution_count": null,
   "metadata": {},
   "outputs": [],
   "source": [
    "plt.imshow(im, cmap=plt.cm.gray, vmin=30, vmax=200)\n",
    "plt.axis('off')\n",
    "# plt.contour(im, [50, 200])"
   ]
  },
  {
   "cell_type": "code",
   "execution_count": null,
   "metadata": {
    "scrolled": true
   },
   "outputs": [],
   "source": [
    "sx = ndimage.sobel(im, axis=0, mode='constant')\n",
    "sy = ndimage.sobel(im, axis=1, mode='constant')\n",
    "sob = np.hypot(sx, sy)"
   ]
  },
  {
   "cell_type": "code",
   "execution_count": null,
   "metadata": {},
   "outputs": [],
   "source": [
    "sx = ndimage.sobel(im, axis=0, mode='constant')"
   ]
  },
  {
   "cell_type": "raw",
   "metadata": {},
   "source": [
    "import numpy as np\n",
    "import matplotlib.pyplot as plt\n",
    "from scipy import interpolate\n",
    "\n",
    "x = np.array([[0.12, 0.11, 0.1, 0.09, 0.08],\n",
    "              [0.13, 0.12, 0.11, 0.1, 0.09],\n",
    "              [0.15, 0.14, 0.12, 0.11, 0.1],\n",
    "              [0.17, 0.15, 0.14, 0.12, 0.11],\n",
    "              [0.19, 0.17, 0.16, 0.14, 0.12],\n",
    "              [0.22, 0.19, 0.17, 0.15, 0.13],\n",
    "              [0.24, 0.22, 0.19, 0.16, 0.14],\n",
    "              [0.27, 0.24, 0.21, 0.18, 0.15],\n",
    "              [0.29, 0.26, 0.22, 0.19, 0.16]])\n",
    "\n",
    "\n",
    "y = np.array([[71.64, 78.52, 84.91, 89.35, 97.58],\n",
    "              [66.28, 73.67, 79.87, 85.36, 93.24],\n",
    "              [61.48, 69.31, 75.36, 81.87, 89.35],\n",
    "              [57.61, 65.75, 71.7, 79.1, 86.13],\n",
    "              [55.12, 63.34, 69.32, 77.29, 83.88],\n",
    "              [54.58, 62.54, 68.7, 76.72, 82.92],\n",
    "              [56.58, 63.87, 70.3, 77.69, 83.53],\n",
    "              [61.67, 67.79, 74.41, 80.43, 85.86],\n",
    "              [70.08, 74.62, 80.93, 85.06, 89.84]])\n",
    "\n",
    "\n",
    "plt.figure(figsize = (9, 9))\n",
    "plt.subplot(111)\n",
    "for i in range(5):\n",
    "    x_val = np.linspace(x[0, i], x[-1, i], 100)\n",
    "    x_int = np.interp(x_val, x[:, i], y[:, i])\n",
    "    tck = interpolate.splrep(x[:, i], y[:, i], k = 2, s = 4)\n",
    "    y_int = interpolate.splev(x_val, tck, der = 0)\n",
    "    plt.plot(x[:, i], y[:, i], linestyle = '', marker = 'o')\n",
    "    plt.plot(x_val, y_int, linestyle = ':', linewidth = 0.25, color =  'black')\n",
    "plt.xlabel('X')\n",
    "plt.ylabel('Y')\n",
    "plt.show()"
   ]
  },
  {
   "cell_type": "raw",
   "metadata": {
    "collapsed": true
   },
   "source": [
    "from scipy.interpolate import dfitpack, fitpack"
   ]
  },
  {
   "cell_type": "raw",
   "metadata": {
    "collapsed": true
   },
   "source": [
    "def extrapolate(self, X, Y):\n",
    "    if X <= self.X[0]:\n",
    "        iX = 0\n",
    "    elif X >= self.X[-1]:\n",
    "        iX = -2\n",
    "    else:\n",
    "        iX = np.searchsorted(self.X, X) - 1\n",
    "\n",
    "    if Y <= self.Y[0]:\n",
    "        iY = 0\n",
    "    elif Y >= self.Y[-1]:\n",
    "        iY = -2\n",
    "    else:\n",
    "        iY = np.searchsorted(self.Y, Y) - 1\n",
    "\n",
    "    Z1 = self.W[iX, iY] + (self.W[iX, iY+1] - self.W[iX, iY]) * \\\n",
    "        (Y - self.Y[iY]) / (self.Y[iY+1] - self.Y[iY])\n",
    "    Z2 = self.W[iX+1, iY] + (self.W[iX+1, iY+1] - self.W[iX+1, iY]) * \\\n",
    "        (Y - self.Y[iY]) / (self.Y[iY+1] - self.Y[iY])\n",
    "\n",
    "    return Z1 + (Z2 - Z1) * (X - self.X[iX]) / (self.X[iX+1] - self.X[iX])"
   ]
  },
  {
   "cell_type": "raw",
   "metadata": {
    "collapsed": true
   },
   "source": [
    "def interpolate(self, X, Y):\n",
    "    if X <= self.X[0]:\n",
    "        return np.interp(Y, self.Y, self.W[0])\n",
    "    elif X >= self.X[-1]:\n",
    "        return np.interp(Y, self.Y, self.W[-1])\n",
    "    else:\n",
    "        iX = np.searchsorted(self.X, X) - 1\n",
    "\n",
    "    if Y <= self.Y[0]:\n",
    "        return np.interp(X, self.X, self.W[:,0])\n",
    "    elif Y >= self.Y[-1]:\n",
    "        return np.interp(X, self.X, self.W[:,-1])\n",
    "    else:\n",
    "        iY = np.searchsorted(self.Y, Y) - 1\n",
    "\n",
    "    Z1 = self.W[iX, iY] + (self.W[iX, iY+1] - self.W[iX, iY]) * \\\n",
    "        (Y - self.Y[iY]) / (self.Y[iY+1] - self.Y[iY])\n",
    "    Z2 = self.W[iX+1, iY] + (self.W[iX+1, iY+1] - self.W[iX+1, iY]) * \\\n",
    "        (Y - self.Y[iY]) / (self.Y[iY+1] - self.Y[iY])\n",
    "\n",
    "    return Z1 + (Z2 - Z1) * (X - self.X[iX]) / (self.X[iX+1] - self.X[iX])"
   ]
  },
  {
   "cell_type": "raw",
   "metadata": {},
   "source": [
    "%timeit interpolate(m3d, 15,1)"
   ]
  },
  {
   "cell_type": "raw",
   "metadata": {},
   "source": [
    "np.diff(m3d.W[1:3,2:4], axis=1)"
   ]
  },
  {
   "cell_type": "raw",
   "metadata": {},
   "source": [
    "%timeit np.diff(m3d.W[1:3,2:4], axis=1)"
   ]
  },
  {
   "cell_type": "raw",
   "metadata": {},
   "source": [
    "%timeit m3d.W[1:3,3] - m3d.W[1:3,2]"
   ]
  },
  {
   "cell_type": "raw",
   "metadata": {},
   "source": [
    "np.diff(m3d.W[1:3,2:4], axis=0)"
   ]
  },
  {
   "cell_type": "raw",
   "metadata": {
    "collapsed": true
   },
   "source": [
    "m3d = mesh3d(np.arange(100),np.arange(50),np.random.random((50,100)))"
   ]
  },
  {
   "cell_type": "raw",
   "metadata": {
    "collapsed": true
   },
   "source": [
    "def extrapolate(self, X, Y):\n",
    "        iX = 0\n",
    "        iY = 0\n",
    "\n",
    "        if X <= self.X[0]:\n",
    "            iX = 0\n",
    "        elif X >= self.X[-1]:\n",
    "            iX = -2\n",
    "        else:\n",
    "            iX = np.where(self.X < X)[0][-1]\n",
    "\n",
    "        if Y <= self.Y[0]:\n",
    "            iY = 0\n",
    "        elif Y >= self.Y[-1]:\n",
    "            iY = -2\n",
    "        else:\n",
    "            iY = np.where(self.Y < Y)[0][-1]\n",
    "\n",
    "        Z1 = self.W[iY, iX] + (self.W[iY, iX+1] - self.W[iY, iX]) * \\\n",
    "            (X - self.X[iX]) / (self.X[iX+1] - self.X[iX])\n",
    "        Z2 = self.W[iY+1, iX] + (self.W[iY+1, iX+1] - self.W[iY+1, iX]) * \\\n",
    "            (X - self.X[iX]) / (self.X[iX+1] - self.X[iX])\n",
    "\n",
    "        return Z1 + (Z2 - Z1) * (Y - self.Y[iY]) / (self.Y[iY+1] - self.Y[iY])\n",
    "\n",
    "def extrapolate1(self, _X, _Y):\n",
    "    xNew = np.searchsorted(self.X, _X).clip(1, len(self.X)-1).astype(int)\n",
    "    yNew = np.searchsorted(self.Y, _Y).clip(1, len(self.Y)-1).astype(int)\n",
    "\n",
    "    # 4. Calculate the slope of regions that each X value falls in.\n",
    "    xLo, xHi = xNew - 1, xNew\n",
    "    yLo, yHi = yNew - 1, yNew\n",
    "\n",
    "    x11 = self.X[xLo]\n",
    "    x12 = self.X[xHi]\n",
    "    y11 = self.Y[yLo]\n",
    "    y21 = self.Y[yHi]\n",
    "    w11 = self.W[:,xLo]\n",
    "    w12 = self.W[:,xHi]\n",
    "    \n",
    "    # Note that the following two expressions rely on the specifics of the\n",
    "    # broadcasting semantics.\n",
    "    xSlope = (w12 - w11) / (x12 - x11)\n",
    "\n",
    "    # 5. Calculate the actual value for each entry in X.\n",
    "    yNew = xSlope * (_X - x11) + w11\n",
    "    \n",
    "    w11 = yNew[yLo]\n",
    "    w21 = yNew[yHi]\n",
    "    \n",
    "    ySlope = (w21 - w11) / (y21 - y11)\n",
    "\n",
    "    yNew = ySlope * (_Y - y11) + w11\n",
    "\n",
    "    return np.array(yNew)\n",
    "\n",
    "def extrapolate2(self, X, Y):\n",
    "\n",
    "    iX = -2 if X >= self.X[-1] else \\\n",
    "        np.searchsorted(self.X, X).clip(1, len(self.X)-1).astype(int) - 1\n",
    "\n",
    "    iY = -2 if Y >= self.Y[-1] else \\\n",
    "        np.searchsorted(self.Y, Y).clip(1, len(self.Y)-1).astype(int) - 1\n",
    "\n",
    "    Z1 = self.W[iY, iX] + (self.W[iY, iX+1] - self.W[iY, iX]) * \\\n",
    "        (X - self.X[iX]) / (self.X[iX+1] - self.X[iX])\n",
    "    Z2 = self.W[iY+1, iX] + (self.W[iY+1, iX+1] - self.W[iY+1, iX]) * \\\n",
    "        (X - self.X[iX]) / (self.X[iX+1] - self.X[iX])\n",
    "\n",
    "    return Z1 + (Z2 - Z1) * (Y - self.Y[iY]) / (self.Y[iY+1] - self.Y[iY])"
   ]
  },
  {
   "cell_type": "raw",
   "metadata": {
    "collapsed": true
   },
   "source": [
    "def extrapolate3(self, X, Y):\n",
    "    gc.disable()\n",
    "    st = time.time()\n",
    "\n",
    "\n",
    "    if X <= self.X[0]:\n",
    "        iX = 0\n",
    "    elif X >= self.X[-1]:\n",
    "        iX = -2\n",
    "    else:\n",
    "        iX = np.searchsorted(self.X, X) - 1\n",
    "\n",
    "    if Y <= self.Y[0]:\n",
    "        iY = 0\n",
    "    elif Y >= self.Y[-1]:\n",
    "        iY = -2\n",
    "    else:\n",
    "        iY = np.searchsorted(self.Y, Y) - 1\n",
    "\n",
    "    Z1 = self.W[iY, iX] + (self.W[iY, iX+1] - self.W[iY, iX]) * \\\n",
    "        (X - self.X[iX]) / (self.X[iX+1] - self.X[iX])\n",
    "    Z2 = self.W[iY+1, iX] + (self.W[iY+1, iX+1] - self.W[iY+1, iX]) * \\\n",
    "        (X - self.X[iX]) / (self.X[iX+1] - self.X[iX])\n",
    "\n",
    "    return Z1 + (Z2 - Z1) * (Y - self.Y[iY]) / (self.Y[iY+1] - self.Y[iY])"
   ]
  },
  {
   "cell_type": "raw",
   "metadata": {
    "collapsed": true
   },
   "source": []
  },
  {
   "cell_type": "raw",
   "metadata": {},
   "source": [
    "New mesh"
   ]
  },
  {
   "cell_type": "raw",
   "metadata": {
    "collapsed": true
   },
   "source": [
    "from functools import singledispatch"
   ]
  },
  {
   "cell_type": "raw",
   "metadata": {
    "collapsed": true
   },
   "source": [
    "class newmesh(np.ndarray):\n",
    "\n",
    "    def __new__(cls, data=None, label=None, unit=None):\n",
    "        # We first cast to be our class type\n",
    "        # np.asfarray([], dtype='float64')\n",
    "        @singledispatch\n",
    "        def myArray(o):\n",
    "            if o is None:\n",
    "                o = []\n",
    "            # Will call directly __array_finalize__\n",
    "            obj = np.asarray(o).flatten().view(cls)\n",
    "            obj.label = label\n",
    "            obj.unit = unit\n",
    "            return obj\n",
    "\n",
    "        @myArray.register(mesh1d)\n",
    "        def _(o):\n",
    "            if label is not None:\n",
    "                o.label = label\n",
    "            if unit is not None:\n",
    "                o.unit = unit\n",
    "            return o\n",
    "\n",
    "        return myArray(data)\n",
    "\n",
    "    # see InfoArray.__array_finalize__ for comments\n",
    "    def __array_finalize__(self, obj):\n",
    "        \"\"\"\n",
    "\n",
    "        :type obj: object\n",
    "        \"\"\"\n",
    "        self.unit = getattr(obj, 'unit', None)\n",
    "        self.label = getattr(obj, 'label', None)\n",
    "        \n",
    "    @property\n",
    "    def d(self):\n",
    "        return self[0]\n",
    "\n",
    "    @d.setter\n",
    "    def d(self, obj):\n",
    "        self[0] = obj"
   ]
  },
  {
   "cell_type": "raw",
   "metadata": {
    "collapsed": true
   },
   "source": [
    "test = newmesh([1, 3, 4])"
   ]
  },
  {
   "cell_type": "raw",
   "metadata": {
    "collapsed": true
   },
   "source": [
    "test.d = 5"
   ]
  },
  {
   "cell_type": "raw",
   "metadata": {},
   "source": [
    "test.flags"
   ]
  },
  {
   "cell_type": "markdown",
   "metadata": {},
   "source": [
    "<br/>\n",
    "<paragraph>Source</paragraph>\n",
    "<section>\n",
    " <p id=\"#fn1\"><a href=\"r1\">[1]</a> lerp article on <a href=\"https://en.wikipedia.org/wiki/Linear_interpolation\">Wikipedia</a></p>\n",
    "</section>"
   ]
  }
 ],
 "metadata": {
  "anaconda-cloud": {},
  "kernelspec": {
   "display_name": "Python 3",
   "language": "python",
   "name": "python3"
  },
  "toc": {
   "colors": {
    "hover_highlight": "#DAA520",
    "navigate_num": "#000000",
    "navigate_text": "#333333",
    "running_highlight": "#FF0000",
    "selected_highlight": "#FFD700",
    "sidebar_border": "#EEEEEE",
    "wrapper_background": "#FFFFFF"
   },
   "moveMenuLeft": true,
   "nav_menu": {
    "height": "120px",
    "width": "252px"
   },
   "navigate_menu": true,
   "number_sections": true,
   "sideBar": false,
   "threshold": 4,
   "toc_cell": false,
   "toc_position": {
    "height": "594px",
    "left": "1px",
    "right": "2280px",
    "top": "110px",
    "width": "212px"
   },
   "toc_section_display": "block",
   "toc_window_display": true,
   "widenNotebook": false
  }
 },
 "nbformat": 4,
 "nbformat_minor": 1
}
